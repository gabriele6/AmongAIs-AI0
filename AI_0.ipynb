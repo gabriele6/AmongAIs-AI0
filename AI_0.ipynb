{
  "nbformat": 4,
  "nbformat_minor": 0,
  "metadata": {
    "colab": {
      "name": "AI-0.ipynb",
      "provenance": [],
      "collapsed_sections": [],
      "toc_visible": true
    },
    "kernelspec": {
      "display_name": "Python 3",
      "name": "python3"
    }
  },
  "cells": [
    {
      "cell_type": "markdown",
      "metadata": {
        "id": "EaHxpfAL2Lhw"
      },
      "source": [
        "# **Global**"
      ]
    },
    {
      "cell_type": "code",
      "metadata": {
        "colab": {
          "base_uri": "https://localhost:8080/"
        },
        "id": "tCBkchW8DMWd",
        "outputId": "811b762c-b4c7-40ee-b061-0951870218ba"
      },
      "source": [
        "!pip install pathfinding\n",
        "!pip install stable-baselines\n",
        "!apt install ffmpeg"
      ],
      "execution_count": null,
      "outputs": [
        {
          "output_type": "stream",
          "text": [
            "Collecting pathfinding\n",
            "  Downloading https://files.pythonhosted.org/packages/5c/a0/8678ab2eb9c7e0eee1a7d3d47e136872f6ea0fc293838a2971ff5c7ecbf7/pathfinding-0.0.4-py3-none-any.whl\n",
            "Installing collected packages: pathfinding\n",
            "Successfully installed pathfinding-0.0.4\n",
            "Collecting stable-baselines\n",
            "\u001b[?25l  Downloading https://files.pythonhosted.org/packages/b0/48/d428b79bd4360727925f9fe34afeea7a9da381da3dc8748df834a349ad1d/stable_baselines-2.10.1-py3-none-any.whl (240kB)\n",
            "\u001b[K     |████████████████████████████████| 245kB 5.5MB/s \n",
            "\u001b[?25hRequirement already satisfied: gym[atari,classic_control]>=0.11 in /usr/local/lib/python3.6/dist-packages (from stable-baselines) (0.17.3)\n",
            "Requirement already satisfied: matplotlib in /usr/local/lib/python3.6/dist-packages (from stable-baselines) (3.2.2)\n",
            "Requirement already satisfied: cloudpickle>=0.5.5 in /usr/local/lib/python3.6/dist-packages (from stable-baselines) (1.3.0)\n",
            "Requirement already satisfied: pandas in /usr/local/lib/python3.6/dist-packages (from stable-baselines) (1.1.5)\n",
            "Requirement already satisfied: opencv-python in /usr/local/lib/python3.6/dist-packages (from stable-baselines) (4.1.2.30)\n",
            "Requirement already satisfied: numpy in /usr/local/lib/python3.6/dist-packages (from stable-baselines) (1.19.5)\n",
            "Requirement already satisfied: scipy in /usr/local/lib/python3.6/dist-packages (from stable-baselines) (1.4.1)\n",
            "Requirement already satisfied: joblib in /usr/local/lib/python3.6/dist-packages (from stable-baselines) (1.0.0)\n",
            "Requirement already satisfied: pyglet<=1.5.0,>=1.4.0 in /usr/local/lib/python3.6/dist-packages (from gym[atari,classic_control]>=0.11->stable-baselines) (1.5.0)\n",
            "Requirement already satisfied: atari-py~=0.2.0; extra == \"atari\" in /usr/local/lib/python3.6/dist-packages (from gym[atari,classic_control]>=0.11->stable-baselines) (0.2.6)\n",
            "Requirement already satisfied: Pillow; extra == \"atari\" in /usr/local/lib/python3.6/dist-packages (from gym[atari,classic_control]>=0.11->stable-baselines) (7.0.0)\n",
            "Requirement already satisfied: cycler>=0.10 in /usr/local/lib/python3.6/dist-packages (from matplotlib->stable-baselines) (0.10.0)\n",
            "Requirement already satisfied: kiwisolver>=1.0.1 in /usr/local/lib/python3.6/dist-packages (from matplotlib->stable-baselines) (1.3.1)\n",
            "Requirement already satisfied: python-dateutil>=2.1 in /usr/local/lib/python3.6/dist-packages (from matplotlib->stable-baselines) (2.8.1)\n",
            "Requirement already satisfied: pyparsing!=2.0.4,!=2.1.2,!=2.1.6,>=2.0.1 in /usr/local/lib/python3.6/dist-packages (from matplotlib->stable-baselines) (2.4.7)\n",
            "Requirement already satisfied: pytz>=2017.2 in /usr/local/lib/python3.6/dist-packages (from pandas->stable-baselines) (2018.9)\n",
            "Requirement already satisfied: future in /usr/local/lib/python3.6/dist-packages (from pyglet<=1.5.0,>=1.4.0->gym[atari,classic_control]>=0.11->stable-baselines) (0.16.0)\n",
            "Requirement already satisfied: six in /usr/local/lib/python3.6/dist-packages (from atari-py~=0.2.0; extra == \"atari\"->gym[atari,classic_control]>=0.11->stable-baselines) (1.15.0)\n",
            "Installing collected packages: stable-baselines\n",
            "Successfully installed stable-baselines-2.10.1\n",
            "Reading package lists... Done\n",
            "Building dependency tree       \n",
            "Reading state information... Done\n",
            "ffmpeg is already the newest version (7:3.4.8-0ubuntu0.2).\n",
            "0 upgraded, 0 newly installed, 0 to remove and 16 not upgraded.\n"
          ],
          "name": "stdout"
        }
      ]
    },
    {
      "cell_type": "code",
      "metadata": {
        "colab": {
          "base_uri": "https://localhost:8080/"
        },
        "id": "skpeSbfTR7ax",
        "outputId": "b7b44328-0f5b-4238-e42f-e38d535ac02a"
      },
      "source": [
        "!pip install tensorflow1.14.0"
      ],
      "execution_count": null,
      "outputs": [
        {
          "output_type": "stream",
          "text": [
            "\u001b[31mERROR: Could not find a version that satisfies the requirement tensorflow1.14.0 (from versions: none)\u001b[0m\n",
            "\u001b[31mERROR: No matching distribution found for tensorflow1.14.0\u001b[0m\n"
          ],
          "name": "stdout"
        }
      ]
    },
    {
      "cell_type": "code",
      "metadata": {
        "colab": {
          "base_uri": "https://localhost:8080/"
        },
        "id": "_sqL3fUrvoDQ",
        "outputId": "0eea150c-37e7-48bc-8b6b-c1fdbb162f8d"
      },
      "source": [
        "# General\n",
        "import time\n",
        "import random\n",
        "import string\n",
        "import numpy as np\n",
        "from collections import deque\n",
        "import copy\n",
        "import os\n",
        "import glob\n",
        "\n",
        "# Connection\n",
        "from telnetlib import Telnet\n",
        "\n",
        "# Pathfinding\n",
        "from pathfinding.core.diagonal_movement import DiagonalMovement\n",
        "from pathfinding.core.grid import Grid\n",
        "from pathfinding.finder.a_star import AStarFinder\n",
        "from pathfinding.finder.dijkstra import DijkstraFinder\n",
        "\n",
        "# Q-Learning\n",
        "%tensorflow_version 1.x\n",
        "import gym\n",
        "from gym import spaces\n",
        "from gym import wrappers\n",
        "from tensorflow.python.compiler.tensorrt import trt_convert as trt\n",
        "from stable_baselines.common.policies import MlpPolicy\n",
        "from stable_baselines.common.vec_env import DummyVecEnv\n",
        "from stable_baselines import PPO2\n",
        "from stable_baselines import ACKTR\n",
        "\n",
        "# Keras\n",
        "from tensorflow import keras\n",
        "#from keras.models import Sequential\n",
        "#from keras.layers import Dense\n",
        "#from keras.optimizers import Adam\n",
        "\n",
        "# Matplotlib\n",
        "from matplotlib import pyplot as plt\n",
        "%matplotlib inline "
      ],
      "execution_count": null,
      "outputs": [
        {
          "output_type": "stream",
          "text": [
            "TensorFlow 1.x selected.\n",
            "WARNING:tensorflow:\n",
            "The TensorFlow contrib module will not be included in TensorFlow 2.0.\n",
            "For more information, please see:\n",
            "  * https://github.com/tensorflow/community/blob/master/rfcs/20180907-contrib-sunset.md\n",
            "  * https://github.com/tensorflow/addons\n",
            "  * https://github.com/tensorflow/io (for I/O related ops)\n",
            "If you depend on functionality not listed there, please file an issue.\n",
            "\n"
          ],
          "name": "stdout"
        }
      ]
    },
    {
      "cell_type": "code",
      "metadata": {
        "id": "Kb6pZ7-UfHR0"
      },
      "source": [
        "# Global variables\n",
        "nMaps = 20                          # number of maps to save\n",
        "listOfMaps = deque(maxlen=nMaps)    # a list of the latest maps\n",
        "tempMap = deque(maxlen=1)\n",
        "host = 'margot.di.unipi.it'\n",
        "serverPort = 8421\n",
        "chatPort = 8422\n",
        "train_timer = 0.005\n",
        "timer = 0.5\n",
        "ai_timer = 0.3\n",
        "\n",
        "# version\n",
        "#{group-number}-{ai-version}\n",
        "ai_version = '0.52'"
      ],
      "execution_count": null,
      "outputs": []
    },
    {
      "cell_type": "markdown",
      "metadata": {
        "id": "1kjPDDYHxVW8"
      },
      "source": [
        "# **Communication**\n",
        "\n",
        "\n"
      ]
    },
    {
      "cell_type": "code",
      "metadata": {
        "id": "pIdhpAfzwwQ4"
      },
      "source": [
        "class CommunicationHandler:\n",
        "\n",
        "  def __init__(self, host, port):\n",
        "    self.host = host\n",
        "    self.port = port\n",
        "    self.tn = self.connect(host, port)\n",
        "\n",
        "    self.lastAction = time.time()\n",
        "    self.timer = timer  # how many seconds do I have to wait before performing another action?\n",
        "\n",
        "\n",
        "  def connect(self, host, port):\n",
        "    tn = Telnet(host, port)\n",
        "    # TODO: controlla connessione\n",
        "    print('Connected!')\n",
        "    return tn\n",
        "\n",
        "\n",
        "  def createGame(self, matchName, params=''):\n",
        "    #if ('T' in params):\n",
        "    #  self.timer = train_timer\n",
        "\n",
        "    # sleep until I can send another command\n",
        "    currentTime = time.time()\n",
        "    sleepingTime = self.timer - (currentTime - self.lastAction)\n",
        "    if (sleepingTime<0):\n",
        "      sleepingTime=0\n",
        "    time.sleep(sleepingTime)\n",
        "\n",
        "    # Creating the new game\n",
        "    command = 'NEW ' + matchName + ' ' + params + '\\n'\n",
        "    self.tn.write(command.encode('utf8'))\n",
        "    res = self.tn.read_until('\\n'.encode('utf8')).decode('utf8').split(' ')\n",
        "    print('[CREATE] ' + res[0])\n",
        "\n",
        "    # Update last action performed's timestamp\n",
        "    self.lastAction = time.time()\n",
        "    return res\n",
        "\n",
        "\n",
        "  def joinGame(self, matchName, playerName, train=False, observer=False):\n",
        "    self.matchName = matchName\n",
        "    self.playerName = playerName\n",
        "    command = matchName + ' JOIN ' + playerName + ' AI _ AI0-' + ai_version + '\\n'\n",
        "    if (observer):\n",
        "      command = matchName + ' JOIN ' + playerName + ' O -\\n'\n",
        "\n",
        "    # sleep until I can send another command\n",
        "    currentTime = time.time()\n",
        "    sleepingTime = self.timer - (currentTime - self.lastAction)\n",
        "    if (sleepingTime<0):\n",
        "      sleepingTime=0\n",
        "    time.sleep(sleepingTime)\n",
        "\n",
        "    if (train or observer):\n",
        "      self.timer = train_timer\n",
        "    else:\n",
        "      self.timer = ai_timer\n",
        "\n",
        "    # Joining game\n",
        "    self.tn.write(command.encode('utf8'))\n",
        "    # TODO: ADD CONTROLS\n",
        "    res = self.tn.read_until('\\n'.encode('utf8')).decode('utf8').split(' ')\n",
        "    print('[JOIN] ' + res[0])\n",
        "\n",
        "    # Update last action performed's timestamp\n",
        "    self.lastAction = time.time()\n",
        "    return res\n",
        "\n",
        "\n",
        "  def startGame(self):\n",
        "    command = self.matchName + ' START\\n'\n",
        "\n",
        "    # sleep until I can send another command\n",
        "    currentTime = time.time()\n",
        "    sleepingTime = self.timer - (currentTime - self.lastAction)\n",
        "    if (sleepingTime<0):\n",
        "      sleepingTime=0\n",
        "    time.sleep(sleepingTime)\n",
        "\n",
        "    # Starting game\n",
        "    self.tn.write(command.encode('utf8'))\n",
        "    # TODO: ADD CONTROLS\n",
        "    res = self.tn.read_until('\\n'.encode('utf8')).decode('utf8').split(' ')\n",
        "    print('[START] ' + res[0])\n",
        "\n",
        "    # Update last action performed's timestamp\n",
        "    self.lastAction = time.time()\n",
        "    return res\n",
        "    \n",
        "\n",
        "  def getMap(self):\n",
        "    command = self.matchName + ' LOOK' + '\\n'\n",
        "    #self.tn.read_very_lazy()\n",
        "\n",
        "    # sleep until I can send another command\n",
        "    currentTime = time.time()\n",
        "    sleepingTime = self.timer - (currentTime - self.lastAction)\n",
        "    if (sleepingTime<0):\n",
        "      sleepingTime=0\n",
        "    time.sleep(sleepingTime)\n",
        "\n",
        "    # Getting the map\n",
        "    self.tn.write(command.encode('utf8'))\n",
        "    message = self.tn.read_until('»\\n'.encode('utf8')).decode('utf8')\n",
        "    if ('ERROR' in message):\n",
        "      return -1\n",
        "    res = message.split('OK LONG\\n')\n",
        "\n",
        "    # Update last action performed's timestamp\n",
        "    self.lastAction = time.time()\n",
        "\n",
        "    tempMap.append(res[1])\n",
        "    return toMatrix(res[1])\n",
        "\n",
        "\n",
        "  def getStatus(self):\n",
        "    command = self.matchName + ' STATUS' + '\\n'\n",
        "    #self.tn.read_very_lazy()\n",
        "\n",
        "    # sleep until I can send another command\n",
        "    currentTime = time.time()\n",
        "    sleepingTime = self.timer - (currentTime - self.lastAction)\n",
        "    if (sleepingTime<0):\n",
        "      sleepingTime=0\n",
        "    time.sleep(sleepingTime)\n",
        "\n",
        "    # Getting the status\n",
        "    self.tn.write(command.encode('utf8'))\n",
        "    message = self.tn.read_until('»\\n'.encode('utf8')).decode('utf8')\n",
        "    if ('ERROR' in message):\n",
        "      return -1\n",
        "    res = message.split('OK LONG\\n')\n",
        "\n",
        "    # Update last action performed's timestamp\n",
        "    self.lastAction = time.time()\n",
        "    return res[1].split('«ENDOFSTATUS»')[0]\n",
        "\n",
        "\n",
        "  def move(self, direction): #command eg: MOVE S\n",
        "    command = self.matchName + ' MOVE ' + direction + '\\n'\n",
        "\n",
        "    # sleep until I can send another command\n",
        "    currentTime = time.time()\n",
        "    sleepingTime = self.timer - (currentTime - self.lastAction)\n",
        "    if (sleepingTime<0):\n",
        "      sleepingTime=0\n",
        "    time.sleep(sleepingTime)\n",
        "\n",
        "    # Moving\n",
        "    self.tn.write(command.encode('utf8'))\n",
        "    res = self.tn.read_until('\\n'.encode('utf8')).decode('utf8').split(' ')\n",
        "    print('[MOVE-' + direction + '] ' + res[0])\n",
        "\n",
        "    # Update last action performed's timestamp\n",
        "    self.lastAction = time.time()\n",
        "    return res\n",
        "\n",
        "\n",
        "  def shoot(self, direction): #command eg: MOVE S\n",
        "    command = self.matchName + ' SHOOT ' + direction + '\\n'\n",
        "\n",
        "    # sleep until I can send another command\n",
        "    currentTime = time.time()\n",
        "    sleepingTime = self.timer - (currentTime - self.lastAction)\n",
        "    if (sleepingTime<0):\n",
        "      sleepingTime=0\n",
        "    time.sleep(sleepingTime)\n",
        "\n",
        "    # Shooting\n",
        "    self.tn.write(command.encode('utf8'))\n",
        "    res = self.tn.read_until('\\n'.encode('utf8')).decode('utf8').split('\\n')[0].split(' ')\n",
        "    print('[SHOOT-' + direction + '] ' + res[0])\n",
        "\n",
        "    # Update last action performed's timestamp\n",
        "    self.lastAction = time.time()\n",
        "    return res\n",
        "    \n",
        "  def sendNOP(self): #NOTA: NON FUNZIONA! 10s delay!\n",
        "    command = self.matchName + ' NOP\\n'\n",
        "\n",
        "    # sleep until I can send another command\n",
        "    currentTime = time.time()\n",
        "    sleepingTime = self.timer - (currentTime - self.lastAction)\n",
        "    if (sleepingTime<0):\n",
        "      sleepingTime=0\n",
        "    time.sleep(sleepingTime)\n",
        "\n",
        "    # Send NOP\n",
        "    self.tn.write(command.encode('utf8'))\n",
        "    res = self.tn.read_until('\\n'.encode('utf8')).decode('utf8').split(' ')\n",
        "    print('[NOP] ' + res[0])\n",
        "\n",
        "    # Update last action performed's timestamp\n",
        "    self.lastAction = time.time()\n",
        "    return res\n",
        "\n",
        "  def accuse(self, playerName):\n",
        "    command = self.matchName + ' ACCUSE ' + playerName + '\\n'\n",
        "\n",
        "    # sleep until I can send another command\n",
        "    currentTime = time.time()\n",
        "    sleepingTime = self.timer - (currentTime - self.lastAction)\n",
        "    if (sleepingTime<0):\n",
        "      sleepingTime=0\n",
        "    time.sleep(sleepingTime)\n",
        "\n",
        "    # Accusing\n",
        "    self.tn.write(command.encode('utf8'))\n",
        "    res = self.tn.read_until('\\n'.encode('utf8')).decode('utf8').split(' ')\n",
        "    print('[ACCUSE-' + playerName + '] ' + res[0])\n",
        "\n",
        "    # Update last action performed's timestamp\n",
        "    self.lastAction = time.time()\n",
        "    return res\n",
        "\n",
        "  def judge(self, playerName, nature):\n",
        "    command = self.matchName + ' JUDGE ' + playerName + ' ' + nature + '\\n'\n",
        "\n",
        "    # sleep until I can send another command\n",
        "    currentTime = time.time()\n",
        "    sleepingTime = self.timer - (currentTime - self.lastAction)\n",
        "    if (sleepingTime<0):\n",
        "      sleepingTime=0\n",
        "    time.sleep(sleepingTime)\n",
        "\n",
        "    # Judge\n",
        "    self.tn.write(command.encode('utf8'))\n",
        "    res = self.tn.read_until('\\n'.encode('utf8')).decode('utf8').split(' ')\n",
        "    print('[JUDGE-' + playerName + '] ' + res[0])\n",
        "\n",
        "    # Update last action performed's timestamp\n",
        "    self.lastAction = time.time()\n",
        "    return res\n",
        "\n"
      ],
      "execution_count": null,
      "outputs": []
    },
    {
      "cell_type": "markdown",
      "metadata": {
        "id": "bnqJPoXl2eE5"
      },
      "source": [
        "# Chat System"
      ]
    },
    {
      "cell_type": "code",
      "metadata": {
        "id": "szIz5qQlF3Wu"
      },
      "source": [
        "# phrase list\r\n",
        "CHAT_DICTIONARY = {\r\n",
        "  'salute': ['hi', 'hello', 'hi there', 'hello guys', 'good evening', 'glhf', 'hello there', 'don\\'t feed please'],\r\n",
        "  'victory' : ['too easy', 'nice game!', 'ggez', 'ez', 'another one?'],\r\n",
        "  'defeat' : ['whatever', 'ggwp', 'report my team please', 'wtf', 'hacker!!', 'LAAAAAG', 'great job', 'another one?'],\r\n",
        "  'attack' : ['let\\'s attack!', 'let\\'s go forward', 'attack them!', 'let\\'s go guys!'],\r\n",
        "  'defend' : ['come at me!', 'i\\'ll defend the flag', 'defending flag', 'defending', 'def here', 'going to base'],\r\n",
        "  'kill' : ['rush B', 'burn \\'em all!', 'gonna kill you all'],\r\n",
        "  'hide' : ['let\\'s wait here', 'guys, play safe', 'waiting for them']\r\n",
        "} \r\n"
      ],
      "execution_count": null,
      "outputs": []
    },
    {
      "cell_type": "code",
      "metadata": {
        "id": "6O4AFHTr2jYy"
      },
      "source": [
        "class Chat:\n",
        "  def __init__(self, host, port, player):\n",
        "    self.host = host\n",
        "    self.port = port\n",
        "    self.tn = self.connect(host, port, player)\n",
        "\n",
        "  def connect(self, host, port, player):\n",
        "    tn = Telnet(host, port)\n",
        "    # TODO: controlla connessione\n",
        "\n",
        "    # Connecting to the game chat\n",
        "    command = 'NAME ' + player.name + '\\n' #TODO: use real name\n",
        "    tn.write(command.encode('utf8'))\n",
        "\n",
        "    print('Connected!')\n",
        "    return tn\n",
        "\n",
        "  '''\n",
        "  TODO: Should also join\n",
        "    #GLOBAL for system-wide message (e.g., shutting down the server)\n",
        "    #CHAT for Chat Server announcements\n",
        "    #LEAGUE for League Manager announcements\n",
        "    #LOGS for Log Manager announcements\n",
        "    #DATA for Data Analysis announcements\n",
        "    #STREAM\n",
        "  '''\n",
        "  def join(self, channel, team):\n",
        "    #self.playerName = playerName\n",
        "    #TODO: save channels in a list\n",
        "    self.team = team\n",
        "    if (team == 1):\n",
        "      self.teamChannelName = channel + ':1'\n",
        "      self.enemyChannelName = channel + ':0'\n",
        "    else:\n",
        "      self.teamChannelName = channel + ':0'\n",
        "      self.enemyChannelName = channel + ':1'\n",
        "\n",
        "    # Joining channels\n",
        "    self.tn.write(('JOIN '+channel+'\\n').encode('utf8'))\n",
        "    self.tn.write(('JOIN '+self.teamChannelName+'\\n').encode('utf8'))\n",
        "    self.tn.write(('JOIN '+self.enemyChannelName+'\\n').encode('utf8'))\n",
        "    \n",
        "    \n",
        "    return True\n",
        "\n",
        "  def leave(self, channel):\n",
        "    self.tn.write(('LEAVE '+channel).encode('utf8'))\n",
        "    \n",
        "    return True\n",
        "\n",
        "  def post(self, channel, text):\n",
        "    command = 'POST ' + channel + ' ' + text + '\\n'\n",
        "    self.tn.write(command.encode('utf8'))\n",
        "\n",
        "    return True\n",
        "\n",
        "  def readChat(self, timeout=None):\n",
        "    # matchName @GameServer message\n",
        "\n",
        "    res = self.tn.read_until('\\n'.encode('utf8'), timeout=timeout).decode('utf8')\n",
        "\n",
        "    return res\n"
      ],
      "execution_count": null,
      "outputs": []
    },
    {
      "cell_type": "markdown",
      "metadata": {
        "id": "0GNuTs_88zEE"
      },
      "source": [
        "# **Status**"
      ]
    },
    {
      "cell_type": "code",
      "metadata": {
        "id": "DOrbKv_itpku"
      },
      "source": [
        "class Player:\n",
        "\n",
        "  def __init__(self, symbol, name, team, posX=-1, posY=-1):\n",
        "    self.symbol = symbol\n",
        "    self.name = name\n",
        "    self.team = team\n",
        "    self.loyalty = self.team #for the other players\n",
        "    self.energy = -1\n",
        "    self.score = -1\n",
        "    self.posX = posX\n",
        "    self.posY = posY\n",
        "    self.alive = True \n",
        "    self.posHistory = [] #TODO: use queue\n",
        "    self.posHistory.append((posY,posX))\n",
        "    if (symbol.islower()):\n",
        "      self.myFlag = 'x'\n",
        "      self.enemyFlag = 'X'\n",
        "    else:\n",
        "      self.myFlag = 'X'\n",
        "      self.enemyFlag = 'x'\n",
        "\n",
        "\n",
        "  def addInfo(self, energy, score, loyalty):\n",
        "    self.energy = energy\n",
        "    self.score = score\n",
        "    self.loyalty = loyalty\n",
        "    if (self.loyalty != self.team):\n",
        "      self.myFlag, self.enemyFlag = self.enemyFlag, self.myFlag\n",
        "\n",
        "  def updateLoyalty(self, val):\n",
        "    if (self.loyalty != val):\n",
        "      self.loyalty = val\n",
        "      self.myFlag, self.enemyFlag = self.enemyFlag, self.myFlag\n",
        "\n",
        "  def lastPosition(self, posX, posY):\n",
        "    self.posX = int(posX)\n",
        "    self.posY = int(posY)\n",
        "    self.posHistory.append((posY, posX))\n",
        "\n",
        "  def setFlagDistance(self, dist):\n",
        "    self.distFromFlag = dist\n",
        "\n",
        "  def printInfo(self):\n",
        "    if (self.score == -1):\n",
        "      print('sym=' + self.symbol + ', team='+ self.team)\n",
        "    else:\n",
        "      print('sym=' + self.symbol + ', team='+ self.team + ', loy='+ self.loyalty + ', ene='+ str(self.energy) + ', sco='+ str(self.score))\n"
      ],
      "execution_count": null,
      "outputs": []
    },
    {
      "cell_type": "code",
      "metadata": {
        "id": "6kM3gPSf8ySX"
      },
      "source": [
        "# Extracts informations about the player from the getStatus command\n",
        "def extractMyInfo(status):\n",
        "  playerInfo = status.split('ME: ')[1]\n",
        "  symbol = playerInfo.split('symbol=')[1][0]\n",
        "  name = playerInfo.split('name=')[1].split(' ')[0]\n",
        "  team = int(playerInfo.split('team=')[1][0])\n",
        "  loyalty = int(playerInfo.split('loyalty=')[1][0])\n",
        "  energy = int(playerInfo.split('energy=')[1].split(' ')[0])\n",
        "  score = int(playerInfo.split('score=')[1].split('\\n')[0])\n",
        "\n",
        "  stat = status.split('PL: ')[1:]\n",
        "  for line in stat:\n",
        "    playerSymbol = line.split('symbol=')[1][0]\n",
        "    if (symbol == playerSymbol):\n",
        "      posX = int(line.split('x=')[1].split(' ')[0])\n",
        "      posY = int(line.split('y=')[1].split(' ')[0])\n",
        "      break\n",
        "  \n",
        "  myPlayer = Player(symbol, name, team, posX, posY)\n",
        "  myPlayer.addInfo(energy, score, loyalty)\n",
        "\n",
        "  return myPlayer\n",
        "\n",
        "# Returns the state of the game (LOBBY, FINISHED, ...)\n",
        "def gameState(status):\n",
        "  return status.split('state=')[1].split(' ')[0]\n",
        "\n",
        "# Extracts info about ANY player\n",
        "def extractPlayerInfo(status):\n",
        "  playersStatus = status.split('PL: ')[1:]\n",
        "  players = {}\n",
        "  for line in playersStatus:\n",
        "    #print(player)\n",
        "    symbol = line.split('symbol=')[1][0]\n",
        "    name = line.split('name=')[1].split(' ')[0]\n",
        "    team = int(line.split('team=')[1][0])\n",
        "    posX = int(line.split('x=')[1].split(' ')[0])\n",
        "    posY = int(line.split('y=')[1].split(' ')[0])\n",
        "    state = line.split('state=')[1].split('/n')[0]\n",
        "    #TODO: status: Alive/Dead/Disconnected\n",
        "    if (symbol != myPlayer.symbol):\n",
        "      players[symbol] = Player(symbol, name, team, posX, posY)\n",
        "      if ('ACTIVE' not in state and 'LOBBYGUEST' not in state):\n",
        "        players[symbol].alive = False\n",
        "    else:\n",
        "      myPlayer.lastPosition(posX, posY)\n",
        "\n",
        "  return players\n",
        "\n",
        "def updateMapFromStatus(map, myPlayer, players):\n",
        "  #myPlayer = extractMyInfo(status)\n",
        "  #p_list = extractPlayerInfo(status)\n",
        "  #p_list = updatePlayerPosition(status, p_list)\n",
        "  for player in players.values():\n",
        "    p_posX, p_posY = player.posX, player.posY\n",
        "    oldY, oldX = findOnMap(map, player.symbol)\n",
        "    map[oldY][oldX] = '.' # putting some grass\n",
        "    map[p_posY][p_posX] = player.symbol\n",
        "  \n",
        "  p_posX, p_posY = myPlayer.posX, myPlayer.posY\n",
        "  #print(f'pos:({p_posX},{p_posY})')\n",
        "  oldY, oldX = findOnMap(map, myPlayer.symbol)\n",
        "  map[oldY][oldX] = '.' # putting some grass\n",
        "  map[p_posY][p_posX] = myPlayer.symbol\n",
        "\n",
        "  return map\n",
        "\n",
        "\n",
        "def updatePlayerPosition(status, players):\n",
        "  playersStatus = status.split('PL: ')[1:]\n",
        "  for line in playersStatus:\n",
        "    symbol = line.split('symbol=')[1][0]\n",
        "    posX = line.split('x=')[1].split(' ')[0]\n",
        "    posY = line.split('y=')[1].split(' ')[0]\n",
        "    state = line.split('state=')[1].split('/n')[0]\n",
        "    if (symbol != myPlayer.symbol):\n",
        "      players[symbol].lastPosition(posX, posY)\n",
        "      if ('ACTIVE' not in state and 'LOBBYGUEST' not in state):\n",
        "        players[symbol].alive = False\n",
        "    else:\n",
        "      myPlayer.lastPosition(posX, posY)\n",
        "      if ('ACTIVE' not in state and 'LOBBYGUEST' not in state):\n",
        "        myPlayer.alive = False\n",
        "\n",
        "  return players\n",
        "\n"
      ],
      "execution_count": null,
      "outputs": []
    },
    {
      "cell_type": "markdown",
      "metadata": {
        "id": "60msQHoEQbXx"
      },
      "source": [
        "# **Map Handler**"
      ]
    },
    {
      "cell_type": "code",
      "metadata": {
        "id": "1lc4sSXVy6Nw",
        "colab": {
          "base_uri": "https://localhost:8080/",
          "height": 72
        },
        "outputId": "c2d8692e-e737-4d43-b2dc-1c4c3de585f1"
      },
      "source": [
        "# Terrains in the game\n",
        "\"\"\"\n",
        ". grass, freely walkable, allow shooting\n",
        "# wall, not walkable, stops shoots\n",
        "~ river, walkable, cannot shoot while on it, allow shooting through it\n",
        "@ ocean, not walkable, allow shooting through it\n",
        "! trap, will subtract energy from player if walked on, allow shooting through it\n",
        "\"\"\""
      ],
      "execution_count": null,
      "outputs": [
        {
          "output_type": "execute_result",
          "data": {
            "application/vnd.google.colaboratory.intrinsic+json": {
              "type": "string"
            },
            "text/plain": [
              "'\\n. grass, freely walkable, allow shooting\\n# wall, not walkable, stops shoots\\n~ river, walkable, cannot shoot while on it, allow shooting through it\\n@ ocean, not walkable, allow shooting through it\\n! trap, will subtract energy from player if walked on, allow shooting through it\\n'"
            ]
          },
          "metadata": {
            "tags": []
          },
          "execution_count": 10
        }
      ]
    },
    {
      "cell_type": "code",
      "metadata": {
        "id": "KTrMmcQtcasG"
      },
      "source": [
        "# values for map handling\n",
        "flag_value = 2\n",
        "factor = 8"
      ],
      "execution_count": null,
      "outputs": []
    },
    {
      "cell_type": "code",
      "metadata": {
        "id": "_Kb5MM6nEk4f"
      },
      "source": [
        "# Converts map from string to char matrix\n",
        "def toMatrix(map):\n",
        "  matrix = list(map.split('\\n')[:-2])\n",
        "  newMap = []\n",
        "  for row in matrix:\n",
        "    newMap.append(list(row))\n",
        "  listOfMaps.append(newMap)\n",
        "  return newMap\n",
        "\n",
        "# Converts symbols into numbers for A*\n",
        "# <=0 obstacles\n",
        "# >0  cost to pass through\n",
        "def prepareMap(map, player):\n",
        "  # TODO: it's converting the matrix in-place\n",
        "  #map = toMatrix(map)\n",
        "  for row in range(len(map)):\n",
        "    for col in range(len(map[row])):\n",
        "      if (map[row][col] == '#'): #wall\n",
        "        map[row][col] = -1\n",
        "      elif (map[row][col] == '.'): #grass\n",
        "        map[row][col] = 1\n",
        "      elif (map[row][col] == '~'): #river\n",
        "        map[row][col] = 1.1\n",
        "      elif (map[row][col] == '@'): #ocean\n",
        "        map[row][col] = -3\n",
        "      elif (map[row][col] == '!'): #trap\n",
        "        map[row][col] = 5\n",
        "      elif (map[row][col] == '$'): #energy recharge\n",
        "        map[row][col] = 1\n",
        "      elif (map[row][col] == '&'): #barrier\n",
        "        map[row][col] = -2\n",
        "      elif (map[row][col] == player.symbol): #myself\n",
        "        map[row][col] = 1\n",
        "      elif (map[row][col] == player.myFlag): #my flag\n",
        "        map[row][col] = -5\n",
        "      elif (map[row][col] == player.enemyFlag): #enemy Flag\n",
        "        map[row][col] = 1\n",
        "        if (player.loyalty != player.team): #the player is an impostor, can't walk on flags\n",
        "          map[row][col] = -6\n",
        "      else: #other players or enemy flags\n",
        "        map[row][col] = 1\n",
        "\n",
        "  return map\n",
        "\n",
        "\n",
        "# Converts symbols into numbers for Q-Learning\n",
        "# 0 wall\n",
        "# 1 grass\n",
        "# 2 river\n",
        "# 3 ocean\n",
        "# 4 traps\n",
        "# 5 boosts\n",
        "# 6 barrier\n",
        "# 7 flag X\n",
        "# 8 flag x\n",
        "# 9 barrier\n",
        "# 10 teamflag\n",
        "# 11 opponentflag\n",
        "def prepareMap2(original_map):\n",
        "  # TODO: it's converting the matrix in-place\n",
        "  map = np.zeros((128,256)) # setting matrix to maximum size\n",
        "  map = np.zeros((len(original_map),len(original_map[0])))\n",
        "  \n",
        "  for row in range(len(original_map)):\n",
        "    for col in range(len(original_map[row])):\n",
        "      if (original_map[row][col] == '#'): #wall\n",
        "        map[row][col] = 0\n",
        "      elif (original_map[row][col] == '.'): #grass\n",
        "        map[row][col] = 1\n",
        "      elif (original_map[row][col] == '~'): #river\n",
        "        map[row][col] = 2\n",
        "      elif (original_map[row][col] == '@'): #ocean\n",
        "        map[row][col] = 3\n",
        "      elif (original_map[row][col] == '!'): #trap\n",
        "        map[row][col] = 4\n",
        "      elif (original_map[row][col] == '$'): #energy recharge\n",
        "        map[row][col] = 5\n",
        "      elif (original_map[row][col] == '&'): #barrier\n",
        "        map[row][col] = 6\n",
        "      elif (original_map[row][col] == 'X'): #flag 1\n",
        "        map[row][col] = 7\n",
        "      elif (original_map[row][col] == 'x'): #flag 2\n",
        "        map[row][col] = 8\n",
        "      elif (original_map[row][col].isupper()): #team maiuscolo\n",
        "        map[row][col] = ord(original_map[row][col])-56\n",
        "      else:\n",
        "        map[row][col] = ord(original_map[row][col])-68\n",
        " \n",
        "  return map\n",
        "\n",
        "\n",
        "def prepareMap3(original_map, myPlayer, players, size=(64,128)):\n",
        "  increase = 30\n",
        "  min_increase = 10\n",
        "  ocean = -3\n",
        "  wall = -1\n",
        "  barrier = -2\n",
        "\n",
        "  # decrease increase value as the distance grows\n",
        "  map = prepareMap(original_map, myPlayer)\n",
        "  for player in players.values():\n",
        "    # check columns and rows of the enemies and set them to higher values\n",
        "    if (player.team != myPlayer.team and player.alive): \n",
        "      # from posX to the right ->\n",
        "      count = 0\n",
        "      for column in range(player.posX, size[1]):\n",
        "        if (map[player.posY][column] == wall or map[player.posY][column] == barrier\n",
        "            or (original_map[player.posY][column] in players.keys() and  not players[original_map[player.posY][column]].alive)):\n",
        "          break\n",
        "        elif (map[player.posY][column] == ocean):\n",
        "          count += 1\n",
        "          continue\n",
        "        else:\n",
        "          max_val = max(min_increase, increase-count*1.5)\n",
        "          map[player.posY][column] += max_val\n",
        "          count += 1\n",
        "      # from posX to the left <-\n",
        "      count = 0\n",
        "      for column in range(player.posX, -1, -1):\n",
        "        if (map[player.posY][column] == wall or map[player.posY][column] == barrier\n",
        "             or (original_map[player.posY][column] in players.keys() and  not players[original_map[player.posY][column]].alive)):\n",
        "          break\n",
        "        elif (map[player.posY][column] == ocean):\n",
        "          count += 1\n",
        "          continue\n",
        "        else:\n",
        "          max_val = max(min_increase, increase-count*1.5)\n",
        "          map[player.posY][column] += max_val\n",
        "          count += 1\n",
        "      # from posY to the top /|\\\n",
        "      for row in range(player.posY, -1, -1):\n",
        "        if (map[row][player.posX] == wall or map[row][player.posX] == barrier\n",
        "             or (original_map[row][player.posX] in players.keys() and  not players[original_map[row][player.posX]].alive)):\n",
        "          break\n",
        "        elif (map[row][player.posX] == ocean):\n",
        "          count += 1\n",
        "          continue\n",
        "        else:\n",
        "          max_val = max(min_increase, increase-count*1.5)\n",
        "          map[row][player.posX] += max_val\n",
        "          count += 1\n",
        "      # from posY to the bottom \\|/ (praise the sun)\n",
        "      for row in range(player.posY, size[0]):\n",
        "        if (map[row][player.posX] == wall or map[row][player.posX] == barrier\n",
        "            or (original_map[row][player.posX] in players.keys() and  not players[original_map[row][player.posX]].alive)):\n",
        "          break\n",
        "        elif (map[row][player.posX] == ocean):\n",
        "          count += 1\n",
        "          continue\n",
        "        else:\n",
        "          max_val = max(min_increase, increase-count*1.5)\n",
        "          map[row][player.posX] += max_val\n",
        "          count += 1\n",
        "      # set the enemy position to 11\n",
        "      map[player.posY][player.posX] = increase+1\n",
        "    \n",
        "  return map\n",
        "\n",
        "def prepareImpostorMap(original_map, myPlayer, players, size=(64,128)):\n",
        "  increase = 30\n",
        "  min_increase = 10\n",
        "  ocean = -3\n",
        "  wall = -1\n",
        "  barrier = -2\n",
        "\n",
        "  # decrease increase value as the distance grows\n",
        "  map = prepareMap(original_map, myPlayer)\n",
        "  for player in players.values():\n",
        "    # check columns and rows of the enemies and set them to higher values\n",
        "    if (player.alive): \n",
        "      # from posX to the right ->\n",
        "      count = 0\n",
        "      for column in range(player.posX, size[1]):\n",
        "        if (map[player.posY][column] == wall or map[player.posY][column] == barrier\n",
        "            or (original_map[player.posY][column] in players.keys() and  not players[original_map[player.posY][column]].alive)):\n",
        "          break\n",
        "        elif (map[player.posY][column] == ocean):\n",
        "          count += 1\n",
        "          continue\n",
        "        else:\n",
        "          max_val = max(min_increase, increase-count*1.5)\n",
        "          map[player.posY][column] += max_val\n",
        "          count += 1\n",
        "      # from posX to the left <-\n",
        "      count = 0\n",
        "      for column in range(player.posX, -1, -1):\n",
        "        if (map[player.posY][column] == wall or map[player.posY][column] == barrier\n",
        "            or (original_map[player.posY][column] in players.keys() and  not players[original_map[player.posY][column]].alive)):\n",
        "          break\n",
        "        elif (map[player.posY][column] == ocean):\n",
        "          count += 1\n",
        "          continue\n",
        "        else:\n",
        "          max_val = max(min_increase, increase-count*1.5)\n",
        "          map[player.posY][column] += max_val\n",
        "          count += 1\n",
        "      # from posY to the top /|\\\n",
        "      for row in range(player.posY, -1, -1):\n",
        "        if (map[row][player.posX] == wall or map[row][player.posX] == barrier\n",
        "            or (original_map[row][player.posX] in players.keys() and  not players[original_map[row][player.posX]].alive)):\n",
        "          break\n",
        "        elif (map[row][player.posX] == ocean):\n",
        "          count += 1\n",
        "          continue\n",
        "        else:\n",
        "          max_val = max(min_increase, increase-count*1.5)\n",
        "          map[row][player.posX] += max_val\n",
        "          count += 1\n",
        "      # from posY to the bottom \\|/ (praise the sun)\n",
        "      for row in range(player.posY, size[0]):\n",
        "        if (map[row][player.posX] == wall or map[row][player.posX] == barrier\n",
        "            or (original_map[row][player.posX] in players.keys() and  not players[original_map[row][player.posX]].alive)):\n",
        "          break\n",
        "        elif (map[row][player.posX] == ocean):\n",
        "          count += 1\n",
        "          continue\n",
        "        else:\n",
        "          max_val = max(min_increase, increase-count*1.5)\n",
        "          map[row][player.posX] += max_val\n",
        "          count += 1\n",
        "      # set the enemy position to 11\n",
        "      map[player.posY][player.posX] = increase+1\n",
        "    \n",
        "  return map\n",
        "    \n",
        "def findZone(posX, posY):\n",
        "  return int(posX/factor),int(posY/factor)\n",
        "\n",
        "def findAdjacientZones(zones, posX, posY):\n",
        "  myZoneX, myZoneY = findZone(posX, posY)\n",
        "  zone_up, zone_down, zone_left, zone_right = (-1,-1), (-1,-1), (-1,-1), (-1,-1)\n",
        "  # check the one above\n",
        "  if (myZoneY > 0):\n",
        "    zone_up = (myZoneX, myZoneY-1)\n",
        "  if (myZoneY < zones.shape[0]-1):\n",
        "    zone_down = (myZoneX, myZoneY+1)\n",
        "  if (myZoneX > 0):\n",
        "    zone_left = (myZoneX-1, myZoneY)\n",
        "  if (myZoneX < zones.shape[1]-1):\n",
        "    zone_right = (myZoneX+1, myZoneY)\n",
        "\n",
        "  return zone_up, zone_down, zone_left, zone_right\n",
        " \n",
        "'''\n",
        "  returns:\n",
        "    - best =  best value among the adjacient zones\n",
        "    - bestX, bestY =  best cell in the macro_area (real coordinates)\n",
        "'''\n",
        "def bestAdjacientZone(zones, best_pos, posX, posY):\n",
        "  zone_up, zone_down, zone_left, zone_right = findAdjacientZones(zones, posX, posY)\n",
        "  best_up, best_down, best_left, best_right = 9999, 9999, 9999, 9999\n",
        "  if (zone_up != (-1,-1)):\n",
        "    best_up = zones[zone_up[1]][zone_up[0]]\n",
        "  if (zone_down != (-1,-1)):\n",
        "    best_down = zones[zone_down[1]][zone_down[0]]\n",
        "  if (zone_left != (-1,-1)):\n",
        "    best_left = zones[zone_left[1]][zone_left[0]]\n",
        "  if (zone_right != (-1,-1)):\n",
        "    best_right = zones[zone_right[1]][zone_right[0]]\n",
        "  \n",
        "  best = best_up\n",
        "  (bestX,bestY) = best_pos[zone_up[1]][zone_up[0]] # TODO: controllare tantissimo\n",
        "  if (best > best_down):\n",
        "    best = best_down\n",
        "    (bestX,bestY) = best_pos[zone_down[1]][zone_down[0]]\n",
        "  if (best > best_left):\n",
        "    best = best_left\n",
        "    (bestX,bestY) = best_pos[zone_left[1]][zone_left[0]]\n",
        "  if (best > best_right):\n",
        "    best = best_right\n",
        "    (bestX,bestY) = best_pos[zone_right[1]][zone_right[0]]\n",
        "\n",
        "  return best, bestX, bestY\n",
        "\n",
        "\n",
        "def computeZone(map, row, col, flagX, flagY):\n",
        "  sum = 0\n",
        "  counter = 0\n",
        "  posX, posY = -1, -1\n",
        "  val = 9999\n",
        "  flag_dist = 9999 \n",
        "  for i in range(row, row+factor):\n",
        "    for j in range(col, col+factor):\n",
        "      if (map[i][j] > 0):\n",
        "        if (map[i][j] < val):\n",
        "          posX, posY = j, i\n",
        "          val = map[i][j]\n",
        "          flag_dist = distance(posX, posY, flagX, flagY)\n",
        "        elif (map[i][j] == val):\n",
        "          dist_old = distance(posX, posY, flagX, flagY)\n",
        "          dist_new = distance(j, i, flagX, flagY)\n",
        "          if (dist_new < dist_old):\n",
        "            posX, posY = j, i\n",
        "            flag_dist = distance(posX, posY, flagX, flagY)\n",
        "        counter += 1\n",
        "        sum += map[i][j]\n",
        "        \n",
        "  if (counter == 0):\n",
        "    counter = 1\n",
        "\n",
        "  return sum/counter + flag_dist, (posX,posY)\n",
        "\n",
        "\n",
        "def computeDangerMap(map, enemy_flagX, enemy_flagY):\n",
        "  n_row = len(map)\n",
        "  n_col = len(map[0])\n",
        "\n",
        "  zones = np.zeros((int(n_row/factor),int(n_col/factor)))\n",
        "  best_pos = np.zeros((int(n_row/factor),int(n_col/factor)), dtype='i,i')\n",
        "\n",
        "  flag_zone_row, flag_zone_col = findZone(enemy_flagX, enemy_flagY)\n",
        "\n",
        "  for row in range(zones.shape[0]):\n",
        "    for col in range(zones.shape[1]):\n",
        "      avg, pos = computeZone(map, row*factor, col*factor, enemy_flagX, enemy_flagY)\n",
        "      zones[row][col], best_pos[row][col] = avg, pos\n",
        "\n",
        "      if(row == flag_zone_row and col == flag_zone_col):\n",
        "        zones[row][col] -= flag_value\n",
        "\n",
        "  return zones, best_pos\n",
        "\n",
        "def computeImpostorZone(map, row, col):\n",
        "  sum = 0\n",
        "  counter = 0\n",
        "  posX, posY = -1, -1\n",
        "  val = 9999\n",
        "  for i in range(row, row+factor):\n",
        "    for j in range(col, col+factor):\n",
        "      if (map[i][j] > 0):\n",
        "        if (map[i][j] < val):\n",
        "          posX, posY = j, i\n",
        "          val = map[i][j]\n",
        "        counter += 1\n",
        "        sum += map[i][j]\n",
        "\n",
        "  return sum/counter, (posX,posY)\n",
        "\n",
        "def computeImpostorDangerMap(map, players):\n",
        "  n_row = len(map)\n",
        "  n_col = len(map[0])\n",
        "\n",
        "  zones = np.zeros((int(n_row/factor),int(n_col/factor)))\n",
        "  best_pos = np.zeros((int(n_row/factor),int(n_col/factor)), dtype='i,i')\n",
        "\n",
        "  for row in range(zones.shape[0]):\n",
        "    for col in range(zones.shape[1]):\n",
        "      avg, pos = computeImpostorZone(map, row*factor, col*factor)\n",
        "      zones[row][col], best_pos[row][col] = avg, pos\n",
        "\n",
        "  return zones, best_pos\n",
        "\n",
        "# Finds an item on the map\n",
        "def findOnMap(map, symbol):\n",
        "  #map = toMatrix(map)\n",
        "\n",
        "  for row in range(len(map)):\n",
        "    for col in range(len(map[row])):\n",
        "      if (map[row][col] == symbol):\n",
        "        return row, col\n",
        "  return -1, -1\n",
        "\n",
        "\n",
        "colors = {\n",
        "    \"team_1\":       [220,20,60],    #team_1       = red\n",
        "    \"team_1_flag\":  [139,0,0],      #team_1_flag  = dark_red\n",
        "    \"team_2\":       [65,105,225],   #team_2       = blue\n",
        "    \"team_2_flag\":  [0,0,153],      #team_2_flag  = dark_blue\n",
        "    \"grass\":        [153,255,153],  #grass        = green\n",
        "    \"ocean\":        [0,191,255],    #ocean        = light_blue\n",
        "    \"river\":        [204,255,255],  #river        = lightest_blue\n",
        "    \"wall\":         [0,0,0],        #wall         = black\n",
        "    \"barrier\":      [192,192,192],  #barrier      = grey\n",
        "    \"energy\":       [255,255,255],  #energy       = white\n",
        "    \"trap\":         [255,102,255],  #trap         = purple\n",
        "    \"path\":         [255,255,51]    #path         = yellow\n",
        "}\n",
        "def buildMap(map):\n",
        "  beautiful_map = np.zeros((len(map), len(map[0]), 3), dtype=np.uint8)\n",
        "  for row in range(len(map)):\n",
        "    for col in range(len(map[row])):\n",
        "      if (map[row][col] == '#'): #wall\n",
        "        beautiful_map[row][col] = colors[\"wall\"]\n",
        "      elif (map[row][col] == '.'): #grass\n",
        "        beautiful_map[row][col] = colors[\"grass\"]\n",
        "      elif (map[row][col] == '~'): #river\n",
        "        beautiful_map[row][col] = colors[\"river\"]\n",
        "      elif (map[row][col] == '@'): #ocean\n",
        "        beautiful_map[row][col] = colors[\"ocean\"]\n",
        "      elif (map[row][col] == '!'): #trap\n",
        "        beautiful_map[row][col] = colors[\"trap\"]\n",
        "      elif (map[row][col] == '$'): #energy recharge\n",
        "        beautiful_map[row][col] = colors[\"energy\"]\n",
        "      elif (map[row][col] == '&'): #barrier\n",
        "        beautiful_map[row][col] = colors[\"barrier\"]\n",
        "      elif (map[row][col] == 'X'): #flag 1\n",
        "        beautiful_map[row][col] = colors[\"team_1_flag\"]\n",
        "      elif (map[row][col] == 'x'): #flag 2\n",
        "        beautiful_map[row][col] = colors[\"team_2_flag\"]\n",
        "      elif (map[row][col].isupper()): #team maiuscolo\n",
        "        beautiful_map[row][col] = colors[\"team_1\"]\n",
        "      else:\n",
        "        beautiful_map[row][col] = colors[\"team_2\"]\n",
        "\n",
        "  return beautiful_map\n",
        "\n",
        "def printMap(map, size=(10,10)):\n",
        "  beautiful_map = buildMap(map)\n",
        "  plt.figure(figsize=size)\n",
        "  plt.imshow(beautiful_map, interpolation='nearest')\n",
        "  plt.xticks([])\n",
        "  plt.yticks([])\n",
        "  plt.show()\n",
        "\n",
        "# https://stackoverflow.com/questions/44947505/how-to-make-a-movie-out-of-images-in-python/44951066#44951066\n",
        "def createReplay(map_h, filename):\n",
        "  os.system(\"mkdir frames\")\n",
        "\n",
        "  i=0\n",
        "  for map in map_h:\n",
        "    # creo frame\n",
        "    beautiful_map = buildMap(map)\n",
        "    plt.imshow(beautiful_map, interpolation='nearest')\n",
        "    plt.xticks([])\n",
        "    plt.yticks([])\n",
        "    # salvo frame in memoria\n",
        "    plt.savefig('frames/img' + '{:04d}'.format(i) + '.png')\n",
        "    i = i+1\n",
        "\n",
        "  # creo video dai frames (3fps, filename.mp4 video finale)\n",
        "  os.system(\"ffmpeg -r 3 -i frames/img%04d.png -vcodec mpeg4 -y \" + filename + \".mp4\")\n",
        "\n",
        "  # removing all frames\n",
        "  files = glob.glob('frames/*.png')\n",
        "  for f in files:\n",
        "    open(f, 'w').close() #overwrite and make the file blank instead - ref: https://stackoverflow.com/a/4914288/3553367\n",
        "    os.remove(f) #delete the blank file from google drive will move the file to bin instead"
      ],
      "execution_count": null,
      "outputs": []
    },
    {
      "cell_type": "markdown",
      "metadata": {
        "id": "fDaeQpkrxZ-4"
      },
      "source": [
        "# **Pathfinding**"
      ]
    },
    {
      "cell_type": "code",
      "metadata": {
        "id": "8Uxn-D5yyMfl"
      },
      "source": [
        "# Manhattan distance (not sure if needed)\n",
        "def distance(xa, ya, xb, yb):\n",
        "  return (abs(xa - xb) + abs(ya - yb))\n",
        "  \n",
        "# Returns a path, calculated using A*\n",
        "def findPath(map, startx, starty, endx, endy):\n",
        "  grid = Grid(matrix=map)\n",
        "  # (x, y) = (col, row)\n",
        "  start = grid.node(startx, starty)\n",
        "  end = grid.node(endx, endy)\n",
        "\n",
        "  finder = AStarFinder(diagonal_movement=DiagonalMovement.never)\n",
        "  path, runs = finder.find_path(start, end, grid)\n",
        "  print(grid.grid_str(path=path, start=start, end=end))\n",
        "  return path\n",
        "\n",
        "# Returns a matrix of distances from the flag\n",
        "# TODO: test if it works\n",
        "def findDistances(map, endx, endy):\n",
        "  distMap = copy.deepcopy(map)\n",
        "  # per ogni punto della matrice\n",
        "  for row in range(len(map)):\n",
        "    for col in range(len(map[row])):\n",
        "      # se il punto è valido (valore > 0)\n",
        "      if(map[row][col]>0):\n",
        "        path = findPath(map, col, row, endx, endy)\n",
        "        distMap[row][col] = len(path)\n",
        "      # se il punto non è valido\n",
        "      else:\n",
        "        distMap[row][col] = -1\n",
        "  # distMap[endx][endy] = 0\n",
        "  return distMap\n",
        "\n",
        "# Takes current position and next position, finds the direction\n",
        "def findNextDirection(posX, posY, nextX, nextY):\n",
        "  if (nextX < posX):\n",
        "    return 'W'\n",
        "  elif (nextX > posX):\n",
        "    return 'E'\n",
        "  elif (nextY < posY):\n",
        "    return 'N'\n",
        "  elif (nextY > posY):\n",
        "    return 'S'\n",
        "  # else pos = next\n",
        "  return ''\n",
        "#old\n",
        "#def findNextDirection(posX, posY, nextX, nextY):\n",
        "#  if (nextX < posX):\n",
        "#    return 'N'\n",
        "#  elif (nextX > posX):\n",
        "#    return 'S'\n",
        "#  elif (nextY < posY):\n",
        "#    return 'W'\n",
        "#  elif (nextY > posY):\n",
        "#    return 'E'\n",
        "  # else pos = next\n",
        "#  return ''\n",
        "\n",
        "# follows a path from start to end\n",
        "def pathToCommand(ch, path):\n",
        "  if (len(path) == 0):\n",
        "    return -1\n",
        "  posX, posY = path[0]\n",
        "  for i in range(1,len(path)):\n",
        "    nextX, nextY = path[i]\n",
        "    result = findNextDirection(posX, posY, nextX, nextY)\n",
        "    if(result != ''):\n",
        "      ch.move(result)\n",
        "    posX, posY = nextX, nextY\n",
        "  print('[MOVE] Done!')\n",
        "  return 1\n",
        "\n",
        "def printMatrix(matrix):\n",
        "  for row in matrix:\n",
        "    print(row)\n",
        "\n",
        "\n",
        "def movedTowardsFlag(map, player, direction):\n",
        "  enemy_flag_x, enemy_flag_y = findOnMap(map, player.enemyFlag)\n",
        "  previous_dist = distance(player.posX, player.posY, enemy_flag_x, enemy_flag_y)\n",
        "  if (direction == \"N\"):\n",
        "    new_dist = distance(player.posX, player.posY-1, enemy_flag_x, enemy_flag_y)\n",
        "  elif (direction == \"S\"):\n",
        "    new_dist = distance(player.posX, player.posY+1, enemy_flag_x, enemy_flag_y)\n",
        "  elif (direction == \"W\"):\n",
        "    new_dist = distance(player.posX-1, player.posY, enemy_flag_x, enemy_flag_y)\n",
        "  elif (direction == \"E\"):\n",
        "    new_dist = distance(player.posX+1, player.posY, enemy_flag_x, enemy_flag_y)\n",
        "  return new_dist < previous_dist\n",
        "\n",
        "\n",
        "# TODO: Function that takes the map and your team, finds the closer team to the opponent's flag\n",
        "# Why? To see if it's better to run for the opponent's flag or to defend\n",
        "# -> if we are closer to the enemy flag then try to take it, else defend (also maybe barrier exploit?)"
      ],
      "execution_count": null,
      "outputs": []
    },
    {
      "cell_type": "markdown",
      "metadata": {
        "id": "YR1nfuk4VVtj"
      },
      "source": [
        "# **Q-Learning and Random Forest**"
      ]
    },
    {
      "cell_type": "markdown",
      "metadata": {
        "id": "_hDBFpOiy-wC"
      },
      "source": [
        "## Environment"
      ]
    },
    {
      "cell_type": "code",
      "metadata": {
        "id": "9C0rgkooEgc3"
      },
      "source": [
        "# Da qui: https://medium.com/analytics-vidhya/how-to-create-a-custom-gym-environment-with-multiple-agents-f368d13582ee\n",
        "# Utile anche: https://medium.com/analytics-vidhya/custom-gym-environment-with-agents-that-collaborate-4f96ef898a2a\n",
        "\n",
        "# Actions\n",
        "actions = {0: 'move_up', 1: 'move_down', 2: 'move_left', 3: 'move_right', \n",
        "           4: 'shoot_up', 5: 'shoot_down', 6: 'shoot_left', 7: 'shoot_right', \n",
        "           8: 'update_status', 9: 'update_map', 10: 'nop'}\n",
        "actions = {0: 'move_up', 1: 'move_down', 2: 'move_left', 3: 'move_right', \n",
        "           4: 'shoot_up', 5: 'shoot_down', 6: 'shoot_left', 7: 'shoot_right', \n",
        "           8: 'nop'}\n",
        "\n",
        "max_reward = 1000\n",
        "min_reward = -500\n",
        "train_mode = True\n",
        "\n",
        "class AmongAIsEnv(gym.Env):\n",
        "  def __init__(self, n_players=6, match_number=0):\n",
        "    self.action_space = spaces.Discrete(len(actions))\n",
        "    #self.observation_space = spaces.Box(low=0, high=256, shape=(129, 256), dtype=np.int16) #if we keep energy, score and pos in obs\n",
        "    self.observation_space = spaces.Box(low=0, high=50, shape=(129, 256), dtype=np.int16) #if we don't keep energy, score and pos in obs\n",
        "    self.reward_range = (min_reward, max_reward)\n",
        "    self.n_players = n_players\n",
        "    self.current_episode = 0\n",
        "    self.success_episode = []\n",
        "    self.static_name = 'ai0-t'\n",
        "    self.match_number = match_number\n",
        "    self.game_server = 'margot.di.unipi.it'\n",
        "    self.game_port = 8421\n",
        "    \n",
        "  def reset(self): # resetta la mappa e lo stato (nuova partita)\n",
        "    #TODO: chiudere le connessioni precedenti?\n",
        "    self.current_player = 0\n",
        "    self.state = 'ACTIVE'\n",
        "    self.current_step = 0\n",
        "    #self.n_players = n_players\n",
        "    self.max_step = 300 * self.n_players\n",
        "    self.game_name = self.static_name + str(self.match_number)\n",
        "    self.players_dict = {}\n",
        "    self.map_history = []\n",
        "\n",
        "    print(\"\\n----- NEW MATCH: \" + self.game_name + \" -----\")\n",
        "\n",
        "    # creating n channels for n players, plus one for the map updates\n",
        "    for i in range(0, self.n_players):\n",
        "      ch_i = CommunicationHandler(self.game_server, self.game_port)\n",
        "      self.players_dict[i] = {}\n",
        "      self.players_dict[i][\"ch\"] = ch_i\n",
        "    self.ch_map = CommunicationHandler(self.game_server, self.game_port) \n",
        "\n",
        "    # creating game\n",
        "    self.players_dict[0][\"ch\"].createGame(self.game_name, params=\"TBQ1\")\n",
        "    \n",
        "    # joining the game\n",
        "    for i in range(0,self.n_players):\n",
        "      player_name = \"player_\" + str(i)\n",
        "      self.players_dict[i][\"ch\"].joinGame(self.game_name, player_name, train=train_mode)\n",
        "    # Join as observer\n",
        "    self.ch_map.joinGame(self.game_name, self.game_name+\"_obs\", train=train_mode, observer=True)\n",
        "\n",
        "    # get status for each player\n",
        "    for i in range(0,self.n_players):\n",
        "      p_status = self.players_dict[i][\"ch\"].getStatus()\n",
        "      p_player = extractMyInfo(p_status)\n",
        "      self.players_dict[i][\"player\"] = p_player\n",
        "      self.players_dict[i][\"last_map_update\"] = 0\n",
        "      self.players_dict[i][\"last_status_update\"] = 0\n",
        "\n",
        "      if (p_player.symbol.isupper()): #team maiuscolo\n",
        "        self.players_dict[i][\"player_number\"] = ord(p_player.symbol)-56\n",
        "      else:\n",
        "        self.players_dict[i][\"player_number\"] = ord(p_player.symbol)-68\n",
        "\n",
        "    # starting the game\n",
        "    self.players_dict[0][\"ch\"].startGame()\n",
        "    self.match_number+=1\n",
        "    self.start_time = int(time.time()*1000)\n",
        "\n",
        "    self.map = self.ch_map.getMap()\n",
        "    self.world = np.array(prepareMap2(copy.deepcopy(self.map)))\n",
        "\n",
        "    # do half(?) A* path, to bring the agents closer to the flag\n",
        "    for i in range(self.n_players):\n",
        "      p = self.players_dict[i]['player']\n",
        "      flag_x, flag_y = findOnMap(self.map, p.enemyFlag)\n",
        "      path = findPath(self.world, p.posX, p.posY, flag_x, flag_y)\n",
        "      half_len = int((len(path)/4)*3)\n",
        "      test = pathToCommand(self.players_dict[i]['ch'], path[:half_len])\n",
        "\n",
        "    self.map = self.ch_map.getMap()\n",
        "    self.world = np.array(prepareMap2(copy.deepcopy(self.map)))\n",
        "\n",
        "    return self._next_observation()\n",
        "\n",
        "  def _next_observation(self):\n",
        "    obs = self.world          # qui andrà una update map (invece mi sa di no, prende la mappa che ha già)\n",
        "    \n",
        "    # calculating time status (0 = first 8 seconds, 1 = 8-45 seconds, 2 = 45 or more seconds)\n",
        "    current_time = int(time.time()*1000)\n",
        "    self.time_difference = current_time - self.start_time # differenza in millesimi di secondo\n",
        "    if (self.time_difference < 1000 * 5): # primi 5 secondi\n",
        "      current_phase = 0\n",
        "    elif (self.time_difference < 1000 * 30): # 5-30 secondi\n",
        "      current_phase = 1\n",
        "    else:\n",
        "      current_phase = 2\n",
        "\n",
        "    # line: who we are on the map, energy, x, y, loyalty, target_flag, score, alive, last_update\n",
        "    p_player = self.players_dict[self.current_player]\n",
        "    line = [[]]\n",
        "    line[0].append(p_player[\"player_number\"])\n",
        "    line[0].append(p_player[\"player\"].team)\n",
        "    #line[0].append(p_player[\"player\"].energy)\n",
        "    #line[0].append(p_player[\"player\"].posX)\n",
        "    #line[0].append(p_player[\"player\"].posY)\n",
        "    line[0].append(p_player[\"player\"].loyalty)\n",
        "    # enemy_flag encoding \n",
        "    if (p_player[\"player\"].enemyFlag.isupper()):\n",
        "      #line[0].append(ord(p_player[\"player\"].enemyFlag)-56)\n",
        "      line[0].append(7)\n",
        "    else:\n",
        "      #line[0].append(ord(p_player[\"player\"].enemyFlag)-68)\n",
        "      line[0].append(8)\n",
        "    #line[0].append(p_player[\"player\"].score)\n",
        "    if (p_player[\"player\"].alive): \n",
        "      line[0].append(1)\n",
        "    else:\n",
        "      line[0].append(0)\n",
        "    line[0].append(p_player[\"last_map_update\"])\n",
        "    line[0].append(p_player[\"last_status_update\"])\n",
        "    line[0].append(current_phase)\n",
        "\n",
        "    for i in range(len(line[0]),256): #servono (256 - parametri) zeri dopo self.current_player\n",
        "      line[0].append(0)\n",
        "    obs = np.append(obs, line, axis=0) \n",
        "    return obs\n",
        "\n",
        "  def _take_action(self, action, ch):\n",
        "    # just to know what action that is\n",
        "    current_action = actions[action]\n",
        "    reward = 0\n",
        "\n",
        "    # do the action using ch\n",
        "    # update the status if won/lost\n",
        "    if current_action == 'move_up':\n",
        "      res = ch.move(\"N\")\n",
        "      reward, status = self.calculateReward(current_action, res, direction=\"N\")\n",
        "      self.players_dict[self.current_player][\"last_map_update\"] += 1\n",
        "      self.players_dict[self.current_player][\"last_status_update\"] += 1\n",
        "\n",
        "    elif current_action == 'move_down':\n",
        "      res = ch.move(\"S\")\n",
        "      reward, status = self.calculateReward(current_action, res, direction=\"S\")\n",
        "      self.players_dict[self.current_player][\"last_map_update\"] += 1\n",
        "      self.players_dict[self.current_player][\"last_status_update\"] += 1\n",
        "\n",
        "    elif current_action == 'move_left':\n",
        "      res = ch.move(\"W\")\n",
        "      reward, status = self.calculateReward(current_action, res, direction=\"W\")\n",
        "      self.players_dict[self.current_player][\"last_map_update\"] += 1\n",
        "      self.players_dict[self.current_player][\"last_status_update\"] += 1\n",
        "      \n",
        "    elif current_action == 'move_right':\n",
        "      res = ch.move(\"E\")\n",
        "      reward, status = self.calculateReward(current_action, res, direction=\"E\")\n",
        "      self.players_dict[self.current_player][\"last_map_update\"] += 1\n",
        "      self.players_dict[self.current_player][\"last_status_update\"] += 1\n",
        "\n",
        "    elif current_action == 'shoot_up':\n",
        "      res = ch.shoot(\"N\")\n",
        "      reward, status = self.calculateReward(current_action, res)\n",
        "      self.players_dict[self.current_player][\"last_map_update\"] += 1\n",
        "      self.players_dict[self.current_player][\"last_status_update\"] += 1\n",
        "\n",
        "    elif current_action == 'shoot_down':\n",
        "      res = ch.shoot(\"S\")\n",
        "      reward, status = self.calculateReward(current_action, res)\n",
        "      self.players_dict[self.current_player][\"last_map_update\"] += 1\n",
        "      self.players_dict[self.current_player][\"last_status_update\"] += 1\n",
        "\n",
        "    elif current_action == 'shoot_left':\n",
        "      res = ch.shoot(\"W\")\n",
        "      reward, status = self.calculateReward(current_action, res)\n",
        "      self.players_dict[self.current_player][\"last_map_update\"] += 1\n",
        "      self.players_dict[self.current_player][\"last_status_update\"] += 1\n",
        "\n",
        "    elif current_action == 'shoot_right':\n",
        "      res = ch.shoot(\"E\")\n",
        "      reward, status = self.calculateReward(current_action, res)\n",
        "      self.players_dict[self.current_player][\"last_map_update\"] += 1\n",
        "      self.players_dict[self.current_player][\"last_status_update\"] += 1\n",
        "\n",
        "    elif current_action == 'update_status':\n",
        "      print('[UPDATE STATUS]')\n",
        "      res = ch.getStatus()\n",
        "      p_player = extractMyInfo(res)\n",
        "      self.players_dict[self.current_player][\"player\"] = p_player\n",
        "      reward = -20 + 4*self.players_dict[self.current_player][\"last_status_update\"]\n",
        "      self.players_dict[self.current_player][\"last_map_update\"] += 1\n",
        "      self.players_dict[self.current_player][\"last_status_update\"] = 0\n",
        "\n",
        "    elif current_action == 'update_map':\n",
        "      #self.map = ch_map.getMap()\n",
        "      print('[UPDATE MAP]')\n",
        "      self.map = self.players_dict[self.current_player][\"ch\"].getMap()\n",
        "      res = prepareMap2(copy.deepcopy(self.map))\n",
        "      self.world = np.array(res)\n",
        "      reward = -20 + 4*self.players_dict[self.current_player][\"last_map_update\"]\n",
        "      self.players_dict[self.current_player][\"last_map_update\"] = 0\n",
        "      self.players_dict[self.current_player][\"last_status_update\"] += 1\n",
        "\n",
        "    elif current_action == 'nop':\n",
        "      reward, status = self.calculateReward(current_action, \"\")\n",
        "\n",
        "    #status = self.ch_map.updateStatus()\n",
        "    #status = self.players_dict[self.current_player][\"ch\"].getStatus()\n",
        "    name = self.players_dict[self.current_player][\"player\"].name\n",
        "    print('[' + name + '-REWARD]: ' + str(reward))\n",
        "    return reward, status\n",
        "    \n",
        "  def step(self, action): # ad ogni passo, esegui una azione, controlla se la partita è finita o no, aggiorna i punteggi \n",
        "    reward, status = self._take_action(action, self.players_dict[self.current_player][\"ch\"])\n",
        "    self.current_step += 1\n",
        "    #print(self.world)\n",
        "    done=False\n",
        "\n",
        "    #aggiornare self.state parsando status\n",
        "    self.state = gameState(status)\n",
        "    self.players_dict[self.current_player][\"player\"] = extractMyInfo(status)\n",
        "    p_player = self.players_dict[self.current_player][\"player\"]\n",
        "    score = self.players_dict[self.current_player][\"player\"].score\n",
        "    if (self.state == 'FINISHED'):\n",
        "      print(\"Game is over!\")\n",
        "      if (p_player.alive):\n",
        "        reward = score * 10\n",
        "      else:\n",
        "        reward = score * 10 - 200\n",
        "      done = True\n",
        "    elif (self.state == 'ACTIVE'):\n",
        "      done = False\n",
        "    if (self.current_step >= self.max_step):\n",
        "      print(\"Game was killed!\")\n",
        "      reward = score * 10\n",
        "      done = True\n",
        "\n",
        "      if (self.time_difference/1000 > 890): #if game has lasted for almost 15 minutes\n",
        "        print('The game is taking too long!!')\n",
        "        print('I have to kill it')\n",
        "        done = True\n",
        "\n",
        "    self.current_player+=1\n",
        "    if (self.current_player == self.n_players):\n",
        "      self.current_player = 0\n",
        "      # printing map\n",
        "      #printMap(self.map)\n",
        "      self.map_history.append(self.map)\n",
        "\n",
        "    \n",
        "    # aggiorno la mappa col ch dell'observer per risparmiare 50ms\n",
        "    self.map = self.ch_map.getMap()\n",
        "    self.world = np.array(prepareMap2(copy.deepcopy(self.map)))\n",
        "    obs = self._next_observation()\n",
        "\n",
        "    if (reward > max_reward):\n",
        "      reward = max_reward\n",
        "    elif (reward < min_reward):\n",
        "      reward = min_reward\n",
        "\n",
        "    if done:\n",
        "      print(\"/nDone! Now rendering.\")\n",
        "      if (self.current_episode % 5 == 0 and self.current_episode > 0):\n",
        "        self.render_episode(self.state)\n",
        "      self.current_episode += 1\n",
        "\n",
        "    return obs, reward, done, {}\n",
        "\n",
        "  def checkTarget(self, player, res, direction):\n",
        "    posX, posY = player.posX, player.posY\n",
        "    target_hit = res[1]\n",
        "    found = False\n",
        "    distance = -1\n",
        "    if (direction == \"N\"): #check up on the column\n",
        "      i = posY\n",
        "      while (not found):\n",
        "        if (map[i][posX] == target_hit):\n",
        "          found = True\n",
        "          distance = posY - i\n",
        "        i-=1\n",
        "    elif (direction == \"S\"): #check down on the column\n",
        "      i = posY\n",
        "      while (not found):\n",
        "        if (map[i][posX] == target_hit):\n",
        "          found = True\n",
        "          distance = i - posY\n",
        "        i+=1\n",
        "    elif (direction == \"W\"): #check left on the row\n",
        "      i = posX\n",
        "      while (not found):\n",
        "        if (map[posY][i] == target_hit):\n",
        "          found = True\n",
        "          distance = posX - i\n",
        "        i-=1\n",
        "    elif (direction == \"E\"): #check right on the row\n",
        "      i = posX\n",
        "      while (not found):\n",
        "        if (map[posY][i] == target_hit):\n",
        "          found = True\n",
        "          distance = i - posX\n",
        "        i+=1\n",
        "        \n",
        "    return distance\n",
        "\n",
        "  def calculateReward(self, action, res, direction=\"\"):\n",
        "    p_status = self.players_dict[self.current_player][\"ch\"].getStatus()\n",
        "    p_player = extractMyInfo(p_status)\n",
        "    energy_diff = p_player.energy - self.players_dict[self.current_player][\"player\"].energy\n",
        "    score_diff = p_player.score - self.players_dict[self.current_player][\"player\"].score\n",
        "\n",
        "    if (\"shoot\" in action):\n",
        "      if (\"ERROR\" in res[0]):\n",
        "        reward = -10\n",
        "      else:\n",
        "        reward = (score_diff*12) + (energy_diff*2)\n",
        "        self.players_dict[self.current_player][\"player\"].energy = p_player.energy\n",
        "\n",
        "    elif (\"move\" in action):\n",
        "      if (\"locked\" in res[1]): #is this Blocked or blocked?\n",
        "        reward = -10\n",
        "      elif (movedTowardsFlag(self.map, self.players_dict[self.current_player][\"player\"], direction)): #if we moved towards the enemy flag\n",
        "        reward = 4 + (2*energy_diff)\n",
        "      else:\n",
        "        reward = -6 + (2*energy_diff)\n",
        "\n",
        "    elif (\"nop\" in action):\n",
        "      # if alive -> do nothing and get a neg reward\n",
        "      print('[NOP]' + str(self.players_dict[self.current_player][\"player\"].alive))\n",
        "      if (self.players_dict[self.current_player][\"player\"].alive):\n",
        "        reward = -100\n",
        "      # if ded, ded\n",
        "      else:\n",
        "        reward = 10\n",
        "\n",
        "    self.players_dict[self.current_player][\"player\"] = p_player\n",
        "\n",
        "    return reward, p_status\n",
        "\n",
        "\n",
        "  def render_episode(self, win_or_lose):\n",
        "    # match is over, create the replay and save it\n",
        "    createReplay(self.map_history, self.game_name)\n",
        "\n",
        "    self.success_episode.append('Success' if win_or_lose == 'W' else 'Failure')\n",
        "\n",
        "    file = open('render.txt', 'a')\n",
        "    file.write('-------------------------------------------\\n')\n",
        "    file.write(f'Episode number {self.current_episode}\\n')\n",
        "    file.write(f'{self.success_episode[-1]} in {self.current_step} steps\\n')\n",
        "    file.close()"
      ],
      "execution_count": null,
      "outputs": []
    },
    {
      "cell_type": "markdown",
      "metadata": {
        "id": "Q60GlqF7W4bw"
      },
      "source": [
        "## Training"
      ]
    },
    {
      "cell_type": "markdown",
      "metadata": {
        "id": "cNzj2eN5EAfL"
      },
      "source": [
        "### Q-Learning"
      ]
    },
    {
      "cell_type": "code",
      "metadata": {
        "colab": {
          "base_uri": "https://localhost:8080/",
          "height": 1000
        },
        "id": "U3kh_AUHS7jU",
        "outputId": "e3cae9c7-8f62-456e-f461-dfd423bec00f"
      },
      "source": [
        "# training\n",
        "# usare subproc? https://stable-baselines.readthedocs.io/en/master/guide/vec_envs.html\n",
        "n_players = 6\n",
        "env = DummyVecEnv([lambda: AmongAIsEnv(n_players=n_players)])\n",
        "#model = PPO2(MlpLstmPolicy, env, learning_rate=0.001)\n",
        "model = PPO2(MlpPolicy, env, learning_rate=0.001)\n",
        "model.learn(10*1000)\n",
        "print(\"LEARNING COMPLETED!\")\n",
        "\n",
        "# saving the model\n",
        "model.save(\"Test1\")\n",
        "del model\n",
        "\n",
        "# reloading the model\n",
        "model = PPO2.load(\"Test1\")\n",
        "\n",
        "# reading results\n",
        "file = open('render.txt', 'a')\n",
        "#!cat render.txt    meglio leggere direttamente il render.txt"
      ],
      "execution_count": null,
      "outputs": [
        {
          "output_type": "stream",
          "text": [
            "WARNING:tensorflow:From /tensorflow-1.15.2/python3.6/stable_baselines/common/tf_util.py:85: The name tf.ConfigProto is deprecated. Please use tf.compat.v1.ConfigProto instead.\n",
            "\n",
            "WARNING:tensorflow:From /tensorflow-1.15.2/python3.6/stable_baselines/common/tf_util.py:94: The name tf.Session is deprecated. Please use tf.compat.v1.Session instead.\n",
            "\n",
            "WARNING:tensorflow:From /tensorflow-1.15.2/python3.6/stable_baselines/common/policies.py:50: The name tf.variable_scope is deprecated. Please use tf.compat.v1.variable_scope instead.\n",
            "\n",
            "WARNING:tensorflow:From /tensorflow-1.15.2/python3.6/stable_baselines/common/input.py:25: The name tf.placeholder is deprecated. Please use tf.compat.v1.placeholder instead.\n",
            "\n",
            "WARNING:tensorflow:From /tensorflow-1.15.2/python3.6/stable_baselines/common/input.py:26: to_float (from tensorflow.python.ops.math_ops) is deprecated and will be removed in a future version.\n",
            "Instructions for updating:\n",
            "Use `tf.cast` instead.\n",
            "WARNING:tensorflow:From /tensorflow-1.15.2/python3.6/stable_baselines/common/policies.py:260: flatten (from tensorflow.python.layers.core) is deprecated and will be removed in a future version.\n",
            "Instructions for updating:\n",
            "Use keras.layers.flatten instead.\n",
            "WARNING:tensorflow:From /tensorflow-1.15.2/python3.6/tensorflow_core/python/layers/core.py:332: Layer.apply (from tensorflow.python.keras.engine.base_layer) is deprecated and will be removed in a future version.\n",
            "Instructions for updating:\n",
            "Please use `layer.__call__` method instead.\n",
            "WARNING:tensorflow:From /tensorflow-1.15.2/python3.6/stable_baselines/a2c/utils.py:145: The name tf.get_variable is deprecated. Please use tf.compat.v1.get_variable instead.\n",
            "\n",
            "WARNING:tensorflow:From /tensorflow-1.15.2/python3.6/stable_baselines/common/distributions.py:319: The name tf.random_uniform is deprecated. Please use tf.random.uniform instead.\n",
            "\n",
            "WARNING:tensorflow:From /tensorflow-1.15.2/python3.6/stable_baselines/common/distributions.py:320: The name tf.log is deprecated. Please use tf.math.log instead.\n",
            "\n",
            "WARNING:tensorflow:From /tensorflow-1.15.2/python3.6/stable_baselines/ppo2/ppo2.py:158: The name tf.summary.scalar is deprecated. Please use tf.compat.v1.summary.scalar instead.\n",
            "\n",
            "WARNING:tensorflow:From /tensorflow-1.15.2/python3.6/stable_baselines/ppo2/ppo2.py:166: The name tf.trainable_variables is deprecated. Please use tf.compat.v1.trainable_variables instead.\n",
            "\n",
            "WARNING:tensorflow:From /tensorflow-1.15.2/python3.6/tensorflow_core/python/ops/math_grad.py:1424: where (from tensorflow.python.ops.array_ops) is deprecated and will be removed in a future version.\n",
            "Instructions for updating:\n",
            "Use tf.where in 2.0, which has the same broadcast rule as np.where\n",
            "WARNING:tensorflow:From /tensorflow-1.15.2/python3.6/stable_baselines/ppo2/ppo2.py:171: The name tf.train.AdamOptimizer is deprecated. Please use tf.compat.v1.train.AdamOptimizer instead.\n",
            "\n",
            "WARNING:tensorflow:From /tensorflow-1.15.2/python3.6/stable_baselines/ppo2/ppo2.py:178: The name tf.summary.histogram is deprecated. Please use tf.compat.v1.summary.histogram instead.\n",
            "\n",
            "WARNING:tensorflow:From /tensorflow-1.15.2/python3.6/stable_baselines/ppo2/ppo2.py:200: The name tf.global_variables_initializer is deprecated. Please use tf.compat.v1.global_variables_initializer instead.\n",
            "\n",
            "WARNING:tensorflow:From /tensorflow-1.15.2/python3.6/stable_baselines/ppo2/ppo2.py:202: The name tf.summary.merge_all is deprecated. Please use tf.compat.v1.summary.merge_all instead.\n",
            "\n",
            "\n",
            "----- NEW MATCH: ai0-l0 -----\n",
            "Connected!\n",
            "Connected!\n",
            "Connected!\n",
            "Connected!\n",
            "Connected!\n",
            "Connected!\n",
            "Connected!\n",
            "[CREATE] OK\n",
            "[JOIN] OK\n",
            "[JOIN] OK\n",
            "[JOIN] OK\n",
            "[JOIN] OK\n",
            "[JOIN] OK\n",
            "[JOIN] OK\n",
            "[JOIN] OK\n",
            "[START] OK\n",
            "[MOVE-N] OK\n",
            "[MOVE-N] OK\n",
            "[MOVE-N] OK\n",
            "[MOVE-W] OK\n",
            "[MOVE-N] OK\n",
            "[MOVE-W] OK\n",
            "[MOVE-N] OK\n",
            "[MOVE-W] OK\n",
            "[MOVE-W] OK\n",
            "[MOVE-N] OK\n",
            "[MOVE-N] OK\n",
            "[MOVE-N] OK\n",
            "[MOVE-N] OK\n",
            "[MOVE-N] OK\n",
            "[MOVE-N] OK\n",
            "[MOVE-W] OK\n",
            "[MOVE-N] OK\n",
            "[MOVE] Done!\n",
            "[MOVE-S] OK\n",
            "[MOVE-E] OK\n",
            "[MOVE-E] OK\n",
            "[MOVE-E] OK\n",
            "[MOVE-E] OK\n",
            "[MOVE-E] OK\n",
            "[MOVE-S] OK\n",
            "[MOVE-E] OK\n",
            "[MOVE-E] OK\n",
            "[MOVE-E] OK\n",
            "[MOVE-E] OK\n",
            "[MOVE-E] OK\n",
            "[MOVE-E] OK\n",
            "[MOVE-N] OK\n",
            "[MOVE-E] OK\n",
            "[MOVE-E] OK\n",
            "[MOVE-E] OK\n",
            "[MOVE-E] OK\n",
            "[MOVE-E] OK\n",
            "[MOVE] Done!\n",
            "[MOVE-N] OK\n",
            "[MOVE-N] OK\n",
            "[MOVE-N] OK\n",
            "[MOVE-N] OK\n",
            "[MOVE-N] OK\n",
            "[MOVE-N] OK\n",
            "[MOVE-N] OK\n",
            "[MOVE-N] OK\n",
            "[MOVE-N] OK\n",
            "[MOVE-N] OK\n",
            "[MOVE-W] OK\n",
            "[MOVE] Done!\n",
            "[MOVE-N] OK\n",
            "[MOVE-N] OK\n",
            "[MOVE-N] OK\n",
            "[MOVE-N] OK\n",
            "[MOVE-N] OK\n",
            "[MOVE-N] OK\n",
            "[MOVE-N] OK\n",
            "[MOVE-W] OK\n",
            "[MOVE-W] OK\n",
            "[MOVE] Done!\n",
            "[SHOOT-E] OK\n",
            "[player_0-REWARD]: -58\n",
            "[SHOOT-S] OK\n",
            "[player_1-REWARD]: -36\n",
            "[MOVE-S] OK\n",
            "[player_2-REWARD]: -6\n",
            "[SHOOT-N] OK\n",
            "[player_3-REWARD]: -22\n",
            "[SHOOT-N] OK\n",
            "[player_4-REWARD]: -24\n",
            "[MOVE-S] OK\n",
            "[player_5-REWARD]: -6\n",
            "[SHOOT-S] OK\n",
            "[player_0-REWARD]: -38\n",
            "[SHOOT-S] OK\n",
            "[player_1-REWARD]: -36\n",
            "[NOP]True\n",
            "[player_2-REWARD]: -100\n",
            "[MOVE-S] OK\n",
            "[player_3-REWARD]: -6\n",
            "[SHOOT-E] OK\n",
            "[player_4-REWARD]: -8\n",
            "[MOVE-N] OK\n",
            "[player_5-REWARD]: 4\n",
            "[MOVE-W] OK\n",
            "[player_0-REWARD]: -6\n",
            "[SHOOT-W] OK\n",
            "[player_1-REWARD]: -28\n",
            "[MOVE-N] OK\n",
            "[player_2-REWARD]: 4\n",
            "[SHOOT-S] OK\n",
            "[player_3-REWARD]: -42\n",
            "[SHOOT-N] OK\n",
            "[player_4-REWARD]: -24\n",
            "[MOVE-W] OK\n",
            "[player_5-REWARD]: -6\n",
            "[MOVE-W] OK\n",
            "[player_0-REWARD]: -6\n",
            "[SHOOT-E] OK\n",
            "[player_1-REWARD]: -16\n",
            "[SHOOT-W] OK\n",
            "[player_2-REWARD]: -16\n",
            "[NOP]True\n",
            "[player_3-REWARD]: -100\n",
            "[SHOOT-W] OK\n",
            "[player_4-REWARD]: -10\n"
          ],
          "name": "stdout"
        },
        {
          "output_type": "error",
          "ename": "KeyboardInterrupt",
          "evalue": "ignored",
          "traceback": [
            "\u001b[0;31m---------------------------------------------------------------------------\u001b[0m",
            "\u001b[0;31mKeyboardInterrupt\u001b[0m                         Traceback (most recent call last)",
            "\u001b[0;32m<ipython-input-13-5b8fd9f40edc>\u001b[0m in \u001b[0;36m<module>\u001b[0;34m()\u001b[0m\n\u001b[1;32m      5\u001b[0m \u001b[0;31m#model = PPO2(MlpLstmPolicy, env, learning_rate=0.001)\u001b[0m\u001b[0;34m\u001b[0m\u001b[0;34m\u001b[0m\u001b[0;34m\u001b[0m\u001b[0m\n\u001b[1;32m      6\u001b[0m \u001b[0mmodel\u001b[0m \u001b[0;34m=\u001b[0m \u001b[0mPPO2\u001b[0m\u001b[0;34m(\u001b[0m\u001b[0mMlpPolicy\u001b[0m\u001b[0;34m,\u001b[0m \u001b[0menv\u001b[0m\u001b[0;34m,\u001b[0m \u001b[0mlearning_rate\u001b[0m\u001b[0;34m=\u001b[0m\u001b[0;36m0.001\u001b[0m\u001b[0;34m)\u001b[0m\u001b[0;34m\u001b[0m\u001b[0;34m\u001b[0m\u001b[0m\n\u001b[0;32m----> 7\u001b[0;31m \u001b[0mmodel\u001b[0m\u001b[0;34m.\u001b[0m\u001b[0mlearn\u001b[0m\u001b[0;34m(\u001b[0m\u001b[0;36m10\u001b[0m\u001b[0;34m*\u001b[0m\u001b[0;36m1000\u001b[0m\u001b[0;34m)\u001b[0m\u001b[0;34m\u001b[0m\u001b[0;34m\u001b[0m\u001b[0m\n\u001b[0m\u001b[1;32m      8\u001b[0m \u001b[0mprint\u001b[0m\u001b[0;34m(\u001b[0m\u001b[0;34m\"LEARNING COMPLETED!\"\u001b[0m\u001b[0;34m)\u001b[0m\u001b[0;34m\u001b[0m\u001b[0;34m\u001b[0m\u001b[0m\n\u001b[1;32m      9\u001b[0m \u001b[0;34m\u001b[0m\u001b[0m\n",
            "\u001b[0;32m/tensorflow-1.15.2/python3.6/stable_baselines/ppo2/ppo2.py\u001b[0m in \u001b[0;36mlearn\u001b[0;34m(self, total_timesteps, callback, seed, log_interval, tb_log_name)\u001b[0m\n\u001b[1;32m    274\u001b[0m                 \u001b[0mcliprangenow\u001b[0m \u001b[0;34m=\u001b[0m \u001b[0mself\u001b[0m\u001b[0;34m.\u001b[0m\u001b[0mcliprange\u001b[0m\u001b[0;34m(\u001b[0m\u001b[0mfrac\u001b[0m\u001b[0;34m)\u001b[0m\u001b[0;34m\u001b[0m\u001b[0;34m\u001b[0m\u001b[0m\n\u001b[1;32m    275\u001b[0m                 \u001b[0;31m# true_reward is the reward without discount\u001b[0m\u001b[0;34m\u001b[0m\u001b[0;34m\u001b[0m\u001b[0;34m\u001b[0m\u001b[0m\n\u001b[0;32m--> 276\u001b[0;31m                 \u001b[0mobs\u001b[0m\u001b[0;34m,\u001b[0m \u001b[0mreturns\u001b[0m\u001b[0;34m,\u001b[0m \u001b[0mmasks\u001b[0m\u001b[0;34m,\u001b[0m \u001b[0mactions\u001b[0m\u001b[0;34m,\u001b[0m \u001b[0mvalues\u001b[0m\u001b[0;34m,\u001b[0m \u001b[0mneglogpacs\u001b[0m\u001b[0;34m,\u001b[0m \u001b[0mstates\u001b[0m\u001b[0;34m,\u001b[0m \u001b[0mep_infos\u001b[0m\u001b[0;34m,\u001b[0m \u001b[0mtrue_reward\u001b[0m \u001b[0;34m=\u001b[0m \u001b[0mrunner\u001b[0m\u001b[0;34m.\u001b[0m\u001b[0mrun\u001b[0m\u001b[0;34m(\u001b[0m\u001b[0;34m)\u001b[0m\u001b[0;34m\u001b[0m\u001b[0;34m\u001b[0m\u001b[0m\n\u001b[0m\u001b[1;32m    277\u001b[0m                 \u001b[0mep_info_buf\u001b[0m\u001b[0;34m.\u001b[0m\u001b[0mextend\u001b[0m\u001b[0;34m(\u001b[0m\u001b[0mep_infos\u001b[0m\u001b[0;34m)\u001b[0m\u001b[0;34m\u001b[0m\u001b[0;34m\u001b[0m\u001b[0m\n\u001b[1;32m    278\u001b[0m                 \u001b[0mmb_loss_vals\u001b[0m \u001b[0;34m=\u001b[0m \u001b[0;34m[\u001b[0m\u001b[0;34m]\u001b[0m\u001b[0;34m\u001b[0m\u001b[0;34m\u001b[0m\u001b[0m\n",
            "\u001b[0;32m/tensorflow-1.15.2/python3.6/stable_baselines/ppo2/ppo2.py\u001b[0m in \u001b[0;36mrun\u001b[0;34m(self)\u001b[0m\n\u001b[1;32m    405\u001b[0m             \u001b[0;32mif\u001b[0m \u001b[0misinstance\u001b[0m\u001b[0;34m(\u001b[0m\u001b[0mself\u001b[0m\u001b[0;34m.\u001b[0m\u001b[0menv\u001b[0m\u001b[0;34m.\u001b[0m\u001b[0maction_space\u001b[0m\u001b[0;34m,\u001b[0m \u001b[0mgym\u001b[0m\u001b[0;34m.\u001b[0m\u001b[0mspaces\u001b[0m\u001b[0;34m.\u001b[0m\u001b[0mBox\u001b[0m\u001b[0;34m)\u001b[0m\u001b[0;34m:\u001b[0m\u001b[0;34m\u001b[0m\u001b[0;34m\u001b[0m\u001b[0m\n\u001b[1;32m    406\u001b[0m                 \u001b[0mclipped_actions\u001b[0m \u001b[0;34m=\u001b[0m \u001b[0mnp\u001b[0m\u001b[0;34m.\u001b[0m\u001b[0mclip\u001b[0m\u001b[0;34m(\u001b[0m\u001b[0mactions\u001b[0m\u001b[0;34m,\u001b[0m \u001b[0mself\u001b[0m\u001b[0;34m.\u001b[0m\u001b[0menv\u001b[0m\u001b[0;34m.\u001b[0m\u001b[0maction_space\u001b[0m\u001b[0;34m.\u001b[0m\u001b[0mlow\u001b[0m\u001b[0;34m,\u001b[0m \u001b[0mself\u001b[0m\u001b[0;34m.\u001b[0m\u001b[0menv\u001b[0m\u001b[0;34m.\u001b[0m\u001b[0maction_space\u001b[0m\u001b[0;34m.\u001b[0m\u001b[0mhigh\u001b[0m\u001b[0;34m)\u001b[0m\u001b[0;34m\u001b[0m\u001b[0;34m\u001b[0m\u001b[0m\n\u001b[0;32m--> 407\u001b[0;31m             \u001b[0mself\u001b[0m\u001b[0;34m.\u001b[0m\u001b[0mobs\u001b[0m\u001b[0;34m[\u001b[0m\u001b[0;34m:\u001b[0m\u001b[0;34m]\u001b[0m\u001b[0;34m,\u001b[0m \u001b[0mrewards\u001b[0m\u001b[0;34m,\u001b[0m \u001b[0mself\u001b[0m\u001b[0;34m.\u001b[0m\u001b[0mdones\u001b[0m\u001b[0;34m,\u001b[0m \u001b[0minfos\u001b[0m \u001b[0;34m=\u001b[0m \u001b[0mself\u001b[0m\u001b[0;34m.\u001b[0m\u001b[0menv\u001b[0m\u001b[0;34m.\u001b[0m\u001b[0mstep\u001b[0m\u001b[0;34m(\u001b[0m\u001b[0mclipped_actions\u001b[0m\u001b[0;34m)\u001b[0m\u001b[0;34m\u001b[0m\u001b[0;34m\u001b[0m\u001b[0m\n\u001b[0m\u001b[1;32m    408\u001b[0m             \u001b[0;32mfor\u001b[0m \u001b[0minfo\u001b[0m \u001b[0;32min\u001b[0m \u001b[0minfos\u001b[0m\u001b[0;34m:\u001b[0m\u001b[0;34m\u001b[0m\u001b[0;34m\u001b[0m\u001b[0m\n\u001b[1;32m    409\u001b[0m                 \u001b[0mmaybeep_info\u001b[0m \u001b[0;34m=\u001b[0m \u001b[0minfo\u001b[0m\u001b[0;34m.\u001b[0m\u001b[0mget\u001b[0m\u001b[0;34m(\u001b[0m\u001b[0;34m'episode'\u001b[0m\u001b[0;34m)\u001b[0m\u001b[0;34m\u001b[0m\u001b[0;34m\u001b[0m\u001b[0m\n",
            "\u001b[0;32m/tensorflow-1.15.2/python3.6/stable_baselines/common/vec_env/base_vec_env.py\u001b[0m in \u001b[0;36mstep\u001b[0;34m(self, actions)\u001b[0m\n\u001b[1;32m     92\u001b[0m         \"\"\"\n\u001b[1;32m     93\u001b[0m         \u001b[0mself\u001b[0m\u001b[0;34m.\u001b[0m\u001b[0mstep_async\u001b[0m\u001b[0;34m(\u001b[0m\u001b[0mactions\u001b[0m\u001b[0;34m)\u001b[0m\u001b[0;34m\u001b[0m\u001b[0;34m\u001b[0m\u001b[0m\n\u001b[0;32m---> 94\u001b[0;31m         \u001b[0;32mreturn\u001b[0m \u001b[0mself\u001b[0m\u001b[0;34m.\u001b[0m\u001b[0mstep_wait\u001b[0m\u001b[0;34m(\u001b[0m\u001b[0;34m)\u001b[0m\u001b[0;34m\u001b[0m\u001b[0;34m\u001b[0m\u001b[0m\n\u001b[0m\u001b[1;32m     95\u001b[0m \u001b[0;34m\u001b[0m\u001b[0m\n\u001b[1;32m     96\u001b[0m     \u001b[0;32mdef\u001b[0m \u001b[0mget_images\u001b[0m\u001b[0;34m(\u001b[0m\u001b[0mself\u001b[0m\u001b[0;34m)\u001b[0m\u001b[0;34m:\u001b[0m\u001b[0;34m\u001b[0m\u001b[0;34m\u001b[0m\u001b[0m\n",
            "\u001b[0;32m/tensorflow-1.15.2/python3.6/stable_baselines/common/vec_env/dummy_vec_env.py\u001b[0m in \u001b[0;36mstep_wait\u001b[0;34m(self)\u001b[0m\n\u001b[1;32m     45\u001b[0m         \u001b[0;32mfor\u001b[0m \u001b[0menv_idx\u001b[0m \u001b[0;32min\u001b[0m \u001b[0mrange\u001b[0m\u001b[0;34m(\u001b[0m\u001b[0mself\u001b[0m\u001b[0;34m.\u001b[0m\u001b[0mnum_envs\u001b[0m\u001b[0;34m)\u001b[0m\u001b[0;34m:\u001b[0m\u001b[0;34m\u001b[0m\u001b[0;34m\u001b[0m\u001b[0m\n\u001b[1;32m     46\u001b[0m             \u001b[0mobs\u001b[0m\u001b[0;34m,\u001b[0m \u001b[0mself\u001b[0m\u001b[0;34m.\u001b[0m\u001b[0mbuf_rews\u001b[0m\u001b[0;34m[\u001b[0m\u001b[0menv_idx\u001b[0m\u001b[0;34m]\u001b[0m\u001b[0;34m,\u001b[0m \u001b[0mself\u001b[0m\u001b[0;34m.\u001b[0m\u001b[0mbuf_dones\u001b[0m\u001b[0;34m[\u001b[0m\u001b[0menv_idx\u001b[0m\u001b[0;34m]\u001b[0m\u001b[0;34m,\u001b[0m \u001b[0mself\u001b[0m\u001b[0;34m.\u001b[0m\u001b[0mbuf_infos\u001b[0m\u001b[0;34m[\u001b[0m\u001b[0menv_idx\u001b[0m\u001b[0;34m]\u001b[0m \u001b[0;34m=\u001b[0m\u001b[0;31m\\\u001b[0m\u001b[0;34m\u001b[0m\u001b[0;34m\u001b[0m\u001b[0m\n\u001b[0;32m---> 47\u001b[0;31m                 \u001b[0mself\u001b[0m\u001b[0;34m.\u001b[0m\u001b[0menvs\u001b[0m\u001b[0;34m[\u001b[0m\u001b[0menv_idx\u001b[0m\u001b[0;34m]\u001b[0m\u001b[0;34m.\u001b[0m\u001b[0mstep\u001b[0m\u001b[0;34m(\u001b[0m\u001b[0mself\u001b[0m\u001b[0;34m.\u001b[0m\u001b[0mactions\u001b[0m\u001b[0;34m[\u001b[0m\u001b[0menv_idx\u001b[0m\u001b[0;34m]\u001b[0m\u001b[0;34m)\u001b[0m\u001b[0;34m\u001b[0m\u001b[0;34m\u001b[0m\u001b[0m\n\u001b[0m\u001b[1;32m     48\u001b[0m             \u001b[0;32mif\u001b[0m \u001b[0mself\u001b[0m\u001b[0;34m.\u001b[0m\u001b[0mbuf_dones\u001b[0m\u001b[0;34m[\u001b[0m\u001b[0menv_idx\u001b[0m\u001b[0;34m]\u001b[0m\u001b[0;34m:\u001b[0m\u001b[0;34m\u001b[0m\u001b[0;34m\u001b[0m\u001b[0m\n\u001b[1;32m     49\u001b[0m                 \u001b[0mobs\u001b[0m \u001b[0;34m=\u001b[0m \u001b[0mself\u001b[0m\u001b[0;34m.\u001b[0m\u001b[0menvs\u001b[0m\u001b[0;34m[\u001b[0m\u001b[0menv_idx\u001b[0m\u001b[0;34m]\u001b[0m\u001b[0;34m.\u001b[0m\u001b[0mreset\u001b[0m\u001b[0;34m(\u001b[0m\u001b[0;34m)\u001b[0m\u001b[0;34m\u001b[0m\u001b[0;34m\u001b[0m\u001b[0m\n",
            "\u001b[0;32m<ipython-input-12-5f31738c8a07>\u001b[0m in \u001b[0;36mstep\u001b[0;34m(self, action)\u001b[0m\n\u001b[1;32m    257\u001b[0m \u001b[0;34m\u001b[0m\u001b[0m\n\u001b[1;32m    258\u001b[0m     \u001b[0;31m# aggiorno la mappa col ch dell'observer per risparmiare 50ms\u001b[0m\u001b[0;34m\u001b[0m\u001b[0;34m\u001b[0m\u001b[0;34m\u001b[0m\u001b[0m\n\u001b[0;32m--> 259\u001b[0;31m     \u001b[0mself\u001b[0m\u001b[0;34m.\u001b[0m\u001b[0mmap\u001b[0m \u001b[0;34m=\u001b[0m \u001b[0mself\u001b[0m\u001b[0;34m.\u001b[0m\u001b[0mch_map\u001b[0m\u001b[0;34m.\u001b[0m\u001b[0mgetMap\u001b[0m\u001b[0;34m(\u001b[0m\u001b[0;34m)\u001b[0m\u001b[0;34m\u001b[0m\u001b[0;34m\u001b[0m\u001b[0m\n\u001b[0m\u001b[1;32m    260\u001b[0m     \u001b[0mself\u001b[0m\u001b[0;34m.\u001b[0m\u001b[0mworld\u001b[0m \u001b[0;34m=\u001b[0m \u001b[0mnp\u001b[0m\u001b[0;34m.\u001b[0m\u001b[0marray\u001b[0m\u001b[0;34m(\u001b[0m\u001b[0mprepareMap2\u001b[0m\u001b[0;34m(\u001b[0m\u001b[0mcopy\u001b[0m\u001b[0;34m.\u001b[0m\u001b[0mdeepcopy\u001b[0m\u001b[0;34m(\u001b[0m\u001b[0mself\u001b[0m\u001b[0;34m.\u001b[0m\u001b[0mmap\u001b[0m\u001b[0;34m)\u001b[0m\u001b[0;34m)\u001b[0m\u001b[0;34m)\u001b[0m\u001b[0;34m\u001b[0m\u001b[0;34m\u001b[0m\u001b[0m\n\u001b[1;32m    261\u001b[0m     \u001b[0mobs\u001b[0m \u001b[0;34m=\u001b[0m \u001b[0mself\u001b[0m\u001b[0;34m.\u001b[0m\u001b[0m_next_observation\u001b[0m\u001b[0;34m(\u001b[0m\u001b[0;34m)\u001b[0m\u001b[0;34m\u001b[0m\u001b[0;34m\u001b[0m\u001b[0m\n",
            "\u001b[0;32m<ipython-input-4-74940b2672de>\u001b[0m in \u001b[0;36mgetMap\u001b[0;34m(self)\u001b[0m\n\u001b[1;32m    103\u001b[0m     \u001b[0;31m# Getting the map\u001b[0m\u001b[0;34m\u001b[0m\u001b[0;34m\u001b[0m\u001b[0;34m\u001b[0m\u001b[0m\n\u001b[1;32m    104\u001b[0m     \u001b[0mself\u001b[0m\u001b[0;34m.\u001b[0m\u001b[0mtn\u001b[0m\u001b[0;34m.\u001b[0m\u001b[0mwrite\u001b[0m\u001b[0;34m(\u001b[0m\u001b[0mcommand\u001b[0m\u001b[0;34m.\u001b[0m\u001b[0mencode\u001b[0m\u001b[0;34m(\u001b[0m\u001b[0;34m'utf8'\u001b[0m\u001b[0;34m)\u001b[0m\u001b[0;34m)\u001b[0m\u001b[0;34m\u001b[0m\u001b[0;34m\u001b[0m\u001b[0m\n\u001b[0;32m--> 105\u001b[0;31m     \u001b[0mmessage\u001b[0m \u001b[0;34m=\u001b[0m \u001b[0mself\u001b[0m\u001b[0;34m.\u001b[0m\u001b[0mtn\u001b[0m\u001b[0;34m.\u001b[0m\u001b[0mread_until\u001b[0m\u001b[0;34m(\u001b[0m\u001b[0;34m'»\\n'\u001b[0m\u001b[0;34m.\u001b[0m\u001b[0mencode\u001b[0m\u001b[0;34m(\u001b[0m\u001b[0;34m'utf8'\u001b[0m\u001b[0;34m)\u001b[0m\u001b[0;34m)\u001b[0m\u001b[0;34m.\u001b[0m\u001b[0mdecode\u001b[0m\u001b[0;34m(\u001b[0m\u001b[0;34m'utf8'\u001b[0m\u001b[0;34m)\u001b[0m\u001b[0;34m\u001b[0m\u001b[0;34m\u001b[0m\u001b[0m\n\u001b[0m\u001b[1;32m    106\u001b[0m     \u001b[0;32mif\u001b[0m \u001b[0;34m(\u001b[0m\u001b[0;34m'ERROR'\u001b[0m \u001b[0;32min\u001b[0m \u001b[0mmessage\u001b[0m\u001b[0;34m)\u001b[0m\u001b[0;34m:\u001b[0m\u001b[0;34m\u001b[0m\u001b[0;34m\u001b[0m\u001b[0m\n\u001b[1;32m    107\u001b[0m       \u001b[0;32mreturn\u001b[0m \u001b[0;34m-\u001b[0m\u001b[0;36m1\u001b[0m\u001b[0;34m\u001b[0m\u001b[0;34m\u001b[0m\u001b[0m\n",
            "\u001b[0;32m/usr/lib/python3.6/telnetlib.py\u001b[0m in \u001b[0;36mread_until\u001b[0;34m(self, match, timeout)\u001b[0m\n\u001b[1;32m    311\u001b[0m             \u001b[0mselector\u001b[0m\u001b[0;34m.\u001b[0m\u001b[0mregister\u001b[0m\u001b[0;34m(\u001b[0m\u001b[0mself\u001b[0m\u001b[0;34m,\u001b[0m \u001b[0mselectors\u001b[0m\u001b[0;34m.\u001b[0m\u001b[0mEVENT_READ\u001b[0m\u001b[0;34m)\u001b[0m\u001b[0;34m\u001b[0m\u001b[0;34m\u001b[0m\u001b[0m\n\u001b[1;32m    312\u001b[0m             \u001b[0;32mwhile\u001b[0m \u001b[0;32mnot\u001b[0m \u001b[0mself\u001b[0m\u001b[0;34m.\u001b[0m\u001b[0meof\u001b[0m\u001b[0;34m:\u001b[0m\u001b[0;34m\u001b[0m\u001b[0;34m\u001b[0m\u001b[0m\n\u001b[0;32m--> 313\u001b[0;31m                 \u001b[0;32mif\u001b[0m \u001b[0mselector\u001b[0m\u001b[0;34m.\u001b[0m\u001b[0mselect\u001b[0m\u001b[0;34m(\u001b[0m\u001b[0mtimeout\u001b[0m\u001b[0;34m)\u001b[0m\u001b[0;34m:\u001b[0m\u001b[0;34m\u001b[0m\u001b[0;34m\u001b[0m\u001b[0m\n\u001b[0m\u001b[1;32m    314\u001b[0m                     \u001b[0mi\u001b[0m \u001b[0;34m=\u001b[0m \u001b[0mmax\u001b[0m\u001b[0;34m(\u001b[0m\u001b[0;36m0\u001b[0m\u001b[0;34m,\u001b[0m \u001b[0mlen\u001b[0m\u001b[0;34m(\u001b[0m\u001b[0mself\u001b[0m\u001b[0;34m.\u001b[0m\u001b[0mcookedq\u001b[0m\u001b[0;34m)\u001b[0m\u001b[0;34m-\u001b[0m\u001b[0mn\u001b[0m\u001b[0;34m)\u001b[0m\u001b[0;34m\u001b[0m\u001b[0;34m\u001b[0m\u001b[0m\n\u001b[1;32m    315\u001b[0m                     \u001b[0mself\u001b[0m\u001b[0;34m.\u001b[0m\u001b[0mfill_rawq\u001b[0m\u001b[0;34m(\u001b[0m\u001b[0;34m)\u001b[0m\u001b[0;34m\u001b[0m\u001b[0;34m\u001b[0m\u001b[0m\n",
            "\u001b[0;32m/usr/lib/python3.6/selectors.py\u001b[0m in \u001b[0;36mselect\u001b[0;34m(self, timeout)\u001b[0m\n\u001b[1;32m    374\u001b[0m             \u001b[0mready\u001b[0m \u001b[0;34m=\u001b[0m \u001b[0;34m[\u001b[0m\u001b[0;34m]\u001b[0m\u001b[0;34m\u001b[0m\u001b[0;34m\u001b[0m\u001b[0m\n\u001b[1;32m    375\u001b[0m             \u001b[0;32mtry\u001b[0m\u001b[0;34m:\u001b[0m\u001b[0;34m\u001b[0m\u001b[0;34m\u001b[0m\u001b[0m\n\u001b[0;32m--> 376\u001b[0;31m                 \u001b[0mfd_event_list\u001b[0m \u001b[0;34m=\u001b[0m \u001b[0mself\u001b[0m\u001b[0;34m.\u001b[0m\u001b[0m_poll\u001b[0m\u001b[0;34m.\u001b[0m\u001b[0mpoll\u001b[0m\u001b[0;34m(\u001b[0m\u001b[0mtimeout\u001b[0m\u001b[0;34m)\u001b[0m\u001b[0;34m\u001b[0m\u001b[0;34m\u001b[0m\u001b[0m\n\u001b[0m\u001b[1;32m    377\u001b[0m             \u001b[0;32mexcept\u001b[0m \u001b[0mInterruptedError\u001b[0m\u001b[0;34m:\u001b[0m\u001b[0;34m\u001b[0m\u001b[0;34m\u001b[0m\u001b[0m\n\u001b[1;32m    378\u001b[0m                 \u001b[0;32mreturn\u001b[0m \u001b[0mready\u001b[0m\u001b[0;34m\u001b[0m\u001b[0;34m\u001b[0m\u001b[0m\n",
            "\u001b[0;31mKeyboardInterrupt\u001b[0m: "
          ]
        }
      ]
    },
    {
      "cell_type": "markdown",
      "metadata": {
        "id": "GliM_D1lttV6"
      },
      "source": [
        "### DQN Class"
      ]
    },
    {
      "cell_type": "code",
      "metadata": {
        "id": "s98f7Ci3DnZR"
      },
      "source": [
        "#Hyper Parameters\r\n",
        "def discount_rate(): #Gamma\r\n",
        "    return 0.95\r\n",
        "\r\n",
        "def learning_rate(): #Alpha\r\n",
        "    return 0.001\r\n",
        "\r\n",
        "def batch_size(): #Size of the batch used in the experience replay\r\n",
        "    return 24"
      ],
      "execution_count": null,
      "outputs": []
    },
    {
      "cell_type": "code",
      "metadata": {
        "id": "HtjgCSD7t70p"
      },
      "source": [
        "LAYER_1 = 129*256\r\n",
        "LAYER_2 = 64*128\r\n",
        "LAYER_3 = 32*64\r\n",
        "class DeepQNetwork():\r\n",
        "    def __init__(self, states, actions, alpha, gamma, epsilon,epsilon_min, epsilon_decay):\r\n",
        "        self.nS = states\r\n",
        "        self.nA = actions\r\n",
        "        self.memory = deque([], maxlen=2500)\r\n",
        "        self.alpha = alpha\r\n",
        "        self.gamma = gamma\r\n",
        "        #Explore/Exploit\r\n",
        "        self.epsilon = epsilon\r\n",
        "        self.epsilon_min = epsilon_min\r\n",
        "        self.epsilon_decay = epsilon_decay\r\n",
        "        self.model = self.build_model()\r\n",
        "        self.loss = []\r\n",
        "        \r\n",
        "    def build_model(self):\r\n",
        "        model = keras.Sequential() #linear stack of layers https://keras.io/models/sequential/\r\n",
        "        model.add(keras.layers.Dense(LAYER_2, input_dim=self.nS, activation='relu')) #[Input] -> Layer 1\r\n",
        "        #   Dense: Densely connected layer https://keras.io/layers/core/\r\n",
        "        #   24: Number of neurons\r\n",
        "        #   input_dim: Number of input variables\r\n",
        "        #   activation: Rectified Linear Unit (relu) ranges >= 0\r\n",
        "        #model.add(keras.layers.Dense(LAYER_2, activation='relu')) #Layer 2 -> 3\r\n",
        "        model.add(keras.layers.Dense(LAYER_3, activation='relu')) #Layer 3 -> 4\r\n",
        "        model.add(keras.layers.Dense(self.nA, activation='linear')) #Layer 4 -> [output]\r\n",
        "        #   Size has to match the output (different actions)\r\n",
        "        #   Linear activation on the last layer\r\n",
        "        model.compile(loss='mean_squared_error', #Loss function: Mean Squared Error\r\n",
        "                      optimizer=keras.optimizers.Adam(lr=self.alpha)) #Optimaizer: Adam (Feel free to check other options)\r\n",
        "        return model\r\n",
        "\r\n",
        "    def action(self, state):\r\n",
        "        if np.random.rand() <= self.epsilon:\r\n",
        "            return random.randrange(self.nA) #Explore\r\n",
        "        action_vals = self.model.predict(state) #Exploit: Use the NN to predict the correct action from this state\r\n",
        "        return np.argmax(action_vals[0])\r\n",
        "\r\n",
        "    def test_action(self, state): #Exploit\r\n",
        "        action_vals = self.model.predict(state)\r\n",
        "        return np.argmax(action_vals[0])\r\n",
        "\r\n",
        "    def store(self, state, action, reward, nstate, done):\r\n",
        "        #Store the experience in memory\r\n",
        "        self.memory.append( (state, action, reward, nstate, done) )\r\n",
        "\r\n",
        "    def experience_replay(self, batch_size):\r\n",
        "        #Execute the experience replay\r\n",
        "        minibatch = random.sample( self.memory, batch_size ) #Randomly sample from memory\r\n",
        "\r\n",
        "        #Convert to numpy for speed by vectorization\r\n",
        "        x = []\r\n",
        "        y = []\r\n",
        "        np_array = np.array(minibatch)\r\n",
        "        st = np.zeros((0,self.nS)) #States\r\n",
        "        nst = np.zeros( (0,self.nS) )#Next States\r\n",
        "        for i in range(len(np_array)): #Creating the state and next state np arrays\r\n",
        "            st = np.append( st, np_array[i,0], axis=0)\r\n",
        "            nst = np.append( nst, np_array[i,3], axis=0)\r\n",
        "        st_predict = self.model.predict(st) #Here is the speedup! I can predict on the ENTIRE batch\r\n",
        "        nst_predict = self.model.predict(nst)\r\n",
        "        index = 0\r\n",
        "        for state, action, reward, nstate, done in minibatch:\r\n",
        "            x.append(state)\r\n",
        "            #Predict from state\r\n",
        "            nst_action_predict_model = nst_predict[index]\r\n",
        "            if done == True: #Terminal: Just assign reward much like {* (not done) - QB[state][action]}\r\n",
        "                target = reward\r\n",
        "            else:   #Non terminal\r\n",
        "                target = reward + self.gamma * np.amax(nst_action_predict_model)\r\n",
        "            target_f = st_predict[index]\r\n",
        "            target_f[action] = target\r\n",
        "            y.append(target_f)\r\n",
        "            index += 1\r\n",
        "        #Reshape for Keras Fit\r\n",
        "        x_reshape = np.array(x).reshape(batch_size,self.nS)\r\n",
        "        y_reshape = np.array(y)\r\n",
        "        epoch_count = 1 #Epochs is the number or iterations\r\n",
        "        hist = self.model.fit(x_reshape, y_reshape, epochs=epoch_count, verbose=0)\r\n",
        "        #Graph Losses\r\n",
        "        for i in range(epoch_count):\r\n",
        "            self.loss.append( hist.history['loss'][i] )\r\n",
        "        #Decay Epsilon\r\n",
        "        if self.epsilon > self.epsilon_min:\r\n",
        "            self.epsilon *= self.epsilon_decay"
      ],
      "execution_count": null,
      "outputs": []
    },
    {
      "cell_type": "code",
      "metadata": {
        "id": "h9C6QT_duASm"
      },
      "source": [
        "#Create the agent\r\n",
        "#nS = envCartPole.observation_space.shape[0] #This is only 4\r\n",
        "#nA = envCartPole.action_space.n #Actions\r\n",
        "#env = DummyVecEnv([lambda: AmongAIsEnv(n_players=n_players)])\r\n",
        "\r\n",
        "N_PLAYERS = 6\r\n",
        "env = AmongAIsEnv(n_players=N_PLAYERS, match_number=0)\r\n",
        "nS = env.observation_space.shape[0] * env.observation_space.shape[1]\r\n",
        "nA = env.action_space.n\r\n",
        "dqn = DeepQNetwork(nS, nA, learning_rate(), discount_rate(), 1, 0.001, 0.995)\r\n",
        "\r\n",
        "batch_size = 24"
      ],
      "execution_count": null,
      "outputs": []
    },
    {
      "cell_type": "code",
      "metadata": {
        "colab": {
          "base_uri": "https://localhost:8080/",
          "height": 1000
        },
        "id": "WRN-qFNyuArd",
        "outputId": "c4e052fc-5823-40b0-ecc9-37d63f87a933"
      },
      "source": [
        "#Training\r\n",
        "#Global Variables\r\n",
        "EPISODES = 250\r\n",
        "N_ACTIONS = 300*N_PLAYERS\r\n",
        "TRAIN_END = 0\r\n",
        "rewards = [] #Store rewards for graphing\r\n",
        "epsilons = [] # Store the Explore/Exploit\r\n",
        "TEST_Episodes = 0\r\n",
        "for e in range(EPISODES):\r\n",
        "    state = env.reset()\r\n",
        "    state = np.reshape(state, [1, nS]) # Resize to store in memory to pass to .predict\r\n",
        "    tot_rewards = 0\r\n",
        "    for t in range(N_ACTIONS): #200 is when you \"solve\" the game. This can continue forever as far as I know\r\n",
        "        action = dqn.action(state)\r\n",
        "        nstate, reward, done, _ = env.step(action)\r\n",
        "        nstate = np.reshape(nstate, [1, nS])\r\n",
        "        tot_rewards += reward\r\n",
        "        dqn.store(state, action, reward, nstate, done) # Resize to store in memory to pass to .predict\r\n",
        "        state = nstate\r\n",
        "        #done: CartPole fell. \r\n",
        "        #time == 209: CartPole stayed upright\r\n",
        "        if done:# or time == 209:\r\n",
        "            rewards.append(tot_rewards)\r\n",
        "            epsilons.append(dqn.epsilon)\r\n",
        "            print(\"episode: {}/{}, score: {}, e: {}\"\r\n",
        "                  .format(e, EPISODES, tot_rewards, dqn.epsilon))\r\n",
        "            break\r\n",
        "        #Experience Replay\r\n",
        "        if len(dqn.memory) > batch_size:\r\n",
        "            dqn.experience_replay(batch_size)\r\n",
        "    #If our current NN passes we are done\r\n",
        "    #I am going to use the last 5 runs\r\n",
        "    if len(rewards) > 5 and np.average(rewards[-5:]) > 195:\r\n",
        "        #Set the rest of the EPISODES for testing\r\n",
        "        TEST_Episodes = EPISODES - e\r\n",
        "        TRAIN_END = e\r\n",
        "        break"
      ],
      "execution_count": null,
      "outputs": [
        {
          "output_type": "stream",
          "text": [
            "\n",
            "----- NEW MATCH: ai0-t0 -----\n",
            "Connected!\n",
            "Connected!\n",
            "Connected!\n",
            "Connected!\n",
            "Connected!\n",
            "Connected!\n",
            "Connected!\n",
            "[CREATE] OK\n",
            "[JOIN] OK\n",
            "[JOIN] OK\n",
            "[JOIN] OK\n",
            "[JOIN] OK\n",
            "[JOIN] OK\n",
            "[JOIN] OK\n",
            "[JOIN] OK\n",
            "[START] OK\n",
            "[MOVE-S] OK\n",
            "[MOVE-S] OK\n",
            "[MOVE-W] OK\n",
            "[MOVE-W] OK\n",
            "[MOVE-W] OK\n",
            "[MOVE-W] OK\n",
            "[MOVE-S] OK\n",
            "[MOVE-S] OK\n",
            "[MOVE-S] OK\n",
            "[MOVE-S] OK\n",
            "[MOVE-E] OK\n",
            "[MOVE-S] OK\n",
            "[MOVE-E] OK\n",
            "[MOVE-E] OK\n",
            "[MOVE] Done!\n",
            "[MOVE-N] OK\n",
            "[MOVE-N] OK\n",
            "[MOVE-W] OK\n",
            "[MOVE-W] OK\n",
            "[MOVE-W] OK\n",
            "[MOVE-N] OK\n",
            "[MOVE-W] OK\n",
            "[MOVE-N] OK\n",
            "[MOVE-W] OK\n",
            "[MOVE-W] OK\n",
            "[MOVE-W] OK\n",
            "[MOVE-W] OK\n",
            "[MOVE-W] OK\n",
            "[MOVE-W] OK\n",
            "[MOVE-W] OK\n",
            "[MOVE-N] OK\n",
            "[MOVE-N] OK\n",
            "[MOVE-N] OK\n",
            "[MOVE-N] OK\n",
            "[MOVE-N] OK\n",
            "[MOVE-N] OK\n",
            "[MOVE-W] OK\n",
            "[MOVE-W] OK\n",
            "[MOVE-W] OK\n",
            "[MOVE-W] OK\n",
            "[MOVE-N] OK\n",
            "[MOVE-W] OK\n",
            "[MOVE-W] OK\n",
            "[MOVE-N] OK\n",
            "[MOVE] Done!\n",
            "[MOVE-S] OK\n",
            "[MOVE-S] OK\n",
            "[MOVE-S] OK\n",
            "[MOVE-S] OK\n",
            "[MOVE-S] OK\n",
            "[MOVE-S] OK\n",
            "[MOVE-S] OK\n",
            "[MOVE-S] OK\n",
            "[MOVE-S] OK\n",
            "[MOVE-S] OK\n",
            "[MOVE-S] OK\n",
            "[MOVE-S] OK\n",
            "[MOVE-S] OK\n",
            "[MOVE-S] OK\n",
            "[MOVE-S] OK\n",
            "[MOVE-S] OK\n",
            "[MOVE-E] OK\n",
            "[MOVE-E] OK\n",
            "[MOVE-E] OK\n",
            "[MOVE] Done!\n",
            "[MOVE-W] OK\n",
            "[MOVE-W] OK\n",
            "[MOVE-W] OK\n",
            "[MOVE-W] OK\n",
            "[MOVE-W] OK\n",
            "[MOVE-W] OK\n",
            "[MOVE-W] OK\n",
            "[MOVE-W] OK\n",
            "[MOVE-W] OK\n",
            "[MOVE-S] OK\n",
            "[MOVE-W] OK\n",
            "[MOVE-W] OK\n",
            "[MOVE-W] OK\n",
            "[MOVE-S] OK\n",
            "[MOVE-W] OK\n",
            "[MOVE-S] OK\n",
            "[MOVE-S] OK\n",
            "[MOVE-S] OK\n",
            "[MOVE-W] OK\n",
            "[MOVE-S] OK\n",
            "[MOVE-S] OK\n",
            "[MOVE-S] OK\n",
            "[MOVE-S] OK\n",
            "[MOVE-S] OK\n",
            "[MOVE-S] OK\n",
            "[MOVE-S] OK\n",
            "[MOVE-W] OK\n",
            "[MOVE-W] OK\n",
            "[MOVE-S] OK\n",
            "[MOVE-S] OK\n",
            "[MOVE-S] OK\n",
            "[MOVE] Done!\n",
            "[MOVE-W] OK\n",
            "[MOVE-S] OK\n",
            "[MOVE-S] OK\n",
            "[MOVE-S] OK\n",
            "[MOVE-S] OK\n",
            "[MOVE-E] OK\n",
            "[MOVE-E] OK\n",
            "[MOVE-E] OK\n",
            "[MOVE] Done!\n",
            "[MOVE-S] OK\n",
            "[MOVE-W] OK\n",
            "[MOVE-W] OK\n",
            "[MOVE-W] OK\n",
            "[MOVE-W] OK\n",
            "[MOVE-W] OK\n",
            "[MOVE-W] OK\n",
            "[MOVE-W] OK\n",
            "[MOVE-W] OK\n",
            "[MOVE-S] OK\n",
            "[MOVE-W] OK\n",
            "[MOVE-S] OK\n",
            "[MOVE-S] OK\n",
            "[MOVE-S] OK\n",
            "[MOVE-S] OK\n",
            "[MOVE-W] OK\n",
            "[MOVE-W] OK\n",
            "[MOVE-W] OK\n",
            "[MOVE-W] OK\n",
            "[MOVE-W] OK\n",
            "[MOVE] Done!\n",
            "[SHOOT-W] OK\n",
            "[player_0-REWARD]: -2\n",
            "[MOVE-S] OK\n",
            "[player_1-REWARD]: -6\n",
            "[NOP]True\n",
            "[player_2-REWARD]: -100\n",
            "[SHOOT-W] OK\n",
            "[player_3-REWARD]: -2\n",
            "[SHOOT-W] OK\n",
            "[player_4-REWARD]: -14\n",
            "[MOVE-W] OK\n",
            "[player_5-REWARD]: 4\n",
            "[MOVE-E] OK\n",
            "[player_0-REWARD]: 4\n",
            "[SHOOT-N] OK\n",
            "[player_1-REWARD]: -30\n",
            "[MOVE-S] OK\n",
            "[player_2-REWARD]: -10\n",
            "[SHOOT-S] OK\n",
            "[player_3-REWARD]: -32\n",
            "[MOVE-E] OK\n",
            "[player_4-REWARD]: -10\n",
            "[MOVE-E] OK\n",
            "[player_5-REWARD]: -6\n",
            "[SHOOT-N] OK\n",
            "[player_0-REWARD]: -4\n",
            "[SHOOT-N] OK\n",
            "[player_1-REWARD]: -10\n",
            "[SHOOT-S] ERROR\n",
            "[player_2-REWARD]: -10\n",
            "[SHOOT-W] OK\n",
            "[player_3-REWARD]: -2\n",
            "[SHOOT-E] OK\n",
            "[player_4-REWARD]: -2\n",
            "[MOVE-W] OK\n",
            "[player_5-REWARD]: -10\n",
            "[SHOOT-N] OK\n",
            "[player_0-REWARD]: -4\n",
            "[NOP]True\n",
            "[player_1-REWARD]: -100\n",
            "[MOVE-N] OK\n",
            "[player_2-REWARD]: -10\n",
            "[NOP]True\n",
            "[player_3-REWARD]: -100\n",
            "[NOP]True\n",
            "[player_4-REWARD]: -100\n",
            "[MOVE-E] OK\n",
            "[player_5-REWARD]: -10\n",
            "[MOVE-N] OK\n",
            "[player_0-REWARD]: -6\n"
          ],
          "name": "stdout"
        },
        {
          "output_type": "stream",
          "text": [
            "/usr/local/lib/python3.6/dist-packages/ipykernel_launcher.py:55: VisibleDeprecationWarning: Creating an ndarray from ragged nested sequences (which is a list-or-tuple of lists-or-tuples-or ndarrays with different lengths or shapes) is deprecated. If you meant to do this, you must specify 'dtype=object' when creating the ndarray\n"
          ],
          "name": "stderr"
        },
        {
          "output_type": "stream",
          "text": [
            "[MOVE-W] OK\n",
            "[player_1-REWARD]: 4\n",
            "[MOVE-W] OK\n",
            "[player_2-REWARD]: -10\n",
            "[SHOOT-E] OK\n",
            "[player_3-REWARD]: -2\n",
            "[SHOOT-S] OK\n",
            "[player_4-REWARD]: -24\n",
            "[MOVE-N] OK\n",
            "[player_5-REWARD]: -10\n",
            "[NOP]True\n",
            "[player_0-REWARD]: -100\n",
            "[MOVE-W] OK\n",
            "[player_1-REWARD]: 4\n",
            "[SHOOT-W] ERROR\n",
            "[player_2-REWARD]: -10\n",
            "[SHOOT-N] OK\n",
            "[player_3-REWARD]: -14\n",
            "[SHOOT-N] OK\n",
            "[player_4-REWARD]: -4\n",
            "[MOVE-N] OK\n",
            "[player_5-REWARD]: -10\n",
            "[SHOOT-W] ERROR\n",
            "[player_0-REWARD]: -10\n",
            "[MOVE-E] OK\n",
            "[player_1-REWARD]: -6\n",
            "[SHOOT-E] ERROR\n",
            "[player_2-REWARD]: -10\n",
            "[MOVE-W] OK\n",
            "[player_3-REWARD]: -10\n",
            "[MOVE-S] OK\n",
            "[player_4-REWARD]: 4\n",
            "[MOVE-W] OK\n",
            "[player_5-REWARD]: -10\n",
            "[SHOOT-S] ERROR\n",
            "[player_0-REWARD]: -10\n",
            "[SHOOT-N] OK\n",
            "[player_1-REWARD]: -30\n",
            "[MOVE-S] OK\n",
            "[player_2-REWARD]: -10\n",
            "[MOVE-S] OK\n",
            "[player_3-REWARD]: 4\n",
            "[NOP]True\n",
            "[player_4-REWARD]: -100\n",
            "[MOVE-E] OK\n",
            "[player_5-REWARD]: -10\n",
            "[MOVE-S] OK\n",
            "[player_0-REWARD]: -10\n",
            "[MOVE-S] OK\n",
            "[player_1-REWARD]: -10\n",
            "[MOVE-S] OK\n",
            "[player_2-REWARD]: -10\n",
            "[MOVE-S] OK\n",
            "[player_3-REWARD]: 4\n",
            "[SHOOT-S] OK\n",
            "[player_4-REWARD]: -22\n",
            "[SHOOT-N] ERROR\n",
            "[player_5-REWARD]: -10\n",
            "[MOVE-W] OK\n",
            "[player_0-REWARD]: -10\n",
            "[SHOOT-E] OK\n",
            "[player_1-REWARD]: -14\n",
            "[SHOOT-N] ERROR\n",
            "[player_2-REWARD]: -10\n",
            "[MOVE-S] OK\n",
            "[player_3-REWARD]: 4\n",
            "[NOP]True\n",
            "[player_4-REWARD]: -100\n",
            "[SHOOT-W] ERROR\n",
            "[player_5-REWARD]: -10\n",
            "[SHOOT-N] ERROR\n",
            "[player_0-REWARD]: -10\n",
            "[MOVE-E] OK\n",
            "[player_1-REWARD]: -6\n",
            "[MOVE-W] OK\n",
            "[player_2-REWARD]: -10\n",
            "[SHOOT-E] OK\n",
            "[player_3-REWARD]: -20\n",
            "[NOP]True\n",
            "[player_4-REWARD]: -100\n",
            "[SHOOT-N] ERROR\n",
            "[player_5-REWARD]: -10\n",
            "[MOVE-W] OK\n",
            "[player_0-REWARD]: -10\n",
            "[SHOOT-N] OK\n",
            "[player_1-REWARD]: -10\n",
            "[SHOOT-W] ERROR\n",
            "[player_2-REWARD]: -10\n",
            "[MOVE-S] OK\n",
            "[player_3-REWARD]: 4\n",
            "[SHOOT-N] OK\n",
            "[player_4-REWARD]: -6\n",
            "[NOP]True\n",
            "[player_5-REWARD]: -100\n",
            "[SHOOT-W] ERROR\n",
            "[player_0-REWARD]: -10\n",
            "[NOP]True\n",
            "[player_1-REWARD]: -100\n",
            "[MOVE-S] OK\n",
            "[player_2-REWARD]: -10\n",
            "[MOVE-W] OK\n",
            "[player_3-REWARD]: 4\n",
            "[MOVE-S] OK\n",
            "[player_4-REWARD]: 4\n",
            "[MOVE-W] OK\n",
            "[player_5-REWARD]: -10\n",
            "[MOVE-S] OK\n",
            "[player_0-REWARD]: -10\n",
            "[MOVE-E] OK\n",
            "[player_1-REWARD]: -6\n",
            "[MOVE-W] OK\n",
            "[player_2-REWARD]: -10\n",
            "[MOVE-W] OK\n",
            "[player_3-REWARD]: -10\n",
            "[MOVE-E] OK\n",
            "[player_4-REWARD]: 4\n",
            "[NOP]True\n",
            "[player_5-REWARD]: -100\n",
            "[SHOOT-N] ERROR\n",
            "[player_0-REWARD]: -10\n",
            "[SHOOT-E] OK\n",
            "[player_1-REWARD]: -10\n",
            "[MOVE-S] OK\n",
            "[player_2-REWARD]: -10\n",
            "[MOVE-N] OK\n",
            "[player_3-REWARD]: -6\n",
            "[MOVE-S] OK\n",
            "[player_4-REWARD]: 4\n",
            "[MOVE-S] OK\n",
            "[player_5-REWARD]: -10\n",
            "[NOP]True\n",
            "[player_0-REWARD]: -100\n",
            "[MOVE-N] OK\n",
            "[player_1-REWARD]: 4\n",
            "[MOVE-E] OK\n",
            "[player_2-REWARD]: -10\n",
            "[MOVE-W] OK\n",
            "[player_3-REWARD]: -10\n",
            "[MOVE-E] OK\n",
            "[player_4-REWARD]: -6\n",
            "[MOVE-E] OK\n",
            "[player_5-REWARD]: -10\n",
            "[SHOOT-W] ERROR\n",
            "[player_0-REWARD]: -10\n",
            "[SHOOT-N] OK\n",
            "[player_1-REWARD]: -28\n",
            "[MOVE-W] OK\n",
            "[player_2-REWARD]: -10\n",
            "[MOVE-S] OK\n",
            "[player_3-REWARD]: 4\n",
            "[MOVE-E] OK\n",
            "[player_4-REWARD]: -6\n",
            "[NOP]True\n",
            "[player_5-REWARD]: -100\n",
            "[SHOOT-E] ERROR\n",
            "[player_0-REWARD]: -10\n",
            "[MOVE-W] OK\n",
            "[player_1-REWARD]: 4\n",
            "[MOVE-W] OK\n",
            "[player_2-REWARD]: -10\n",
            "[SHOOT-N] OK\n",
            "[player_3-REWARD]: -4\n",
            "[SHOOT-E] OK\n",
            "[player_4-REWARD]: -22\n",
            "[MOVE-W] OK\n",
            "[player_5-REWARD]: -10\n",
            "[MOVE-S] OK\n",
            "[player_0-REWARD]: -10\n",
            "[MOVE-S] OK\n",
            "[player_1-REWARD]: -6\n",
            "[SHOOT-S] ERROR\n",
            "[player_2-REWARD]: -10\n",
            "[MOVE-W] OK\n",
            "[player_3-REWARD]: -10\n",
            "[MOVE-S] OK\n",
            "[player_4-REWARD]: -6\n",
            "[SHOOT-E] ERROR\n",
            "[player_5-REWARD]: -10\n",
            "[SHOOT-E] ERROR\n",
            "[player_0-REWARD]: -10\n",
            "[SHOOT-S] OK\n",
            "[player_1-REWARD]: -36\n",
            "[MOVE-W] OK\n",
            "[player_2-REWARD]: -10\n",
            "[SHOOT-N] OK\n",
            "[player_3-REWARD]: -4\n",
            "[MOVE-S] OK\n",
            "[player_4-REWARD]: -6\n",
            "[MOVE-S] OK\n",
            "[player_5-REWARD]: -10\n",
            "[NOP]True\n",
            "[player_0-REWARD]: -100\n",
            "[NOP]True\n",
            "[player_1-REWARD]: -100\n",
            "[MOVE-E] OK\n",
            "[player_2-REWARD]: -10\n",
            "[SHOOT-N] OK\n",
            "[player_3-REWARD]: -4\n",
            "[MOVE-E] OK\n",
            "[player_4-REWARD]: -6\n",
            "[SHOOT-E] ERROR\n",
            "[player_5-REWARD]: -10\n",
            "[MOVE-S] OK\n",
            "[player_0-REWARD]: -10\n",
            "[MOVE-S] OK\n",
            "[player_1-REWARD]: -6\n",
            "[MOVE-S] OK\n",
            "[player_2-REWARD]: -10\n",
            "[MOVE-N] OK\n",
            "[player_3-REWARD]: -6\n",
            "[MOVE-E] OK\n",
            "[player_4-REWARD]: -6\n",
            "[NOP]True\n",
            "[player_5-REWARD]: -100\n",
            "[MOVE-S] OK\n",
            "[player_0-REWARD]: -10\n",
            "[MOVE-E] OK\n",
            "[player_1-REWARD]: -6\n",
            "[NOP]True\n",
            "[player_2-REWARD]: -100\n",
            "[NOP]True\n",
            "[player_3-REWARD]: -100\n",
            "[SHOOT-N] OK\n",
            "[player_4-REWARD]: -32\n",
            "[MOVE-N] OK\n",
            "[player_5-REWARD]: -10\n",
            "[MOVE-N] OK\n",
            "[player_0-REWARD]: -10\n",
            "[MOVE-N] OK\n",
            "[player_1-REWARD]: 4\n",
            "[MOVE-W] OK\n",
            "[player_2-REWARD]: -10\n",
            "[SHOOT-S] OK\n",
            "[player_3-REWARD]: -26\n",
            "[MOVE-N] OK\n",
            "[player_4-REWARD]: 4\n",
            "[SHOOT-S] ERROR\n",
            "[player_5-REWARD]: -10\n",
            "[SHOOT-W] ERROR\n",
            "[player_0-REWARD]: -10\n",
            "[MOVE-N] OK\n",
            "[player_1-REWARD]: 4\n",
            "[MOVE-S] OK\n",
            "[player_2-REWARD]: -10\n",
            "[SHOOT-W] OK\n",
            "[player_3-REWARD]: -2\n",
            "[SHOOT-W] OK\n",
            "[player_4-REWARD]: -24\n",
            "[MOVE-N] OK\n",
            "[player_5-REWARD]: -10\n",
            "[MOVE-N] OK\n",
            "[player_0-REWARD]: -10\n",
            "[MOVE-N] OK\n",
            "[player_1-REWARD]: 4\n",
            "[MOVE-N] OK\n",
            "[player_2-REWARD]: -10\n",
            "[MOVE-N] OK\n",
            "[player_3-REWARD]: -10\n",
            "[MOVE-N] OK\n",
            "[player_4-REWARD]: 4\n",
            "[MOVE-W] OK\n",
            "[player_5-REWARD]: -10\n",
            "[MOVE-E] OK\n",
            "[player_0-REWARD]: -10\n",
            "[MOVE-S] OK\n",
            "[player_1-REWARD]: -6\n",
            "[MOVE-S] OK\n",
            "[player_2-REWARD]: -10\n",
            "[MOVE-S] OK\n",
            "[player_3-REWARD]: 4\n",
            "[MOVE-N] OK\n",
            "[player_4-REWARD]: -6\n",
            "[MOVE-N] OK\n",
            "[player_5-REWARD]: -10\n",
            "[MOVE-N] OK\n",
            "[player_0-REWARD]: -10\n",
            "[MOVE-N] OK\n",
            "[player_1-REWARD]: 4\n",
            "[MOVE-E] OK\n",
            "[player_2-REWARD]: -10\n",
            "[NOP]True\n",
            "[player_3-REWARD]: -100\n",
            "[MOVE-W] OK\n",
            "[player_4-REWARD]: 4\n",
            "[MOVE-S] OK\n",
            "[player_5-REWARD]: -10\n",
            "[MOVE-N] OK\n",
            "[player_0-REWARD]: -10\n",
            "[MOVE-N] OK\n",
            "[player_1-REWARD]: 4\n",
            "[MOVE-W] OK\n",
            "[player_2-REWARD]: -10\n",
            "[SHOOT-N] OK\n",
            "[player_3-REWARD]: -4\n",
            "[SHOOT-S] OK\n",
            "[player_4-REWARD]: -20\n",
            "[MOVE-N] OK\n",
            "[player_5-REWARD]: -10\n",
            "[MOVE-N] OK\n",
            "[player_0-REWARD]: -10\n",
            "[MOVE-S] OK\n",
            "[player_1-REWARD]: -6\n",
            "[MOVE-E] OK\n",
            "[player_2-REWARD]: -10\n",
            "[MOVE-W] OK\n",
            "[player_3-REWARD]: -10\n",
            "[SHOOT-W] OK\n",
            "[player_4-REWARD]: -4\n",
            "[NOP]True\n",
            "[player_5-REWARD]: -100\n",
            "[SHOOT-N] ERROR\n",
            "[player_0-REWARD]: -10\n",
            "[MOVE-N] OK\n",
            "[player_1-REWARD]: 4\n",
            "[MOVE-N] OK\n",
            "[player_2-REWARD]: -10\n",
            "[MOVE-N] OK\n",
            "[player_3-REWARD]: -6\n",
            "[MOVE-E] OK\n",
            "[player_4-REWARD]: -6\n",
            "[MOVE-N] OK\n",
            "[player_5-REWARD]: -10\n",
            "[MOVE-N] OK\n",
            "[player_0-REWARD]: -10\n",
            "[SHOOT-E] OK\n",
            "[player_1-REWARD]: -12\n",
            "[MOVE-N] OK\n",
            "[player_2-REWARD]: -10\n",
            "[MOVE-W] OK\n",
            "[player_3-REWARD]: -10\n",
            "[SHOOT-S] OK\n",
            "[player_4-REWARD]: -20\n",
            "[MOVE-S] OK\n",
            "[player_5-REWARD]: -10\n",
            "[MOVE-S] OK\n",
            "[player_0-REWARD]: -10\n",
            "[MOVE-S] OK\n",
            "[player_1-REWARD]: -6\n",
            "[MOVE-N] OK\n",
            "[player_2-REWARD]: -10\n",
            "[SHOOT-N] OK\n",
            "[player_3-REWARD]: -2\n",
            "[MOVE-N] OK\n",
            "[player_4-REWARD]: -6\n",
            "[MOVE-W] OK\n",
            "[player_5-REWARD]: -10\n",
            "[MOVE-N] OK\n",
            "[player_0-REWARD]: -10\n",
            "[MOVE-N] OK\n",
            "[player_1-REWARD]: 4\n",
            "[MOVE-N] OK\n",
            "[player_2-REWARD]: -10\n",
            "[SHOOT-W] OK\n",
            "[player_3-REWARD]: -2\n",
            "[NOP]True\n",
            "[player_4-REWARD]: -100\n",
            "[MOVE-S] OK\n",
            "[player_5-REWARD]: -10\n",
            "[MOVE-S] OK\n",
            "[player_0-REWARD]: -10\n",
            "[MOVE-S] OK\n",
            "[player_1-REWARD]: -6\n",
            "[MOVE-S] OK\n",
            "[player_2-REWARD]: -10\n",
            "[MOVE-S] OK\n",
            "[player_3-REWARD]: 4\n",
            "[MOVE-W] OK\n",
            "[player_4-REWARD]: 4\n",
            "[SHOOT-W] ERROR\n",
            "[player_5-REWARD]: -10\n",
            "[SHOOT-W] ERROR\n",
            "[player_0-REWARD]: -10\n",
            "[SHOOT-N] OK\n",
            "[player_1-REWARD]: -26\n",
            "[SHOOT-N] ERROR\n",
            "[player_2-REWARD]: -10\n",
            "[MOVE-N] OK\n",
            "[player_3-REWARD]: -6\n",
            "[MOVE-N] OK\n",
            "[player_4-REWARD]: -6\n",
            "[MOVE-N] OK\n",
            "[player_5-REWARD]: -10\n",
            "[MOVE-N] OK\n",
            "[player_0-REWARD]: -10\n",
            "[SHOOT-N] OK\n",
            "[player_1-REWARD]: -26\n",
            "[MOVE-N] OK\n",
            "[player_2-REWARD]: -10\n",
            "[MOVE-W] OK\n",
            "[player_3-REWARD]: -10\n",
            "[MOVE-N] OK\n",
            "[player_4-REWARD]: -6\n",
            "[SHOOT-W] ERROR\n",
            "[player_5-REWARD]: -10\n",
            "[SHOOT-W] ERROR\n",
            "[player_0-REWARD]: -10\n",
            "[SHOOT-W] OK\n",
            "[player_1-REWARD]: -26\n",
            "[SHOOT-W] ERROR\n",
            "[player_2-REWARD]: -10\n",
            "[SHOOT-W] OK\n",
            "[player_3-REWARD]: -2\n",
            "[SHOOT-E] OK\n",
            "[player_4-REWARD]: -22\n",
            "[MOVE-N] OK\n",
            "[player_5-REWARD]: -10\n",
            "[MOVE-N] OK\n",
            "[player_0-REWARD]: -10\n",
            "[MOVE-W] OK\n",
            "[player_1-REWARD]: 4\n",
            "[NOP]True\n",
            "[player_2-REWARD]: -100\n",
            "[MOVE-E] OK\n",
            "[player_3-REWARD]: -6\n",
            "[MOVE-S] OK\n",
            "[player_4-REWARD]: 4\n",
            "[SHOOT-N] ERROR\n",
            "[player_5-REWARD]: -10\n",
            "[MOVE-S] OK\n",
            "[player_0-REWARD]: -10\n",
            "[MOVE-N] OK\n",
            "[player_1-REWARD]: 4\n",
            "[MOVE-N] OK\n",
            "[player_2-REWARD]: -10\n",
            "[MOVE-N] OK\n",
            "[player_3-REWARD]: -6\n",
            "[MOVE-N] OK\n",
            "[player_4-REWARD]: -6\n",
            "[MOVE-W] OK\n",
            "[player_5-REWARD]: -10\n",
            "[MOVE-S] OK\n",
            "[player_0-REWARD]: -10\n",
            "[MOVE-E] OK\n",
            "[player_1-REWARD]: -6\n",
            "[MOVE-W] OK\n",
            "[player_2-REWARD]: -10\n",
            "[MOVE-W] OK\n",
            "[player_3-REWARD]: -10\n",
            "[MOVE-W] OK\n",
            "[player_4-REWARD]: -10\n",
            "[MOVE-W] OK\n",
            "[player_5-REWARD]: -10\n",
            "[MOVE-N] OK\n",
            "[player_0-REWARD]: -10\n",
            "[MOVE-N] OK\n",
            "[player_1-REWARD]: 4\n",
            "[MOVE-S] OK\n",
            "[player_2-REWARD]: -10\n",
            "[MOVE-S] OK\n",
            "[player_3-REWARD]: 4\n",
            "[MOVE-S] OK\n",
            "[player_4-REWARD]: 4\n",
            "[MOVE-S] OK\n",
            "[player_5-REWARD]: -10\n",
            "[MOVE-W] OK\n",
            "[player_0-REWARD]: -10\n",
            "[NOP]True\n",
            "[player_1-REWARD]: -100\n",
            "[MOVE-E] OK\n",
            "[player_2-REWARD]: -10\n",
            "[MOVE-E] OK\n",
            "[player_3-REWARD]: -6\n",
            "[MOVE-E] OK\n",
            "[player_4-REWARD]: -6\n",
            "[SHOOT-W] ERROR\n",
            "[player_5-REWARD]: -10\n",
            "[MOVE-N] OK\n",
            "[player_0-REWARD]: -10\n",
            "[MOVE-S] OK\n",
            "[player_1-REWARD]: -6\n",
            "[MOVE-N] OK\n",
            "[player_2-REWARD]: -10\n",
            "[MOVE-E] OK\n",
            "[player_3-REWARD]: -6\n",
            "[MOVE-S] OK\n",
            "[player_4-REWARD]: 4\n",
            "[MOVE-S] OK\n",
            "[player_5-REWARD]: -10\n",
            "[MOVE-S] OK\n",
            "[player_0-REWARD]: -10\n",
            "[MOVE-W] OK\n",
            "[player_1-REWARD]: 4\n",
            "[MOVE-E] OK\n",
            "[player_2-REWARD]: -10\n",
            "[MOVE-N] OK\n",
            "[player_3-REWARD]: -6\n",
            "[NOP]True\n",
            "[player_4-REWARD]: -100\n",
            "[MOVE-E] OK\n",
            "[player_5-REWARD]: -10\n",
            "[NOP]True\n",
            "[player_0-REWARD]: -100\n",
            "[MOVE-E] OK\n",
            "[player_1-REWARD]: -6\n",
            "[MOVE-S] OK\n",
            "[player_2-REWARD]: -10\n",
            "[MOVE-W] OK\n",
            "[player_3-REWARD]: 4\n"
          ],
          "name": "stdout"
        },
        {
          "output_type": "error",
          "ename": "KeyboardInterrupt",
          "evalue": "ignored",
          "traceback": [
            "\u001b[0;31m---------------------------------------------------------------------------\u001b[0m",
            "\u001b[0;31mKeyboardInterrupt\u001b[0m                         Traceback (most recent call last)",
            "\u001b[0;32m<ipython-input-22-5cc7c76c8f9b>\u001b[0m in \u001b[0;36m<module>\u001b[0;34m()\u001b[0m\n\u001b[1;32m     13\u001b[0m     \u001b[0;32mfor\u001b[0m \u001b[0mt\u001b[0m \u001b[0;32min\u001b[0m \u001b[0mrange\u001b[0m\u001b[0;34m(\u001b[0m\u001b[0mN_ACTIONS\u001b[0m\u001b[0;34m)\u001b[0m\u001b[0;34m:\u001b[0m \u001b[0;31m#200 is when you \"solve\" the game. This can continue forever as far as I know\u001b[0m\u001b[0;34m\u001b[0m\u001b[0;34m\u001b[0m\u001b[0m\n\u001b[1;32m     14\u001b[0m         \u001b[0maction\u001b[0m \u001b[0;34m=\u001b[0m \u001b[0mdqn\u001b[0m\u001b[0;34m.\u001b[0m\u001b[0maction\u001b[0m\u001b[0;34m(\u001b[0m\u001b[0mstate\u001b[0m\u001b[0;34m)\u001b[0m\u001b[0;34m\u001b[0m\u001b[0;34m\u001b[0m\u001b[0m\n\u001b[0;32m---> 15\u001b[0;31m         \u001b[0mnstate\u001b[0m\u001b[0;34m,\u001b[0m \u001b[0mreward\u001b[0m\u001b[0;34m,\u001b[0m \u001b[0mdone\u001b[0m\u001b[0;34m,\u001b[0m \u001b[0m_\u001b[0m \u001b[0;34m=\u001b[0m \u001b[0menv\u001b[0m\u001b[0;34m.\u001b[0m\u001b[0mstep\u001b[0m\u001b[0;34m(\u001b[0m\u001b[0maction\u001b[0m\u001b[0;34m)\u001b[0m\u001b[0;34m\u001b[0m\u001b[0;34m\u001b[0m\u001b[0m\n\u001b[0m\u001b[1;32m     16\u001b[0m         \u001b[0mnstate\u001b[0m \u001b[0;34m=\u001b[0m \u001b[0mnp\u001b[0m\u001b[0;34m.\u001b[0m\u001b[0mreshape\u001b[0m\u001b[0;34m(\u001b[0m\u001b[0mnstate\u001b[0m\u001b[0;34m,\u001b[0m \u001b[0;34m[\u001b[0m\u001b[0;36m1\u001b[0m\u001b[0;34m,\u001b[0m \u001b[0mnS\u001b[0m\u001b[0;34m]\u001b[0m\u001b[0;34m)\u001b[0m\u001b[0;34m\u001b[0m\u001b[0;34m\u001b[0m\u001b[0m\n\u001b[1;32m     17\u001b[0m         \u001b[0mtot_rewards\u001b[0m \u001b[0;34m+=\u001b[0m \u001b[0mreward\u001b[0m\u001b[0;34m\u001b[0m\u001b[0;34m\u001b[0m\u001b[0m\n",
            "\u001b[0;32m<ipython-input-18-4f4128e91b4c>\u001b[0m in \u001b[0;36mstep\u001b[0;34m(self, action)\u001b[0m\n\u001b[1;32m    219\u001b[0m \u001b[0;34m\u001b[0m\u001b[0m\n\u001b[1;32m    220\u001b[0m   \u001b[0;32mdef\u001b[0m \u001b[0mstep\u001b[0m\u001b[0;34m(\u001b[0m\u001b[0mself\u001b[0m\u001b[0;34m,\u001b[0m \u001b[0maction\u001b[0m\u001b[0;34m)\u001b[0m\u001b[0;34m:\u001b[0m \u001b[0;31m# ad ogni passo, esegui una azione, controlla se la partita è finita o no, aggiorna i punteggi\u001b[0m\u001b[0;34m\u001b[0m\u001b[0;34m\u001b[0m\u001b[0m\n\u001b[0;32m--> 221\u001b[0;31m     \u001b[0mreward\u001b[0m\u001b[0;34m,\u001b[0m \u001b[0mstatus\u001b[0m \u001b[0;34m=\u001b[0m \u001b[0mself\u001b[0m\u001b[0;34m.\u001b[0m\u001b[0m_take_action\u001b[0m\u001b[0;34m(\u001b[0m\u001b[0maction\u001b[0m\u001b[0;34m,\u001b[0m \u001b[0mself\u001b[0m\u001b[0;34m.\u001b[0m\u001b[0mplayers_dict\u001b[0m\u001b[0;34m[\u001b[0m\u001b[0mself\u001b[0m\u001b[0;34m.\u001b[0m\u001b[0mcurrent_player\u001b[0m\u001b[0;34m]\u001b[0m\u001b[0;34m[\u001b[0m\u001b[0;34m\"ch\"\u001b[0m\u001b[0;34m]\u001b[0m\u001b[0;34m)\u001b[0m\u001b[0;34m\u001b[0m\u001b[0;34m\u001b[0m\u001b[0m\n\u001b[0m\u001b[1;32m    222\u001b[0m     \u001b[0mself\u001b[0m\u001b[0;34m.\u001b[0m\u001b[0mcurrent_step\u001b[0m \u001b[0;34m+=\u001b[0m \u001b[0;36m1\u001b[0m\u001b[0;34m\u001b[0m\u001b[0;34m\u001b[0m\u001b[0m\n\u001b[1;32m    223\u001b[0m     \u001b[0;31m#print(self.world)\u001b[0m\u001b[0;34m\u001b[0m\u001b[0;34m\u001b[0m\u001b[0;34m\u001b[0m\u001b[0m\n",
            "\u001b[0;32m<ipython-input-18-4f4128e91b4c>\u001b[0m in \u001b[0;36m_take_action\u001b[0;34m(self, action, ch)\u001b[0m\n\u001b[1;32m    179\u001b[0m \u001b[0;34m\u001b[0m\u001b[0m\n\u001b[1;32m    180\u001b[0m     \u001b[0;32melif\u001b[0m \u001b[0mcurrent_action\u001b[0m \u001b[0;34m==\u001b[0m \u001b[0;34m'shoot_left'\u001b[0m\u001b[0;34m:\u001b[0m\u001b[0;34m\u001b[0m\u001b[0;34m\u001b[0m\u001b[0m\n\u001b[0;32m--> 181\u001b[0;31m       \u001b[0mres\u001b[0m \u001b[0;34m=\u001b[0m \u001b[0mch\u001b[0m\u001b[0;34m.\u001b[0m\u001b[0mshoot\u001b[0m\u001b[0;34m(\u001b[0m\u001b[0;34m\"W\"\u001b[0m\u001b[0;34m)\u001b[0m\u001b[0;34m\u001b[0m\u001b[0;34m\u001b[0m\u001b[0m\n\u001b[0m\u001b[1;32m    182\u001b[0m       \u001b[0mreward\u001b[0m\u001b[0;34m,\u001b[0m \u001b[0mstatus\u001b[0m \u001b[0;34m=\u001b[0m \u001b[0mself\u001b[0m\u001b[0;34m.\u001b[0m\u001b[0mcalculateReward\u001b[0m\u001b[0;34m(\u001b[0m\u001b[0mcurrent_action\u001b[0m\u001b[0;34m,\u001b[0m \u001b[0mres\u001b[0m\u001b[0;34m)\u001b[0m\u001b[0;34m\u001b[0m\u001b[0;34m\u001b[0m\u001b[0m\n\u001b[1;32m    183\u001b[0m       \u001b[0mself\u001b[0m\u001b[0;34m.\u001b[0m\u001b[0mplayers_dict\u001b[0m\u001b[0;34m[\u001b[0m\u001b[0mself\u001b[0m\u001b[0;34m.\u001b[0m\u001b[0mcurrent_player\u001b[0m\u001b[0;34m]\u001b[0m\u001b[0;34m[\u001b[0m\u001b[0;34m\"last_map_update\"\u001b[0m\u001b[0;34m]\u001b[0m \u001b[0;34m+=\u001b[0m \u001b[0;36m1\u001b[0m\u001b[0;34m\u001b[0m\u001b[0;34m\u001b[0m\u001b[0m\n",
            "\u001b[0;32m<ipython-input-4-74940b2672de>\u001b[0m in \u001b[0;36mshoot\u001b[0;34m(self, direction)\u001b[0m\n\u001b[1;32m    170\u001b[0m     \u001b[0;31m# Shooting\u001b[0m\u001b[0;34m\u001b[0m\u001b[0;34m\u001b[0m\u001b[0;34m\u001b[0m\u001b[0m\n\u001b[1;32m    171\u001b[0m     \u001b[0mself\u001b[0m\u001b[0;34m.\u001b[0m\u001b[0mtn\u001b[0m\u001b[0;34m.\u001b[0m\u001b[0mwrite\u001b[0m\u001b[0;34m(\u001b[0m\u001b[0mcommand\u001b[0m\u001b[0;34m.\u001b[0m\u001b[0mencode\u001b[0m\u001b[0;34m(\u001b[0m\u001b[0;34m'utf8'\u001b[0m\u001b[0;34m)\u001b[0m\u001b[0;34m)\u001b[0m\u001b[0;34m\u001b[0m\u001b[0;34m\u001b[0m\u001b[0m\n\u001b[0;32m--> 172\u001b[0;31m     \u001b[0mres\u001b[0m \u001b[0;34m=\u001b[0m \u001b[0mself\u001b[0m\u001b[0;34m.\u001b[0m\u001b[0mtn\u001b[0m\u001b[0;34m.\u001b[0m\u001b[0mread_until\u001b[0m\u001b[0;34m(\u001b[0m\u001b[0;34m'\\n'\u001b[0m\u001b[0;34m.\u001b[0m\u001b[0mencode\u001b[0m\u001b[0;34m(\u001b[0m\u001b[0;34m'utf8'\u001b[0m\u001b[0;34m)\u001b[0m\u001b[0;34m)\u001b[0m\u001b[0;34m.\u001b[0m\u001b[0mdecode\u001b[0m\u001b[0;34m(\u001b[0m\u001b[0;34m'utf8'\u001b[0m\u001b[0;34m)\u001b[0m\u001b[0;34m.\u001b[0m\u001b[0msplit\u001b[0m\u001b[0;34m(\u001b[0m\u001b[0;34m'\\n'\u001b[0m\u001b[0;34m)\u001b[0m\u001b[0;34m[\u001b[0m\u001b[0;36m0\u001b[0m\u001b[0;34m]\u001b[0m\u001b[0;34m.\u001b[0m\u001b[0msplit\u001b[0m\u001b[0;34m(\u001b[0m\u001b[0;34m' '\u001b[0m\u001b[0;34m)\u001b[0m\u001b[0;34m\u001b[0m\u001b[0;34m\u001b[0m\u001b[0m\n\u001b[0m\u001b[1;32m    173\u001b[0m     \u001b[0mprint\u001b[0m\u001b[0;34m(\u001b[0m\u001b[0;34m'[SHOOT-'\u001b[0m \u001b[0;34m+\u001b[0m \u001b[0mdirection\u001b[0m \u001b[0;34m+\u001b[0m \u001b[0;34m'] '\u001b[0m \u001b[0;34m+\u001b[0m \u001b[0mres\u001b[0m\u001b[0;34m[\u001b[0m\u001b[0;36m0\u001b[0m\u001b[0;34m]\u001b[0m\u001b[0;34m)\u001b[0m\u001b[0;34m\u001b[0m\u001b[0;34m\u001b[0m\u001b[0m\n\u001b[1;32m    174\u001b[0m \u001b[0;34m\u001b[0m\u001b[0m\n",
            "\u001b[0;32m/usr/lib/python3.6/telnetlib.py\u001b[0m in \u001b[0;36mread_until\u001b[0;34m(self, match, timeout)\u001b[0m\n\u001b[1;32m    311\u001b[0m             \u001b[0mselector\u001b[0m\u001b[0;34m.\u001b[0m\u001b[0mregister\u001b[0m\u001b[0;34m(\u001b[0m\u001b[0mself\u001b[0m\u001b[0;34m,\u001b[0m \u001b[0mselectors\u001b[0m\u001b[0;34m.\u001b[0m\u001b[0mEVENT_READ\u001b[0m\u001b[0;34m)\u001b[0m\u001b[0;34m\u001b[0m\u001b[0;34m\u001b[0m\u001b[0m\n\u001b[1;32m    312\u001b[0m             \u001b[0;32mwhile\u001b[0m \u001b[0;32mnot\u001b[0m \u001b[0mself\u001b[0m\u001b[0;34m.\u001b[0m\u001b[0meof\u001b[0m\u001b[0;34m:\u001b[0m\u001b[0;34m\u001b[0m\u001b[0;34m\u001b[0m\u001b[0m\n\u001b[0;32m--> 313\u001b[0;31m                 \u001b[0;32mif\u001b[0m \u001b[0mselector\u001b[0m\u001b[0;34m.\u001b[0m\u001b[0mselect\u001b[0m\u001b[0;34m(\u001b[0m\u001b[0mtimeout\u001b[0m\u001b[0;34m)\u001b[0m\u001b[0;34m:\u001b[0m\u001b[0;34m\u001b[0m\u001b[0;34m\u001b[0m\u001b[0m\n\u001b[0m\u001b[1;32m    314\u001b[0m                     \u001b[0mi\u001b[0m \u001b[0;34m=\u001b[0m \u001b[0mmax\u001b[0m\u001b[0;34m(\u001b[0m\u001b[0;36m0\u001b[0m\u001b[0;34m,\u001b[0m \u001b[0mlen\u001b[0m\u001b[0;34m(\u001b[0m\u001b[0mself\u001b[0m\u001b[0;34m.\u001b[0m\u001b[0mcookedq\u001b[0m\u001b[0;34m)\u001b[0m\u001b[0;34m-\u001b[0m\u001b[0mn\u001b[0m\u001b[0;34m)\u001b[0m\u001b[0;34m\u001b[0m\u001b[0;34m\u001b[0m\u001b[0m\n\u001b[1;32m    315\u001b[0m                     \u001b[0mself\u001b[0m\u001b[0;34m.\u001b[0m\u001b[0mfill_rawq\u001b[0m\u001b[0;34m(\u001b[0m\u001b[0;34m)\u001b[0m\u001b[0;34m\u001b[0m\u001b[0;34m\u001b[0m\u001b[0m\n",
            "\u001b[0;32m/usr/lib/python3.6/selectors.py\u001b[0m in \u001b[0;36mselect\u001b[0;34m(self, timeout)\u001b[0m\n\u001b[1;32m    374\u001b[0m             \u001b[0mready\u001b[0m \u001b[0;34m=\u001b[0m \u001b[0;34m[\u001b[0m\u001b[0;34m]\u001b[0m\u001b[0;34m\u001b[0m\u001b[0;34m\u001b[0m\u001b[0m\n\u001b[1;32m    375\u001b[0m             \u001b[0;32mtry\u001b[0m\u001b[0;34m:\u001b[0m\u001b[0;34m\u001b[0m\u001b[0;34m\u001b[0m\u001b[0m\n\u001b[0;32m--> 376\u001b[0;31m                 \u001b[0mfd_event_list\u001b[0m \u001b[0;34m=\u001b[0m \u001b[0mself\u001b[0m\u001b[0;34m.\u001b[0m\u001b[0m_poll\u001b[0m\u001b[0;34m.\u001b[0m\u001b[0mpoll\u001b[0m\u001b[0;34m(\u001b[0m\u001b[0mtimeout\u001b[0m\u001b[0;34m)\u001b[0m\u001b[0;34m\u001b[0m\u001b[0;34m\u001b[0m\u001b[0m\n\u001b[0m\u001b[1;32m    377\u001b[0m             \u001b[0;32mexcept\u001b[0m \u001b[0mInterruptedError\u001b[0m\u001b[0;34m:\u001b[0m\u001b[0;34m\u001b[0m\u001b[0;34m\u001b[0m\u001b[0m\n\u001b[1;32m    378\u001b[0m                 \u001b[0;32mreturn\u001b[0m \u001b[0mready\u001b[0m\u001b[0;34m\u001b[0m\u001b[0;34m\u001b[0m\u001b[0m\n",
            "\u001b[0;31mKeyboardInterrupt\u001b[0m: "
          ]
        }
      ]
    },
    {
      "cell_type": "code",
      "metadata": {
        "id": "WV9tOcG1uEcU"
      },
      "source": [
        "#Test the agent that was trained\r\n",
        "#   In this section we ALWAYS use exploit don't train any more\r\n",
        "for e_test in range(TEST_Episodes):\r\n",
        "    state = envCartPole.reset()\r\n",
        "    state = np.reshape(state, [1, nS])\r\n",
        "    tot_rewards = 0\r\n",
        "    for t_test in range(210):\r\n",
        "        action = dqn.test_action(state)\r\n",
        "        nstate, reward, done, _ = envCartPole.step(action)\r\n",
        "        nstate = np.reshape( nstate, [1, nS])\r\n",
        "        tot_rewards += reward\r\n",
        "        #DON'T STORE ANYTHING DURING TESTING\r\n",
        "        state = nstate\r\n",
        "        #done: CartPole fell. \r\n",
        "        #t_test == 209: CartPole stayed upright\r\n",
        "        if done or t_test == 209: \r\n",
        "            rewards.append(tot_rewards)\r\n",
        "            epsilons.append(0) #We are doing full exploit\r\n",
        "            print(\"episode: {}/{}, score: {}, e: {}\"\r\n",
        "                  .format(e_test, TEST_Episodes, tot_rewards, 0))\r\n",
        "            break;"
      ],
      "execution_count": null,
      "outputs": []
    },
    {
      "cell_type": "markdown",
      "metadata": {
        "id": "3TnQ9Zv6DlhA"
      },
      "source": [
        "### Random Forest"
      ]
    },
    {
      "cell_type": "code",
      "metadata": {
        "id": "dwzmZDvvEDRy"
      },
      "source": [
        ""
      ],
      "execution_count": null,
      "outputs": []
    },
    {
      "cell_type": "markdown",
      "metadata": {
        "id": "b3OmI3iEzmVS"
      },
      "source": [
        "## Prediction"
      ]
    },
    {
      "cell_type": "code",
      "metadata": {
        "colab": {
          "base_uri": "https://localhost:8080/",
          "height": 606
        },
        "id": "t-44Mx4sqzFc",
        "outputId": "a465f4d4-090f-43b2-8076-f4a61b91120a"
      },
      "source": [
        "# Using the trained agent\n",
        "obs = env.reset()\n",
        "while True:\n",
        "  action, _states = model.predict(obs)\n",
        "  obs, rewards, dones, info = env.step(action)\n",
        "  env.render()"
      ],
      "execution_count": null,
      "outputs": [
        {
          "output_type": "stream",
          "text": [
            "Connected!\n",
            "Connected!\n",
            "Connected!\n",
            "Connected!\n",
            "Connected!\n",
            "Connected!\n",
            "[CREATE] OK\n",
            "[JOIN] OK\n",
            "[JOIN] OK\n",
            "[JOIN] OK\n",
            "[JOIN] OK\n",
            "[JOIN] OK\n",
            "[JOIN] OK\n",
            "[START] OK\n",
            "[SHOOT-S] ERROR\n"
          ],
          "name": "stdout"
        },
        {
          "output_type": "error",
          "ename": "NameError",
          "evalue": "ignored",
          "traceback": [
            "\u001b[0;31m---------------------------------------------------------------------------\u001b[0m",
            "\u001b[0;31mNameError\u001b[0m                                 Traceback (most recent call last)",
            "\u001b[0;32m<ipython-input-17-bd67638223d4>\u001b[0m in \u001b[0;36m<module>\u001b[0;34m()\u001b[0m\n\u001b[1;32m      3\u001b[0m \u001b[0;32mwhile\u001b[0m \u001b[0;32mTrue\u001b[0m\u001b[0;34m:\u001b[0m\u001b[0;34m\u001b[0m\u001b[0;34m\u001b[0m\u001b[0m\n\u001b[1;32m      4\u001b[0m   \u001b[0maction\u001b[0m\u001b[0;34m,\u001b[0m \u001b[0m_states\u001b[0m \u001b[0;34m=\u001b[0m \u001b[0mmodel\u001b[0m\u001b[0;34m.\u001b[0m\u001b[0mpredict\u001b[0m\u001b[0;34m(\u001b[0m\u001b[0mobs\u001b[0m\u001b[0;34m)\u001b[0m\u001b[0;34m\u001b[0m\u001b[0;34m\u001b[0m\u001b[0m\n\u001b[0;32m----> 5\u001b[0;31m   \u001b[0mobs\u001b[0m\u001b[0;34m,\u001b[0m \u001b[0mrewards\u001b[0m\u001b[0;34m,\u001b[0m \u001b[0mdones\u001b[0m\u001b[0;34m,\u001b[0m \u001b[0minfo\u001b[0m \u001b[0;34m=\u001b[0m \u001b[0menv\u001b[0m\u001b[0;34m.\u001b[0m\u001b[0mstep\u001b[0m\u001b[0;34m(\u001b[0m\u001b[0maction\u001b[0m\u001b[0;34m)\u001b[0m\u001b[0;34m\u001b[0m\u001b[0;34m\u001b[0m\u001b[0m\n\u001b[0m\u001b[1;32m      6\u001b[0m   \u001b[0menv\u001b[0m\u001b[0;34m.\u001b[0m\u001b[0mrender\u001b[0m\u001b[0;34m(\u001b[0m\u001b[0;34m)\u001b[0m\u001b[0;34m\u001b[0m\u001b[0;34m\u001b[0m\u001b[0m\n",
            "\u001b[0;32m/tensorflow-1.15.2/python3.6/stable_baselines/common/vec_env/base_vec_env.py\u001b[0m in \u001b[0;36mstep\u001b[0;34m(self, actions)\u001b[0m\n\u001b[1;32m     92\u001b[0m         \"\"\"\n\u001b[1;32m     93\u001b[0m         \u001b[0mself\u001b[0m\u001b[0;34m.\u001b[0m\u001b[0mstep_async\u001b[0m\u001b[0;34m(\u001b[0m\u001b[0mactions\u001b[0m\u001b[0;34m)\u001b[0m\u001b[0;34m\u001b[0m\u001b[0;34m\u001b[0m\u001b[0m\n\u001b[0;32m---> 94\u001b[0;31m         \u001b[0;32mreturn\u001b[0m \u001b[0mself\u001b[0m\u001b[0;34m.\u001b[0m\u001b[0mstep_wait\u001b[0m\u001b[0;34m(\u001b[0m\u001b[0;34m)\u001b[0m\u001b[0;34m\u001b[0m\u001b[0;34m\u001b[0m\u001b[0m\n\u001b[0m\u001b[1;32m     95\u001b[0m \u001b[0;34m\u001b[0m\u001b[0m\n\u001b[1;32m     96\u001b[0m     \u001b[0;32mdef\u001b[0m \u001b[0mget_images\u001b[0m\u001b[0;34m(\u001b[0m\u001b[0mself\u001b[0m\u001b[0;34m)\u001b[0m\u001b[0;34m:\u001b[0m\u001b[0;34m\u001b[0m\u001b[0;34m\u001b[0m\u001b[0m\n",
            "\u001b[0;32m/tensorflow-1.15.2/python3.6/stable_baselines/common/vec_env/dummy_vec_env.py\u001b[0m in \u001b[0;36mstep_wait\u001b[0;34m(self)\u001b[0m\n\u001b[1;32m     45\u001b[0m         \u001b[0;32mfor\u001b[0m \u001b[0menv_idx\u001b[0m \u001b[0;32min\u001b[0m \u001b[0mrange\u001b[0m\u001b[0;34m(\u001b[0m\u001b[0mself\u001b[0m\u001b[0;34m.\u001b[0m\u001b[0mnum_envs\u001b[0m\u001b[0;34m)\u001b[0m\u001b[0;34m:\u001b[0m\u001b[0;34m\u001b[0m\u001b[0;34m\u001b[0m\u001b[0m\n\u001b[1;32m     46\u001b[0m             \u001b[0mobs\u001b[0m\u001b[0;34m,\u001b[0m \u001b[0mself\u001b[0m\u001b[0;34m.\u001b[0m\u001b[0mbuf_rews\u001b[0m\u001b[0;34m[\u001b[0m\u001b[0menv_idx\u001b[0m\u001b[0;34m]\u001b[0m\u001b[0;34m,\u001b[0m \u001b[0mself\u001b[0m\u001b[0;34m.\u001b[0m\u001b[0mbuf_dones\u001b[0m\u001b[0;34m[\u001b[0m\u001b[0menv_idx\u001b[0m\u001b[0;34m]\u001b[0m\u001b[0;34m,\u001b[0m \u001b[0mself\u001b[0m\u001b[0;34m.\u001b[0m\u001b[0mbuf_infos\u001b[0m\u001b[0;34m[\u001b[0m\u001b[0menv_idx\u001b[0m\u001b[0;34m]\u001b[0m \u001b[0;34m=\u001b[0m\u001b[0;31m\\\u001b[0m\u001b[0;34m\u001b[0m\u001b[0;34m\u001b[0m\u001b[0m\n\u001b[0;32m---> 47\u001b[0;31m                 \u001b[0mself\u001b[0m\u001b[0;34m.\u001b[0m\u001b[0menvs\u001b[0m\u001b[0;34m[\u001b[0m\u001b[0menv_idx\u001b[0m\u001b[0;34m]\u001b[0m\u001b[0;34m.\u001b[0m\u001b[0mstep\u001b[0m\u001b[0;34m(\u001b[0m\u001b[0mself\u001b[0m\u001b[0;34m.\u001b[0m\u001b[0mactions\u001b[0m\u001b[0;34m[\u001b[0m\u001b[0menv_idx\u001b[0m\u001b[0;34m]\u001b[0m\u001b[0;34m)\u001b[0m\u001b[0;34m\u001b[0m\u001b[0;34m\u001b[0m\u001b[0m\n\u001b[0m\u001b[1;32m     48\u001b[0m             \u001b[0;32mif\u001b[0m \u001b[0mself\u001b[0m\u001b[0;34m.\u001b[0m\u001b[0mbuf_dones\u001b[0m\u001b[0;34m[\u001b[0m\u001b[0menv_idx\u001b[0m\u001b[0;34m]\u001b[0m\u001b[0;34m:\u001b[0m\u001b[0;34m\u001b[0m\u001b[0;34m\u001b[0m\u001b[0m\n\u001b[1;32m     49\u001b[0m                 \u001b[0mobs\u001b[0m \u001b[0;34m=\u001b[0m \u001b[0mself\u001b[0m\u001b[0;34m.\u001b[0m\u001b[0menvs\u001b[0m\u001b[0;34m[\u001b[0m\u001b[0menv_idx\u001b[0m\u001b[0;34m]\u001b[0m\u001b[0;34m.\u001b[0m\u001b[0mreset\u001b[0m\u001b[0;34m(\u001b[0m\u001b[0;34m)\u001b[0m\u001b[0;34m\u001b[0m\u001b[0;34m\u001b[0m\u001b[0m\n",
            "\u001b[0;32m<ipython-input-15-592737713676>\u001b[0m in \u001b[0;36mstep\u001b[0;34m(self, action)\u001b[0m\n\u001b[1;32m    204\u001b[0m \u001b[0;34m\u001b[0m\u001b[0m\n\u001b[1;32m    205\u001b[0m   \u001b[0;32mdef\u001b[0m \u001b[0mstep\u001b[0m\u001b[0;34m(\u001b[0m\u001b[0mself\u001b[0m\u001b[0;34m,\u001b[0m \u001b[0maction\u001b[0m\u001b[0;34m)\u001b[0m\u001b[0;34m:\u001b[0m \u001b[0;31m# ad ogni passo, esegui una azione, controlla se la partita è finita o no, aggiorna i punteggi\u001b[0m\u001b[0;34m\u001b[0m\u001b[0;34m\u001b[0m\u001b[0m\n\u001b[0;32m--> 206\u001b[0;31m     \u001b[0mres\u001b[0m\u001b[0;34m,\u001b[0m \u001b[0mreward\u001b[0m\u001b[0;34m,\u001b[0m \u001b[0mstatus\u001b[0m \u001b[0;34m=\u001b[0m \u001b[0mself\u001b[0m\u001b[0;34m.\u001b[0m\u001b[0m_take_action\u001b[0m\u001b[0;34m(\u001b[0m\u001b[0maction\u001b[0m\u001b[0;34m,\u001b[0m \u001b[0mself\u001b[0m\u001b[0;34m.\u001b[0m\u001b[0mplayers_dict\u001b[0m\u001b[0;34m[\u001b[0m\u001b[0mself\u001b[0m\u001b[0;34m.\u001b[0m\u001b[0mcurrent_player\u001b[0m\u001b[0;34m]\u001b[0m\u001b[0;34m[\u001b[0m\u001b[0;34m\"ch\"\u001b[0m\u001b[0;34m]\u001b[0m\u001b[0;34m)\u001b[0m\u001b[0;34m\u001b[0m\u001b[0;34m\u001b[0m\u001b[0m\n\u001b[0m\u001b[1;32m    207\u001b[0m     \u001b[0mself\u001b[0m\u001b[0;34m.\u001b[0m\u001b[0mcurrent_step\u001b[0m \u001b[0;34m+=\u001b[0m \u001b[0;36m1\u001b[0m\u001b[0;34m\u001b[0m\u001b[0;34m\u001b[0m\u001b[0m\n\u001b[1;32m    208\u001b[0m     \u001b[0mprint\u001b[0m\u001b[0;34m(\u001b[0m\u001b[0mself\u001b[0m\u001b[0;34m.\u001b[0m\u001b[0mworld\u001b[0m\u001b[0;34m)\u001b[0m\u001b[0;34m\u001b[0m\u001b[0;34m\u001b[0m\u001b[0m\n",
            "\u001b[0;32m<ipython-input-15-592737713676>\u001b[0m in \u001b[0;36m_take_action\u001b[0;34m(self, action, ch)\u001b[0m\n\u001b[1;32m    157\u001b[0m     \u001b[0;32melif\u001b[0m \u001b[0mcurrent_action\u001b[0m \u001b[0;34m==\u001b[0m \u001b[0;34m'shoot_down'\u001b[0m\u001b[0;34m:\u001b[0m\u001b[0;34m\u001b[0m\u001b[0;34m\u001b[0m\u001b[0m\n\u001b[1;32m    158\u001b[0m       \u001b[0mres\u001b[0m \u001b[0;34m=\u001b[0m \u001b[0mch\u001b[0m\u001b[0;34m.\u001b[0m\u001b[0mshoot\u001b[0m\u001b[0;34m(\u001b[0m\u001b[0;34m\"S\"\u001b[0m\u001b[0;34m)\u001b[0m\u001b[0;34m\u001b[0m\u001b[0;34m\u001b[0m\u001b[0m\n\u001b[0;32m--> 159\u001b[0;31m       \u001b[0mreward\u001b[0m \u001b[0;34m=\u001b[0m \u001b[0mcalculateReward\u001b[0m\u001b[0;34m(\u001b[0m\u001b[0mres\u001b[0m\u001b[0;34m)\u001b[0m\u001b[0;34m\u001b[0m\u001b[0;34m\u001b[0m\u001b[0m\n\u001b[0m\u001b[1;32m    160\u001b[0m       \u001b[0mself\u001b[0m\u001b[0;34m.\u001b[0m\u001b[0mplayers_dict\u001b[0m\u001b[0;34m[\u001b[0m\u001b[0mself\u001b[0m\u001b[0;34m.\u001b[0m\u001b[0mcurrent_player\u001b[0m\u001b[0;34m]\u001b[0m\u001b[0;34m[\u001b[0m\u001b[0;34m\"last_map_update\"\u001b[0m\u001b[0;34m]\u001b[0m \u001b[0;34m+=\u001b[0m \u001b[0;36m1\u001b[0m\u001b[0;34m\u001b[0m\u001b[0;34m\u001b[0m\u001b[0m\n\u001b[1;32m    161\u001b[0m       \u001b[0mself\u001b[0m\u001b[0;34m.\u001b[0m\u001b[0mplayers_dict\u001b[0m\u001b[0;34m[\u001b[0m\u001b[0mself\u001b[0m\u001b[0;34m.\u001b[0m\u001b[0mcurrent_player\u001b[0m\u001b[0;34m]\u001b[0m\u001b[0;34m[\u001b[0m\u001b[0;34m\"last_status_update\"\u001b[0m\u001b[0;34m]\u001b[0m \u001b[0;34m+=\u001b[0m \u001b[0;36m1\u001b[0m\u001b[0;34m\u001b[0m\u001b[0;34m\u001b[0m\u001b[0m\n",
            "\u001b[0;31mNameError\u001b[0m: name 'calculateReward' is not defined"
          ]
        }
      ]
    },
    {
      "cell_type": "markdown",
      "metadata": {
        "id": "3kBGVMYh4hjA"
      },
      "source": [
        "# **Setup**"
      ]
    },
    {
      "cell_type": "markdown",
      "metadata": {
        "id": "1TdbOLMKzu6U"
      },
      "source": [
        "### DumbAI0"
      ]
    },
    {
      "cell_type": "code",
      "metadata": {
        "colab": {
          "base_uri": "https://localhost:8080/"
        },
        "id": "FWubcuyrfg-s",
        "outputId": "ae50672b-2d93-43e5-ef6e-09eb2005c512"
      },
      "source": [
        "#gameName = 'ai0-0' # INSERT GAME NAME HERE\n",
        "\n",
        "# creo altri 4 giocatori\n",
        "for i in range(4):\n",
        "  chn = CommunicationHandler('margot.di.unipi.it', 8421)\n",
        "  joinn = chn.joinGame(gameName, 'fakePlayer'+str(i))\n",
        "print(\"Players created\")"
      ],
      "execution_count": null,
      "outputs": [
        {
          "output_type": "stream",
          "text": [
            "Connected!\n",
            "[JOIN] OK\n",
            "Connected!\n",
            "[JOIN] OK\n",
            "Connected!\n",
            "[JOIN] OK\n",
            "Connected!\n",
            "[JOIN] OK\n",
            "Players created\n"
          ],
          "name": "stdout"
        }
      ]
    },
    {
      "cell_type": "code",
      "metadata": {
        "id": "CUWV1kjoV6CI"
      },
      "source": [
        "def defendFlag(dumb_ch, closer_path, closer_player, players, myPlayer, iter=5):\n",
        "  print('[DEF] Defending Flag.')\n",
        "  lastX, lastY = closer_path[-2]\n",
        "  path = findPath(myPreparedMap, posX, posY, lastX, lastY)\n",
        "  p = pathToCommand(dumb_ch, path)\n",
        "  # we're next to our flag -> Rambo mode \n",
        "  shoot = False\n",
        "  i = 0 # actions\n",
        "  while (not shoot and i < iter):\n",
        "    status = dumb_ch.getStatus()\n",
        "    players = updatePlayerPosition(status, players)\n",
        "    #myPlayer = extractMyInfo(status)\n",
        "    closer_player = players[closer_player.symbol]\n",
        "    # check if the closest player is in shooting range\n",
        "    print('CloserPlayer [' + closer_player.symbol + ']: (' + str(closer_player.posX) + ', ' + str(closer_player.posY) + ')')\n",
        "    print('MyPlayer: (' + str(myPlayer.posX) + ', ' + str(myPlayer.posY) + ')')\n",
        "\n",
        "    # TODO: REFACTOR\n",
        "    # predicting enemy position and shooting accordingly\n",
        "    if (closer_player.posX - myPlayer.posX == 1): #enemy from E\n",
        "      shootDirection = findNextDirection(myPlayer.posX, myPlayer.posY, closer_player.posX-1, closer_player.posY)\n",
        "      #shooting twice\n",
        "      shootRes = dumb_ch.shoot(shootDirection)\n",
        "      print(shootRes)\n",
        "      if (shootRes[1].isalpha()):\n",
        "        players[shootRes[1]].alive = False\n",
        "        shoot = True\n",
        "        print('[YES] Shoot hit: ' + shootRes[1])\n",
        "      if (closer_player.alive == True):\n",
        "        shootRes = dumb_ch.shoot(shootDirection)\n",
        "        print(shootRes)\n",
        "        if (shootRes[1].isalpha()):\n",
        "          players[shootRes[1]].alive = False\n",
        "          shoot = True\n",
        "          print('[YES] Shoot hit: ' + shootRes[1])\n",
        "    elif (closer_player.posX - myPlayer.posX == -1): #enemy from W\n",
        "      shootDirection = findNextDirection(myPlayer.posX, myPlayer.posY, closer_player.posX+1, closer_player.posY)\n",
        "      #shooting twice\n",
        "      shootRes = dumb_ch.shoot(shootDirection)\n",
        "      print(shootRes)\n",
        "      if (shootRes[1].isalpha()):\n",
        "        players[shootRes[1]].alive = False\n",
        "        shoot = True\n",
        "        print('[YES] Shoot hit: ' + shootRes[1])\n",
        "      if (closer_player.alive == True):\n",
        "        shootRes = dumb_ch.shoot(shootDirection)\n",
        "        print(shootRes)\n",
        "        if (shootRes[1].isalpha()):\n",
        "          players[shootRes[1]].alive = False\n",
        "          shoot = True\n",
        "          print('[YES] Shoot hit: ' + shootRes[1])\n",
        "    elif (closer_player.posY - myPlayer.posY == 1): #enemy from S\n",
        "      shootDirection = findNextDirection(myPlayer.posX, myPlayer.posY, closer_player.posX, closer_player.posY-1)\n",
        "      #shooting twice\n",
        "      shootRes = dumb_ch.shoot(shootDirection)\n",
        "      print(shootRes)\n",
        "      if (shootRes[1].isalpha()):\n",
        "        players[shootRes[1]].alive = False\n",
        "        shoot = True\n",
        "        print('[YES] Shoot hit: ' + shootRes[1])\n",
        "      if (closer_player.alive == True):\n",
        "        shootRes = dumb_ch.shoot(shootDirection)\n",
        "        print(shootRes)\n",
        "        if (shootRes[1].isalpha()):\n",
        "          players[shootRes[1]].alive = False\n",
        "          shoot = True\n",
        "          print('[YES] Shoot hit: ' + shootRes[1])\n",
        "    elif (closer_player.posY - myPlayer.posY == -1): #enemy from N\n",
        "      shootDirection = findNextDirection(myPlayer.posX, myPlayer.posY, closer_player.posX, closer_player.posY+1)\n",
        "      #shooting twice\n",
        "      shootRes = dumb_ch.shoot(shootDirection)\n",
        "      print(shootRes)\n",
        "      if (shootRes[1].isalpha()):\n",
        "        players[shootRes[1]].alive = False\n",
        "        shoot = True\n",
        "        print('[YES] Shoot hit: ' + shootRes[1])\n",
        "      if (closer_player.alive == True):\n",
        "        shootRes = dumb_ch.shoot(shootDirection)\n",
        "        print(shootRes)\n",
        "        if (shootRes[1].isalpha()):\n",
        "          players[shootRes[1]].alive = False\n",
        "          shoot = True\n",
        "          print('[YES] Shoot hit: ' + shootRes[1])\n",
        "    elif (closer_player.posX == myPlayer.posX or closer_player.posY == myPlayer.posY):\n",
        "      shootDirection = findNextDirection(myPlayer.posX, myPlayer.posY, closer_player.posX, closer_player.posY)\n",
        "      shootRes = dumb_ch.shoot(shootDirection)\n",
        "      print(shootRes)\n",
        "      if (shootRes[1].isalpha()):\n",
        "        players[shootRes[1]].alive = False\n",
        "        shoot = True\n",
        "        print('[YES] Shoot hit: ' + shootRes[1])\n",
        "        \n",
        "      print('[YES] Shoot!')\n",
        "    i+=1\n",
        "  if (not shoot):\n",
        "    print('[NO] No Shoot!')\n"
      ],
      "execution_count": null,
      "outputs": []
    },
    {
      "cell_type": "code",
      "metadata": {
        "id": "yDGujm3QzuZB"
      },
      "source": [
        "gameName = 'buggoni7' # INSERT GAME NAME HERE\n",
        "playerName = 'ai0-rAImb04'\n",
        "\n",
        "# Establish Connection\n",
        "dumb_ch = CommunicationHandler(host, serverPort)\n",
        "print(dumb_ch.host)\n",
        "\n",
        "# Join the Game\n",
        "join = dumb_ch.joinGame(gameName, playerName)\n",
        "print(join)\n",
        "\n",
        "map = dumb_ch.getMap()\n",
        "status = dumb_ch.getStatus()\n",
        "myPlayer = extractMyInfo(status)\n",
        "dumb_chat = Chat(host, chatPort, myPlayer)\n",
        "dumb_chat.join(gameName, myPlayer.team)\n",
        "\n",
        "# Status requests until the game is started\n",
        "while(gameState(status) == 'LOBBY'):\n",
        "  status = dumb_ch.getStatus()\n",
        "\n",
        "# Game has started\n",
        "players = extractPlayerInfo(status)\n",
        "myPreparedMap = prepareMap(copy.deepcopy(map), myPlayer)\n",
        "\n",
        "# function to calculate how close eadumb_ch player is to the flags\n",
        "myFlagY, myFlagX = findOnMap(map, myPlayer.myFlag)\n",
        "enemyFlagY, enemyFlagX = findOnMap(map, myPlayer.enemyFlag)\n",
        "\n",
        "# Game loop\n",
        "while(gameState(status) == 'ACTIVE'):\n",
        "  # update player-flag distances \n",
        "  playerPaths = {}\n",
        "  minPath = 9999\n",
        "  startTime = time.time() \n",
        "  for player in players.values():\n",
        "    if (player.team != myPlayer.loyalty and player.alive): #impostor\n",
        "      playerPreparedMap = prepareMap(copy.deepcopy(map), player)\n",
        "      playerPath = findPath(playerPreparedMap, int(player.posX), int(player.posY), myFlagX, myFlagY)\n",
        "      player.setFlagDistance(len(playerPath))\n",
        "      playerPaths[player.symbol] = playerPath\n",
        "      if(minPath > len(playerPath)):\n",
        "        minPath = len(playerPath)\n",
        "        closer_player = player\n",
        "  endTime = time.time() \n",
        "  print(endTime - startTime)\n",
        "\n",
        "  # if it's convenient (aka I'm close to the flag), follow the path\n",
        "  posY, posX = myPlayer.posY, myPlayer.posX\n",
        "\n",
        "  #--------impostor case -> run to the \"enemy flag\" and shoot all your friends\n",
        "  if (myPlayer.team != myPlayer.loyalty):\n",
        "    closer_path = playerPaths[closer_player.symbol]\n",
        "    defendFlag(dumb_ch, closer_path, closer_player, players, myPlayer)\n",
        "\n",
        "  #--------true loyalty\n",
        "  else:\n",
        "    myPath = findPath(myPreparedMap, posX, posY, enemyFlagX, enemyFlagY)\n",
        "    myPlayer.setFlagDistance(len(myPath))\n",
        "    if (myPlayer.distFromFlag <= minPath):\n",
        "      print('I am closer')\n",
        "      p = pathToCommand(dumb_ch, myPath)\n",
        "    # otherwise, do something else (move to our flag and shoot opponents?)\n",
        "    else: #TODO: rambo mode or cover your flag\n",
        "      print('I am not closer')\n",
        "      closer_path = playerPaths[closer_player.symbol]\n",
        "      defendFlag(dumb_ch, closer_path, closer_player, players, myPlayer)\n",
        "\n",
        "  map = dumb_ch.getMap()\n",
        "  myPreparedMap = prepareMap(copy.deepcopy(map), myPlayer)\n",
        "  status = dumb_ch.getStatus()\n",
        "  players = updatePlayerPosition(status, players)\n",
        "  \n",
        "\n",
        "# Game is over\n",
        "myScore = extractMyInfo(status).score\n",
        "print(myScore)\n",
        "\n",
        "# Posting on chat\n",
        "dumb_chat.post(gameName, 'ggwp')\n"
      ],
      "execution_count": null,
      "outputs": []
    },
    {
      "cell_type": "markdown",
      "metadata": {
        "id": "GS_XYvywUddw"
      },
      "source": [
        "### Less Dumb AI0"
      ]
    },
    {
      "cell_type": "code",
      "metadata": {
        "id": "4NkaUVQGsRdX"
      },
      "source": [
        "'''\n",
        "Logica di base:\n",
        "  Lobby:\n",
        "    Giudica tutti come IA\n",
        "    Aggiorna lo stato\n",
        "  Start:\n",
        "    Avvia un timer per sapere quanto tempo è passato dall'inizio\n",
        "    - nei primi secondi vai verso zona safe (5s)\n",
        "    Con lo stato calcola chi è il più vicino\n",
        "    Calcola quanto sono lontani i nemici da me in termini di (x,y)\n",
        "      Calcola di quanto posso spostarmi verso la bandiera senza entrare in linea d'aria con nessuno (anche se si spostano)\n",
        "      Spostami di quell'ammontare verso la bandiera\n",
        "      Aggiorna lo status\n",
        "      Ripeti\n",
        "  Can Shoot:\n",
        "    Se c'è qualcuno in shooting range (entro un certo limite)\n",
        "      Se non ci sono ostacoli o morti in mezzo\n",
        "        Spara\n",
        "    Altrimenti se c'è qualcuno in linea con la visuale libera ma è troppo lontano\n",
        "      Fai un passo in direzione della bandiera ma uscendo dal range\n",
        "  Can Capture:\n",
        "    Corri?\n",
        "\n",
        "\n",
        "\n",
        "  IDEE:\n",
        "  - dividere la mappa in zone\n",
        "    - calcolare il grado di convenienza di ogni zona (in base a nemici e flag)\n",
        "  - controllare a chi abbiamo sparato\n",
        "    - riprendere la funzione del qlearning\n",
        "    - controllare che il nemico a cui sparimo non sia già morto\n",
        "  - muoviti con la barriera più vicina verso la bandiera avversaria\n",
        "  \n",
        "  TODO:\n",
        "  - status deve aggiornare i valori sulla mappa\n",
        "\n",
        "\n",
        "'''"
      ],
      "execution_count": null,
      "outputs": []
    },
    {
      "cell_type": "code",
      "metadata": {
        "id": "ww4wnR70XHzz"
      },
      "source": [
        "def defendPosition(dumb_ch, map, players, myPlayer, iter=5):\n",
        "  print('[DEF] Defending Position.')\n",
        "  # Rambo mode \n",
        "  shoot = False\n",
        "  i = 0 # actions\n",
        "  start_timer = time.time()\n",
        "  while (not shoot and i < iter):\n",
        "    if (myPlayer.energy == 0): \n",
        "      break\n",
        "\n",
        "    old_positions = {}\n",
        "    for p in players.values():\n",
        "      old_positions[p.symbol] = (p.posX, p.posY)\n",
        "    status = dumb_ch.getStatus()\n",
        "    myPlayer = extractMyInfo(status)\n",
        "    players = extractPlayerInfo(status)\n",
        "    players = updatePlayerPosition(status, players)\n",
        "    map = updateMapFromStatus(map, myPlayer, players)\n",
        "    lap_timer = time.time() - start_timer \n",
        "    print('[DEF] Defending Position iter:' + str(i) + ' - timer: ' + str(lap_timer))\n",
        "    new_positions = {}\n",
        "    for p in players.values():\n",
        "      new_positions[p.symbol] = (p.posX, p.posY)\n",
        "    # how much should i wait in this position?  \n",
        "    min_x, min_y, min_player_x, min_player_y = calculateClosest(players, myPlayer)\n",
        "    # impostor case: find the best position and wait\n",
        "    if (myPlayer.team != myPlayer.loyalty):\n",
        "      #iter = max(min_x, min_y)\n",
        "      #i = 0\n",
        "      if (min_player_x == '*' or min_player_y == '*'):\n",
        "        break\n",
        "    # no enemies found, empty list -> run to the enemy flag\n",
        "    if (min_player_x == '*' or min_player_y == '*' and myPlayer.loyalty == myPlayer.team):\n",
        "      myPreparedMap = prepareMap3(copy.deepcopy(map), myPlayer, players, size=(len(map),len(map[0])))\n",
        "      enemyFlagY, enemyFlagX = findOnMap(map, myPlayer.enemyFlag)\n",
        "      myPath = findPath(myPreparedMap, myPlayer.posX, myPlayer.posY, enemyFlagX, enemyFlagY)\n",
        "      if (len(myPath) > 0):\n",
        "        p = pathToCommand(dumb_ch, myPath) # run to the flag\n",
        "        break # TODO: check if working\n",
        "\n",
        "    # TODO: shoot friends\n",
        "    closer_player_x = players[min_player_x]\n",
        "    closer_player_y = players[min_player_y]\n",
        "    # check if the closest player is in shooting range\n",
        "    #print('CloserPlayer X [' + closer_player_x.symbol + ']: (' + str(closer_player_x.posX) + ', ' + str(closer_player_x.posY) + ')')\n",
        "    #print('CloserPlayer Y [' + closer_player_y.symbol + ']: (' + str(closer_player_y.posX) + ', ' + str(closer_player_y.posY) + ')')\n",
        "    #print('MyPlayer: (' + str(myPlayer.posX) + ', ' + str(myPlayer.posY) + ')')\n",
        "\n",
        "    if (closer_player_x.posX - myPlayer.posX == 1): #enemy from E\n",
        "      shootDirection = findNextDirection(myPlayer.posX, myPlayer.posY, closer_player_x.posX-1, closer_player_x.posY)\n",
        "      shoot_dist = checkShoot(map, myPlayer, closer_player_x.symbol, shootDirection)\n",
        "      if (shoot_dist > abs(myPlayer.posY - closer_player_x.posY)):\n",
        "        shootRes = dumb_ch.shoot(shootDirection)\n",
        "        print(shootRes)\n",
        "        if (shootRes[1].isalpha()):\n",
        "          players[shootRes[1]].alive = False\n",
        "          shoot = True\n",
        "          print('[YES] Shoot hit: ' + shootRes[1])\n",
        "        if (closer_player_x.alive == True): # se è vivo, sparo di nuovo \n",
        "          shootRes = dumb_ch.shoot(shootDirection)\n",
        "          print(shootRes)\n",
        "          if (shootRes[1].isalpha()):\n",
        "            players[shootRes[1]].alive = False\n",
        "            shoot = True\n",
        "            print('[YES] Shoot hit: ' + shootRes[1])\n",
        "\n",
        "    if (closer_player_x.posX - myPlayer.posX == -1): #enemy from W\n",
        "      shootDirection = findNextDirection(myPlayer.posX, myPlayer.posY, closer_player_x.posX+1, closer_player_x.posY)\n",
        "      shoot_dist = checkShoot(map, myPlayer, closer_player_x.symbol, shootDirection)\n",
        "      if (shoot_dist > abs(myPlayer.posY - closer_player_x.posY)):\n",
        "        shootRes = dumb_ch.shoot(shootDirection)\n",
        "        print(shootRes)\n",
        "        if (shootRes[1].isalpha()):\n",
        "          players[shootRes[1]].alive = False\n",
        "          shoot = True\n",
        "          print('[YES] Shoot hit: ' + shootRes[1])\n",
        "        if (closer_player_x.alive == True): # se è vivo, sparo di nuovo \n",
        "          shootRes = dumb_ch.shoot(shootDirection)\n",
        "          print(shootRes)\n",
        "          if (shootRes[1].isalpha()):\n",
        "            players[shootRes[1]].alive = False\n",
        "            shoot = True\n",
        "            print('[YES] Shoot hit: ' + shootRes[1])\n",
        "\n",
        "    if (closer_player_y.posY - myPlayer.posY == 1): #enemy from S\n",
        "      shootDirection = findNextDirection(myPlayer.posX, myPlayer.posY, closer_player_y.posX, closer_player_y.posY-1)\n",
        "      shoot_dist = checkShoot(map, myPlayer, closer_player_y.symbol, shootDirection)\n",
        "      if (shoot_dist > abs(myPlayer.posX - closer_player_y.posX)):\n",
        "        shootRes = dumb_ch.shoot(shootDirection)\n",
        "        print(shootRes)\n",
        "        if (shootRes[1].isalpha()):\n",
        "          players[shootRes[1]].alive = False\n",
        "          shoot = True\n",
        "          print('[YES] Shoot hit: ' + shootRes[1])\n",
        "        if (closer_player_y.alive == True): # se è vivo, sparo di nuovo \n",
        "          shootRes = dumb_ch.shoot(shootDirection)\n",
        "          print(shootRes)\n",
        "          if (shootRes[1].isalpha()):\n",
        "            players[shootRes[1]].alive = False\n",
        "            shoot = True\n",
        "            print('[YES] Shoot hit: ' + shootRes[1])\n",
        "\n",
        "    if (closer_player_y.posY - myPlayer.posY == -1): #enemy from N\n",
        "      shootDirection = findNextDirection(myPlayer.posX, myPlayer.posY, closer_player_y.posX, closer_player_y.posY+1)\n",
        "      shoot_dist = checkShoot(map, myPlayer, closer_player_y.symbol, shootDirection)\n",
        "      if (shoot_dist > abs(myPlayer.posX - closer_player_y.posX)):\n",
        "        shootRes = dumb_ch.shoot(shootDirection)\n",
        "        print(shootRes)\n",
        "        if (shootRes[1].isalpha()):\n",
        "          players[shootRes[1]].alive = False\n",
        "          shoot = True\n",
        "          print('[YES] Shoot hit: ' + shootRes[1])\n",
        "        if (closer_player_y.alive == True): # se è vivo, sparo di nuovo \n",
        "          shootRes = dumb_ch.shoot(shootDirection)\n",
        "          print(shootRes)\n",
        "          if (shootRes[1].isalpha()):\n",
        "            players[shootRes[1]].alive = False\n",
        "            shoot = True\n",
        "            print('[YES] Shoot hit: ' + shootRes[1])\n",
        "\n",
        "    if (closer_player_x.posX == myPlayer.posX):\n",
        "      shootDirection = findNextDirection(myPlayer.posX, myPlayer.posY, closer_player_x.posX, closer_player_x.posY)\n",
        "      shoot_dist = checkShoot(map, myPlayer, closer_player_x.symbol, shootDirection)\n",
        "      if (shoot_dist > abs(myPlayer.posY - closer_player_x.posY)):\n",
        "        shootRes = dumb_ch.shoot(shootDirection)\n",
        "        print(shootRes)\n",
        "        if (shootRes[1].isalpha()):\n",
        "          players[shootRes[1]].alive = False\n",
        "          shoot = True\n",
        "          print('[YES] Shoot hit: ' + shootRes[1])\n",
        "        print('[YES] Shoot!')\n",
        "\n",
        "    if (closer_player_y.posY == myPlayer.posY):\n",
        "      shootDirection = findNextDirection(myPlayer.posX, myPlayer.posY, closer_player_y.posX, closer_player_y.posY)\n",
        "      shoot_dist = checkShoot(map, myPlayer, closer_player_y.symbol, shootDirection)\n",
        "      if (shoot_dist > abs(myPlayer.posX - closer_player_y.posX)):\n",
        "        shootRes = dumb_ch.shoot(shootDirection)\n",
        "        print(shootRes)\n",
        "        if (shootRes[1].isalpha()):\n",
        "          players[shootRes[1]].alive = False\n",
        "          shoot = True\n",
        "          print('[YES] Shoot hit: ' + shootRes[1])\n",
        "        print('[YES] Shoot!')\n",
        "    \n",
        "    i+=1\n",
        "\n",
        "  if (not shoot):\n",
        "    print('[NO] No Shoot!')\n",
        "\n",
        "\n",
        "def beImpostor(player):\n",
        "  return 0\n",
        "\n",
        "\n",
        "def judgePlayers(judged_players, players, ch):\n",
        "  for player in players.values():\n",
        "    if(player.name not in judged_players):\n",
        "      print(\"[JUDGED] \" + player.name)\n",
        "      ch.judge(player.name, 'AI')\n",
        "      judged_players.append(player.name)\n",
        "  return judged_players\n",
        "\n",
        "\n",
        "def calculateSteps(players, myPlayer):\n",
        "  min_x, min_y = 9999, 9999\n",
        "  for player in players.values():\n",
        "    if (player.team != myPlayer.team and player.alive):\n",
        "      dist_x = abs(myPlayer.posX - player.posX)\n",
        "      dist_y = abs(myPlayer.posY - player.posY)\n",
        "      if (min_x > dist_x):\n",
        "        min_x = dist_x \n",
        "      if (min_y > dist_y):\n",
        "        min_y = dist_y\n",
        "  steps = int(min(min_x, min_y)/2)\n",
        "\n",
        "  if (steps > 0):\n",
        "    return steps-1\n",
        "  else:\n",
        "    return steps\n",
        "\n",
        "def calculateClosest(players, myPlayer):\n",
        "  min_x, min_y = 9999, 9999\n",
        "  min_x_player, min_y_player = '*', '*'\n",
        "\n",
        "  for player in players.values():\n",
        "    if (player.team != myPlayer.loyalty and player.alive): \n",
        "      dist_x = abs(myPlayer.posX - player.posX)\n",
        "      dist_y = abs(myPlayer.posY - player.posY)\n",
        "      if (min_x >= dist_x):\n",
        "        min_x = dist_x\n",
        "        min_x_player = player.symbol\n",
        "      if (min_y >= dist_y):\n",
        "        min_y = dist_y\n",
        "        min_y_player = player.symbol\n",
        "  #steps = int(max(min_x, min_y)) + 1\n",
        "  return min_x, min_y, min_x_player, min_y_player\n",
        "\n",
        "\n",
        "def checkShoot(map, player, target_player, direction):\n",
        "    posX, posY = player.posX, player.posY\n",
        "    wall = '#'\n",
        "    barrier = '&'\n",
        "    found = False\n",
        "    distance = -1\n",
        "    if (direction == 'N' and posY>0): #check up on the column\n",
        "      i = posY-1\n",
        "      while (not found and i>=0):\n",
        "        if (wall in map[i][posX] or barrier in map[i][posX]\n",
        "            or (map[i][posX] != target_player and map[i][posX].isalpha())):\n",
        "          found = True\n",
        "          distance = posY - i\n",
        "        i-=1\n",
        "    elif (direction == 'S' and posY<len(map)): #check down on the column\n",
        "      i = posY+1\n",
        "      while (not found and i<len(map)):\n",
        "        if (wall in map[i][posX] or barrier in map[i][posX]\n",
        "            or (map[i][posX] != target_player and map[i][posX].isalpha())):\n",
        "          found = True\n",
        "          distance = i - posY\n",
        "        i+=1\n",
        "    elif (direction == 'W' and posX>0): #check left on the row\n",
        "      i = posX-1\n",
        "      while (not found and i>=0):\n",
        "        if (wall in map[posY][i] or barrier in map[posY][i]\n",
        "            or (map[posY][i] != target_player and map[posY][i].isalpha())):\n",
        "          found = True\n",
        "          distance = posX - i\n",
        "        i-=1\n",
        "    elif (direction == 'E' and posX<len(map[0])): #check right on the row\n",
        "      i = posX+1\n",
        "      while (not found and i<len(map[0])):\n",
        "        if (wall in map[posY][i] or barrier in map[posY][i]\n",
        "            or (map[posY][i] != target_player and map[posY][i].isalpha())):\n",
        "          found = True\n",
        "          distance = i - posX\n",
        "        i+=1\n",
        "        \n",
        "    return distance\n",
        "\n",
        "def movingDirection(old_pos, new_pos):\n",
        "  old_posX, old_posY = old_pos[0], old_pos[1]\n",
        "  new_posX, new_posY = new_pos[0], new_pos[1]\n",
        "  direction = ('O', 'O') # E/W, N/S\n",
        "  if (old_posX < new_posX): #moved to the east\n",
        "    direction[0] = 'E'\n",
        "  elif (old_posX > new_posX): #moved to the west\n",
        "    direction[0] = 'W'\n",
        "  if (old_posY < new_posY): #moved to the south\n",
        "    direction[1] = 'S'\n",
        "  elif (old_posY > new_posY): #moved to the north\n",
        "    direction[1] = 'N'\n",
        "\n",
        "  return direction\n",
        "\n",
        "\n"
      ],
      "execution_count": null,
      "outputs": []
    },
    {
      "cell_type": "code",
      "metadata": {
        "colab": {
          "base_uri": "https://localhost:8080/"
        },
        "id": "oWn_qz9yBq2D",
        "outputId": "dea606bd-5e17-4688-c0ee-95cc57717c75"
      },
      "source": [
        "for i in range(20):\n",
        "  chn = CommunicationHandler('margot.di.unipi.it', 8421)\n",
        "  joinn = chn.joinGame('buggoni3', 'fakePlayer'+str(i))\n",
        "print(\"Players created\")"
      ],
      "execution_count": null,
      "outputs": [
        {
          "output_type": "stream",
          "text": [
            "Connected!\n",
            "[JOIN] OK\n",
            "Connected!\n",
            "[JOIN] OK\n",
            "Connected!\n",
            "[JOIN] OK\n",
            "Connected!\n",
            "[JOIN] OK\n",
            "Connected!\n",
            "[JOIN] OK\n",
            "Connected!\n",
            "[JOIN] OK\n",
            "Connected!\n",
            "[JOIN] OK\n",
            "Connected!\n",
            "[JOIN] OK\n",
            "Connected!\n",
            "[JOIN] OK\n",
            "Connected!\n",
            "[JOIN] OK\n",
            "Connected!\n",
            "[JOIN] OK\n",
            "Connected!\n",
            "[JOIN] OK\n",
            "Connected!\n",
            "[JOIN] OK\n",
            "Connected!\n",
            "[JOIN] OK\n",
            "Connected!\n",
            "[JOIN] OK\n",
            "Connected!\n",
            "[JOIN] OK\n",
            "Connected!\n",
            "[JOIN] OK\n",
            "Connected!\n",
            "[JOIN] OK\n",
            "Connected!\n",
            "[JOIN] OK\n",
            "Connected!\n",
            "[JOIN] OK\n",
            "Players created\n"
          ],
          "name": "stdout"
        }
      ]
    },
    {
      "cell_type": "code",
      "metadata": {
        "colab": {
          "base_uri": "https://localhost:8080/",
          "height": 246
        },
        "id": "JB0CAqPMS_oU",
        "outputId": "4d013158-be4d-4dd4-95db-3ccd9382cc4b"
      },
      "source": [
        "gameName = 'match01' # INSERT GAME NAME HERE\n",
        "playerName = 'ai0-rAImb0'\n",
        "n_steps = 9\n",
        "\n",
        "# Establish Connection\n",
        "dumb_ch = CommunicationHandler(host, serverPort)\n",
        "print(dumb_ch.host)\n",
        "\n",
        "# Join the Game\n",
        "join = dumb_ch.joinGame(gameName, playerName, train=False)\n",
        "print(join)\n",
        "\n",
        "map = dumb_ch.getMap()\n",
        "status = dumb_ch.getStatus()\n",
        "myPlayer = extractMyInfo(status)\n",
        "players = extractPlayerInfo(status)\n",
        "dumb_chat = Chat(host, chatPort, myPlayer)\n",
        "dumb_chat.join(gameName, myPlayer.team)\n",
        "chat_sleep = random.randint(5,15)\n",
        "chat_timer = time.time()\n",
        "read_timer = time.time()\n",
        "chat_messages = []\n",
        "\n",
        "# Status requests until the game is started\n",
        "judged_players = []\n",
        "written = False\n",
        "while(gameState(status) == 'LOBBY'):\n",
        "  judged_players = judgePlayers(judged_players, players, dumb_ch) #TODO: find a better judging system\n",
        "  status = dumb_ch.getStatus()\n",
        "  players = extractPlayerInfo(status)\n",
        "  if (not written and (time.time() - chat_timer) >= chat_sleep):\n",
        "    dumb_chat.post(gameName, random.choice(CHAT_DICTIONARY['salute']))\n",
        "    written = True\n",
        "\n",
        "\n",
        "\n",
        "# Game has started\n",
        "startGame = time.time()\n",
        "chat_timer = startGame\n",
        "chat_sleep = random.randint(10,30)\n",
        "players = extractPlayerInfo(status)\n",
        "myPreparedMap = prepareMap3(copy.deepcopy(map), myPlayer, players, size=(len(map),len(map[0]))) #pos con linee di tiro\n",
        "\n",
        "# function to calculate how close each player is to the flags\n",
        "myFlagY, myFlagX = findOnMap(map, myPlayer.myFlag)\n",
        "enemyFlagY, enemyFlagX = findOnMap(map, myPlayer.enemyFlag)\n",
        "\n",
        "# Game loop\n",
        "while (gameState(status) == 'ACTIVE'):\n",
        "  # reading chat \n",
        "  #readMessage = dumb_chat.readChat(timeout=0.01)\n",
        "  #if (readMessage != ''):\n",
        "  #  print(readMessage)\n",
        "  #  chat_messages.append(readMessage)\n",
        "    # TODO: use this for the accusation \n",
        "\n",
        "  # update player-flag distances \n",
        "  minPath = 9999\n",
        "  for player in players.values():\n",
        "    if (player.team != myPlayer.loyalty and player.alive): #impostor\n",
        "      player_dist = distance(int(player.posX), int(player.posY), myFlagX, myFlagY)\n",
        "      player.setFlagDistance(player_dist)\n",
        "      if(minPath > player_dist):\n",
        "        minPath = player_dist\n",
        "        # TODO: use x,y distance to find the closest in shooting range\n",
        "        closer_player = player\n",
        "\n",
        "  posY, posX = myPlayer.posY, myPlayer.posX\n",
        "  # use zones to move to the safest one for the first 5sec\n",
        "  elapsed_time = time.time() - startGame\n",
        "  while (elapsed_time < 4.5): #cannot shoot enemies -> go to a safe place closer to the flag\n",
        "    posY, posX = myPlayer.posY, myPlayer.posX\n",
        "    zones, best_pos = computeDangerMap(myPreparedMap, enemyFlagX, enemyFlagY)\n",
        "    myZone = findZone(posX, posY)\n",
        "    best, bestX, bestY = bestAdjacientZone(zones, best_pos, posX, posY)\n",
        "    #print(f'Pos:({posX},{posY}) Best:({bestX},{bestY})')\n",
        "    zone_path = findPath(myPreparedMap, posX, posY, bestX, bestY)\n",
        "    #print(zone_path)\n",
        "    p = pathToCommand(dumb_ch, zone_path)\n",
        "    # update the status to get the update info\n",
        "    status = dumb_ch.getStatus()\n",
        "    myPlayer = extractMyInfo(status)\n",
        "    players = extractPlayerInfo(status)\n",
        "    players = updatePlayerPosition(status, players)\n",
        "    map = updateMapFromStatus(map, myPlayer, players)\n",
        "    elapsed_time = time.time() - startGame\n",
        "    print('Elapsed time: ' + str(elapsed_time))\n",
        "\n",
        "  # per ogni player, controlla la distanza (x,y) da me e vedi se sono a tiro\n",
        "  n_steps = calculateSteps(players, myPlayer)\n",
        "  if (n_steps == 0 and (time.time() - chat_timer) >= chat_sleep):\n",
        "    chat_timer = time.time()  \n",
        "    chat_sleep = random.randint(10,30)\n",
        "    dumb_chat.post(gameName, random.choice(CHAT_DICTIONARY['kill']))\n",
        "\n",
        "  #--------impostor case -> run to the \"enemy flag\" and shoot all your friends\n",
        "  if (myPlayer.team != myPlayer.loyalty):\n",
        "    myPreparedMap = prepareImpostorMap(copy.deepcopy(map), myPlayer, players)\n",
        "    posY, posX = myPlayer.posY, myPlayer.posX\n",
        "    zones, best_pos = computeImpostorDangerMap(myPreparedMap, players)\n",
        "    myZone = findZone(posX, posY)\n",
        "    best, bestX, bestY = bestAdjacientZone(zones, best_pos, posX, posY)\n",
        "    #print(f'Pos:({posX},{posY}) Best:({bestX},{bestY})')\n",
        "    if (zones[myZone[1]][myZone[0]] > best):\n",
        "      zone_path = findPath(myPreparedMap, posX, posY, bestX, bestY)\n",
        "      #print(zone_path)\n",
        "      p = pathToCommand(dumb_ch, zone_path[0:n_steps+1])\n",
        "    # TODO: shoot friends\n",
        "    if ((time.time() - chat_timer) >= chat_sleep):\n",
        "      chat_timer = time.time()  \n",
        "      chat_sleep = random.randint(10,30)\n",
        "      dumb_chat.post(gameName, random.choice(CHAT_DICTIONARY['defend']))\n",
        "    defendPosition(dumb_ch, map, players, myPlayer)\n",
        "\n",
        "\n",
        "  #--------true loyalty\n",
        "  else:\n",
        "    # extract info from status to avoid calling getMap()\n",
        "    myPreparedMap = prepareMap3(copy.deepcopy(map), myPlayer, players, size=(len(map),len(map[0]))) #pos con linee di tiro\n",
        "    posY, posX = myPlayer.posY, myPlayer.posX\n",
        "    n_steps = calculateSteps(players, myPlayer)\n",
        "    print('n_steps = ' + str(n_steps))\n",
        "    myPath = findPath(myPreparedMap, posX, posY, enemyFlagX, enemyFlagY)\n",
        "    if (len(myPath) > 0):\n",
        "      if ((time.time() - chat_timer) >= chat_sleep):\n",
        "        chat_timer = time.time()  \n",
        "        chat_sleep = random.randint(10,30)\n",
        "        dumb_chat.post(gameName, random.choice(CHAT_DICTIONARY['attack']))\n",
        "      p = pathToCommand(dumb_ch, myPath[0:n_steps+1])\n",
        "    # TODO: check if I can shoot someone\n",
        "    # extract info from status to avoid calling getMap()\n",
        "    \n",
        "    elapsed_time = time.time() - startGame\n",
        "\n",
        "    if ((time.time() - chat_timer) >= chat_sleep):\n",
        "      chat_timer = time.time()  \n",
        "      chat_sleep = random.randint(10,30)\n",
        "      dumb_chat.post(gameName, random.choice(CHAT_DICTIONARY['kill']))\n",
        "\n",
        "    defendPosition(dumb_ch, map, players, myPlayer, iter=3)\n",
        "    # TODO: RETURN STATUS!!!!!!!!!!!!!!!!!!!!!!!\n",
        "    status = dumb_ch.getStatus()\n",
        "    myPlayer = extractMyInfo(status)\n",
        "    players = extractPlayerInfo(status)\n",
        "    players = updatePlayerPosition(status, players)\n",
        "    map = updateMapFromStatus(map, myPlayer, players)\n",
        "    myPreparedMap = prepareMap3(copy.deepcopy(map), myPlayer, players, size=(len(map),len(map[0])))\n",
        "\n",
        "    if (myPlayer.energy == 0): # run to the flag since you have no energy\n",
        "      myPath = findPath(myPreparedMap, posX, posY, enemyFlagX, enemyFlagY)\n",
        "      if ((time.time() - chat_timer) >= chat_sleep):\n",
        "        chat_timer = time.time()  \n",
        "        chat_sleep = random.randint(10,30)\n",
        "        dumb_chat.post(gameName, random.choice(CHAT_DICTIONARY['attack']))\n",
        "      if (len(myPath) > 0):\n",
        "        p = pathToCommand(dumb_ch, myPath) \n",
        "\n",
        "    # TODO: DEFEND FLAG and SHOOT ENEMIES\n",
        "    '''\n",
        "    myPath = findPath(myPreparedMap, posX, posY, enemyFlagX, enemyFlagY)\n",
        "    myPlayer.setFlagDistance(len(myPath))\n",
        "    if (myPlayer.distFromFlag <= minPath):\n",
        "      # TODO: check cooldown timer for the flag \n",
        "      print('I am closer')\n",
        "      p = pathToCommand(dumb_ch, myPath[0:n_steps])\n",
        "    # otherwise, do something else (move to our flag and shoot opponents?)\n",
        "    else: #TODO: rambo mode or cover your flag\n",
        "      print('I am not closer')\n",
        "      playerPreparedMap = prepareMap3(copy.deepcopy(map), closer_player, players)\n",
        "      closer_path = findPath(playerPreparedMap, int(closer_player.posX), int(closer_player.posY), myFlagX, myFlagY)\n",
        "      defendFlag(dumb_ch, closer_path, closer_player, players, myPlayer)\n",
        "    '''\n",
        "    \n",
        "\n",
        "  #map = dumb_ch.getMap()\n",
        "  #myPreparedMap = prepareMap3(copy.deepcopy(map), myPlayer, players)\n",
        "  #status = dumb_ch.getStatus()\n",
        "  #players = updatePlayerPosition(status, players)\n",
        "  \n",
        "\n",
        "# Game is over\n",
        "myScore = extractMyInfo(status).score\n",
        "print(myScore)\n",
        "\n",
        "# Posting on chat\n",
        "#dumb_chat.post(gameName, 'ggwp')\n",
        "if (myScore > 40):\n",
        "  dumb_chat.post(gameName, random.choice(CHAT_DICTIONARY['victory']))\n",
        "else:\n",
        "  dumb_chat.post(gameName, random.choice(CHAT_DICTIONARY['defeat']))\n"
      ],
      "execution_count": null,
      "outputs": [
        {
          "output_type": "error",
          "ename": "NameError",
          "evalue": "ignored",
          "traceback": [
            "\u001b[1;31m---------------------------------------------------------------------------\u001b[0m",
            "\u001b[1;31mNameError\u001b[0m                                 Traceback (most recent call last)",
            "\u001b[1;32m<ipython-input-11-129ed145f467>\u001b[0m in \u001b[0;36m<module>\u001b[1;34m\u001b[0m\n\u001b[0;32m      4\u001b[0m \u001b[1;33m\u001b[0m\u001b[0m\n\u001b[0;32m      5\u001b[0m \u001b[1;31m# Establish Connection\u001b[0m\u001b[1;33m\u001b[0m\u001b[1;33m\u001b[0m\u001b[1;33m\u001b[0m\u001b[0m\n\u001b[1;32m----> 6\u001b[1;33m \u001b[0mdumb_ch\u001b[0m \u001b[1;33m=\u001b[0m \u001b[0mCommunicationHandler\u001b[0m\u001b[1;33m(\u001b[0m\u001b[0mhost\u001b[0m\u001b[1;33m,\u001b[0m \u001b[0mserverPort\u001b[0m\u001b[1;33m)\u001b[0m\u001b[1;33m\u001b[0m\u001b[1;33m\u001b[0m\u001b[0m\n\u001b[0m\u001b[0;32m      7\u001b[0m \u001b[0mprint\u001b[0m\u001b[1;33m(\u001b[0m\u001b[0mdumb_ch\u001b[0m\u001b[1;33m.\u001b[0m\u001b[0mhost\u001b[0m\u001b[1;33m)\u001b[0m\u001b[1;33m\u001b[0m\u001b[1;33m\u001b[0m\u001b[0m\n\u001b[0;32m      8\u001b[0m \u001b[1;33m\u001b[0m\u001b[0m\n",
            "\u001b[1;31mNameError\u001b[0m: name 'CommunicationHandler' is not defined"
          ]
        }
      ]
    },
    {
      "cell_type": "code",
      "metadata": {
        "colab": {
          "base_uri": "https://localhost:8080/"
        },
        "id": "PXcB76HXIhNY",
        "outputId": "2bb19066-b47f-4c6f-8f87-8ba7c58c8ff9"
      },
      "source": [
        "print(status)"
      ],
      "execution_count": null,
      "outputs": [
        {
          "output_type": "stream",
          "text": [
            "GA: name=buggoni1 state=ACTIVE size=64 ratio=W\n",
            "ME: symbol=b name=ai0-rAImb0-step team=1 loyalty=1 energy=256 score=0\n",
            "PL: symbol=A name=ai0-rAImb0w team=0 x=81 y=59 state=ACTIVE\n",
            "PL: symbol=B name=ai0-rAImb0-norm team=0 x=78 y=51 state=ACTIVE\n",
            "PL: symbol=a name=ste team=1 x=80 y=22 state=ACTIVE\n",
            "PL: symbol=b name=ai0-rAImb0-step team=1 x=82 y=24 state=ACTIVE\n",
            "\n"
          ],
          "name": "stdout"
        }
      ]
    },
    {
      "cell_type": "code",
      "metadata": {
        "colab": {
          "base_uri": "https://localhost:8080/"
        },
        "id": "Rzi6M7_h6a5p",
        "outputId": "25b29e9b-52fb-4a52-bf99-6fe36040a64d"
      },
      "source": [
        "for player in players.values():\r\n",
        "  print(player.posHistory)"
      ],
      "execution_count": null,
      "outputs": [
        {
          "output_type": "stream",
          "text": [
            "[(37, 32), ('37', '32')]\n",
            "[(40, 29), ('40', '29')]\n",
            "[(6, 22), ('6', '22')]\n",
            "[(55, 30), ('55', '30')]\n",
            "[(19, 28), ('19', '28')]\n",
            "[(25, 21), ('25', '21')]\n",
            "[(32, 22), ('32', '22')]\n",
            "[(45, 22), ('45', '22')]\n",
            "[(61, 7), ('61', '7')]\n",
            "[(39, 103), ('39', '103')]\n",
            "[(35, 25), ('35', '25')]\n",
            "[(41, 31), ('41', '31')]\n",
            "[(59, 1), ('59', '1')]\n",
            "[(4, 103), ('4', '103')]\n",
            "[(27, 30), ('27', '30')]\n",
            "[(43, 116), ('43', '116')]\n",
            "[(46, 98), ('46', '98')]\n",
            "[(56, 112), ('56', '112')]\n",
            "[(61, 123), ('61', '123')]\n",
            "[(5, 123), ('5', '123')]\n",
            "[(32, 106), ('32', '106')]\n",
            "[(35, 116), ('35', '116')]\n",
            "[(23, 102), ('23', '102')]\n"
          ],
          "name": "stdout"
        }
      ]
    },
    {
      "cell_type": "code",
      "metadata": {
        "colab": {
          "base_uri": "https://localhost:8080/"
        },
        "id": "4vmvnCb9E9GC",
        "outputId": "dee8d69d-a69d-4f85-ef9f-3093f39bc8e6"
      },
      "source": [
        "status"
      ],
      "execution_count": null,
      "outputs": [
        {
          "output_type": "stream",
          "text": [
            "GA: name=buggoni5 state=ACTIVE size=64 ratio=W\n",
            "ME: symbol=C name=ai0-rAImb0ste team=0 loyalty=0 energy=256 score=0\n",
            "PL: symbol=A name=ste team=0 x=11 y=40 state=ACTIVE\n",
            "PL: symbol=B name=fakePlayer0 team=0 x=14 y=19 state=ACTIVE\n",
            "PL: symbol=C name=ai0-rAImb0ste team=0 x=23 y=40 state=ACTIVE\n",
            "PL: symbol=a name=fakePlayer1 team=1 x=123 y=19 state=ACTIVE\n",
            "PL: symbol=b name=fakePlayer2 team=1 x=121 y=25 state=ACTIVE\n",
            "PL: symbol=c name=fakePlayer3 team=1 x=97 y=23 state=ACTIVE\n",
            "\n"
          ],
          "name": "stdout"
        }
      ]
    },
    {
      "cell_type": "code",
      "metadata": {
        "id": "vYcK0zDxFg5G"
      },
      "source": [
        "myPlayer = extractMyInfo(status)\n",
        "#players = extractPlayerInfo(status)"
      ],
      "execution_count": null,
      "outputs": []
    },
    {
      "cell_type": "code",
      "metadata": {
        "colab": {
          "base_uri": "https://localhost:8080/"
        },
        "id": "D8czdT1gFmlf",
        "outputId": "6d8cca10-49b8-4b45-abb3-3ec295395a7b"
      },
      "source": [
        "myPlayer.posX, myPlayer.posY"
      ],
      "execution_count": null,
      "outputs": [
        {
          "output_type": "execute_result",
          "data": {
            "text/plain": [
              "(-1, -1)"
            ]
          },
          "metadata": {
            "tags": []
          },
          "execution_count": 110
        }
      ]
    },
    {
      "cell_type": "code",
      "metadata": {
        "id": "0k0QKuexGlcb"
      },
      "source": [
        "players = updatePlayerPosition(status, players)"
      ],
      "execution_count": null,
      "outputs": []
    },
    {
      "cell_type": "code",
      "metadata": {
        "colab": {
          "base_uri": "https://localhost:8080/"
        },
        "id": "cgkJClZmHZo_",
        "outputId": "9e772bca-7f83-4dd8-dcd9-17f532a8e92d"
      },
      "source": [
        "for p in players.values():\n",
        "  print(f'({p.posX},{p.posY})')"
      ],
      "execution_count": null,
      "outputs": [
        {
          "output_type": "stream",
          "text": [
            "(11,40)\n",
            "(14,19)\n",
            "(123,19)\n",
            "(121,25)\n",
            "(97,23)\n"
          ],
          "name": "stdout"
        }
      ]
    },
    {
      "cell_type": "code",
      "metadata": {
        "colab": {
          "base_uri": "https://localhost:8080/"
        },
        "id": "h1n7ikm-CzAm",
        "outputId": "9432a16d-97d3-494f-8cb4-d838471cfcc9"
      },
      "source": [
        "print(f'Pos:({myPlayer.posX},{myPlayer.posY}) Best:({bestX},{bestY})')"
      ],
      "execution_count": null,
      "outputs": [
        {
          "output_type": "stream",
          "text": [
            "Pos:(23,40) Best:(31,15)\n"
          ],
          "name": "stdout"
        }
      ]
    },
    {
      "cell_type": "code",
      "metadata": {
        "colab": {
          "base_uri": "https://localhost:8080/"
        },
        "id": "uWx99nOT7quh",
        "outputId": "590620fb-407a-4a98-e3ce-d73df2deeae6"
      },
      "source": [
        "zone_history"
      ],
      "execution_count": null,
      "outputs": [
        {
          "output_type": "execute_result",
          "data": {
            "text/plain": [
              "[(array([[123.        , 107.        ,  91.        ,  75.        ,\n",
              "           59.        ,  44.        ,  35.        ,  44.        ],\n",
              "         [107.        ,  91.01793722,  75.        ,  59.        ,\n",
              "           43.        ,  28.        ,  21.20430108,  28.04366812],\n",
              "         [ 91.        ,  75.        ,  59.        ,  43.        ,\n",
              "           27.02064777,  11.        ,   5.78571429,  12.        ],\n",
              "         [ 90.25      ,  74.26482213,  59.26561265,  42.38793103,\n",
              "           26.27440945,  10.2749004 ,   5.046875  ,  11.15044248]]),\n",
              "  array([[( 15, 15), ( 31, 15), ( 47, 15), ( 63, 15), ( 79, 15), ( 95, 14),\n",
              "          (103, 15), (112, 15)],\n",
              "         [( 15, 31), ( 31, 31), ( 47, 31), ( 63, 31), ( 79, 31), ( 94, 31),\n",
              "          (102, 31), (112, 31)],\n",
              "         [( 15, 47), ( 31, 47), ( 47, 47), ( 63, 47), ( 79, 47), ( 95, 47),\n",
              "          (102, 47), (112, 47)],\n",
              "         [( 15, 49), ( 31, 49), ( 46, 49), ( 63, 49), ( 79, 49), ( 95, 49),\n",
              "          (102, 49), (112, 49)]], dtype=[('f0', '<i4'), ('f1', '<i4')])),\n",
              " (array([[123.        , 107.        ,  91.        ,  75.        ,\n",
              "           59.        ,  44.        ,  35.        ,  44.        ],\n",
              "         [107.        ,  91.01793722,  75.        ,  59.        ,\n",
              "           43.        ,  28.        ,  21.20430108,  28.04366812],\n",
              "         [ 91.        ,  75.        ,  59.        ,  43.        ,\n",
              "           27.02064777,  11.        ,   5.78571429,  12.        ],\n",
              "         [ 90.25      ,  74.26482213,  59.26561265,  42.38793103,\n",
              "           26.27440945,  10.2749004 ,   5.046875  ,  11.15044248]]),\n",
              "  array([[( 15, 15), ( 31, 15), ( 47, 15), ( 63, 15), ( 79, 15), ( 95, 14),\n",
              "          (103, 15), (112, 15)],\n",
              "         [( 15, 31), ( 31, 31), ( 47, 31), ( 63, 31), ( 79, 31), ( 94, 31),\n",
              "          (102, 31), (112, 31)],\n",
              "         [( 15, 47), ( 31, 47), ( 47, 47), ( 63, 47), ( 79, 47), ( 95, 47),\n",
              "          (102, 47), (112, 47)],\n",
              "         [( 15, 49), ( 31, 49), ( 46, 49), ( 63, 49), ( 79, 49), ( 95, 49),\n",
              "          (102, 49), (112, 49)]], dtype=[('f0', '<i4'), ('f1', '<i4')]))]"
            ]
          },
          "metadata": {
            "tags": []
          },
          "execution_count": 81
        }
      ]
    },
    {
      "cell_type": "markdown",
      "metadata": {
        "id": "mKrPKdI2DAQL"
      },
      "source": [
        "### blAId runner"
      ]
    },
    {
      "cell_type": "code",
      "metadata": {
        "colab": {
          "base_uri": "https://localhost:8080/"
        },
        "id": "LvKKV7fTLMrM",
        "outputId": "9bd071ab-bbd3-4f9d-98be-0d91a0ee58d4"
      },
      "source": [
        "gameName = 'ai0-3' # INSERT GAME NAME HERE\n",
        "\n",
        "# creo altri 4 giocatori\n",
        "for i in range(38):\n",
        "  chn = CommunicationHandler('margot.di.unipi.it', 8421)\n",
        "  joinn = chn.joinGame(gameName, 'fakePlayer'+str(i))\n",
        "print(\"Players created\")"
      ],
      "execution_count": null,
      "outputs": [
        {
          "output_type": "stream",
          "text": [
            "Connected!\n",
            "[JOIN] OK\n",
            "Connected!\n",
            "[JOIN] OK\n",
            "Connected!\n",
            "[JOIN] OK\n",
            "Connected!\n",
            "[JOIN] OK\n",
            "Connected!\n",
            "[JOIN] OK\n",
            "Connected!\n",
            "[JOIN] OK\n",
            "Connected!\n",
            "[JOIN] OK\n",
            "Connected!\n",
            "[JOIN] OK\n",
            "Connected!\n",
            "[JOIN] OK\n",
            "Connected!\n",
            "[JOIN] OK\n",
            "Connected!\n",
            "[JOIN] OK\n",
            "Connected!\n",
            "[JOIN] OK\n",
            "Connected!\n",
            "[JOIN] OK\n",
            "Connected!\n",
            "[JOIN] OK\n",
            "Connected!\n",
            "[JOIN] OK\n",
            "Connected!\n",
            "[JOIN] OK\n",
            "Connected!\n",
            "[JOIN] OK\n",
            "Connected!\n",
            "[JOIN] OK\n",
            "Connected!\n",
            "[JOIN] OK\n",
            "Connected!\n",
            "[JOIN] OK\n",
            "Connected!\n",
            "[JOIN] OK\n",
            "Connected!\n",
            "[JOIN] OK\n",
            "Connected!\n",
            "[JOIN] OK\n",
            "Connected!\n",
            "[JOIN] OK\n",
            "Connected!\n",
            "[JOIN] OK\n",
            "Connected!\n",
            "[JOIN] OK\n",
            "Connected!\n",
            "[JOIN] OK\n",
            "Connected!\n",
            "[JOIN] OK\n",
            "Connected!\n",
            "[JOIN] OK\n",
            "Connected!\n",
            "[JOIN] OK\n",
            "Connected!\n",
            "[JOIN] OK\n",
            "Connected!\n",
            "[JOIN] OK\n",
            "Connected!\n",
            "[JOIN] OK\n",
            "Connected!\n",
            "[JOIN] OK\n",
            "Connected!\n",
            "[JOIN] OK\n",
            "Connected!\n",
            "[JOIN] OK\n",
            "Connected!\n",
            "[JOIN] OK\n",
            "Connected!\n",
            "[JOIN] OK\n",
            "Players created\n"
          ],
          "name": "stdout"
        }
      ]
    },
    {
      "cell_type": "code",
      "metadata": {
        "colab": {
          "base_uri": "https://localhost:8080/",
          "height": 655
        },
        "id": "UBPKTygCDG-u",
        "outputId": "e77fe2e5-96e4-4d1b-bd45-232dd9f32b52"
      },
      "source": [
        "gameName = 'ai0-3' # INSERT GAME NAME HERE\n",
        "playerName = 'AI0-mAIdh0rse'\n",
        "\n",
        "# Establish Connection\n",
        "blaid_ch = CommunicationHandler(host, serverPort)\n",
        "print(blaid_ch.host)\n",
        "\n",
        "# Join the Game\n",
        "join = blaid_ch.joinGame(gameName, playerName)\n",
        "print(join)\n",
        "\n",
        "map = blaid_ch.getMap()\n",
        "status = blaid_ch.getStatus()\n",
        "myPlayer = extractMyInfo(status)\n",
        "players = extractPlayerInfo(status)\n",
        "blaid_chat = Chat(host, chatPort, myPlayer)\n",
        "blaid_chat.join(gameName, myPlayer.team)\n",
        "\n",
        "# read the chat until the start of the game\n",
        "readMessage = blaid_chat.readChat(timeout=20)\n",
        "print(readMessage)\n",
        "while ('Now starting!' not in readMessage):\n",
        "  nowTime = (time.time() - blaid_ch.lastAction)\n",
        "  readMessage = blaid_chat.readChat(timeout=48.5-nowTime)\n",
        "  if (nowTime > 48):\n",
        "    print('Time > 48')\n",
        "    status = blaid_ch.getStatus()\n",
        "    myPlayer = extractMyInfo(status)\n",
        "  print(readMessage)\n",
        "\n",
        "print('Game has started!')\n",
        "\n",
        "# Game has started\n",
        "myPreparedMap = prepareMap3(copy.deepcopy(map), myPlayer, players, size=(len(map),len(map[0]))\n",
        "# function to calculate how close eablaid_ch player is to the flags\n",
        "# Game loop\n",
        "enemyFlagY, enemyFlagX = findOnMap(map, myPlayer.enemyFlag)\n",
        "while(gameState(status) != 'FINISHED'):\n",
        "  print('ACTIVE')\n",
        "  posY, posX = findOnMap(map, myPlayer.symbol)\n",
        "\n",
        "  myPath = findPath(myPreparedMap, posX, posY, enemyFlagX, enemyFlagY)\n",
        "  print('Following path')\n",
        "  p = pathToCommand(blaid_ch, myPath)\n",
        "  map = blaid_ch.getMap()\n",
        "  myPreparedMap = prepareMap3(copy.deepcopy(map), myPlayer, players, size=(len(map),len(map[0]))\n",
        "  status = blaid_ch.getStatus()\n",
        "  myPlayer = extractMyInfo(status)\n",
        "\n",
        "# Game is over\n",
        "print(extractMyInfo(status).score)\n",
        "\n",
        "# Posting on chat\n",
        "blaid_chat.post(gameName, 'gg ez')\n"
      ],
      "execution_count": null,
      "outputs": [
        {
          "output_type": "stream",
          "text": [
            "Connected!\n",
            "margot.di.unipi.it\n",
            "[JOIN] OK\n",
            "['OK', 'team=0', 'loyalty=0\\n']\n",
            "Connected!\n",
            "ai0-3 @GameServer Hunting season open!\n",
            "\n",
            "ai0-3 @GameServer You can now catch the flag!\n",
            "\n",
            "ai0-3 @GameServer fakePlayer37 was disconnected. Goodbye cruel world!\n",
            "\n",
            "\n",
            "Time > 48\n",
            "\n"
          ],
          "name": "stdout"
        },
        {
          "output_type": "error",
          "ename": "KeyboardInterrupt",
          "evalue": "ignored",
          "traceback": [
            "\u001b[0;31m---------------------------------------------------------------------------\u001b[0m",
            "\u001b[0;31mKeyboardInterrupt\u001b[0m                         Traceback (most recent call last)",
            "\u001b[0;32m<ipython-input-31-432a1e540028>\u001b[0m in \u001b[0;36m<module>\u001b[0;34m()\u001b[0m\n\u001b[1;32m     22\u001b[0m \u001b[0;32mwhile\u001b[0m \u001b[0;34m(\u001b[0m\u001b[0;34m'Now starting!'\u001b[0m \u001b[0;32mnot\u001b[0m \u001b[0;32min\u001b[0m \u001b[0mreadMessage\u001b[0m\u001b[0;34m)\u001b[0m\u001b[0;34m:\u001b[0m\u001b[0;34m\u001b[0m\u001b[0;34m\u001b[0m\u001b[0m\n\u001b[1;32m     23\u001b[0m   \u001b[0mnowTime\u001b[0m \u001b[0;34m=\u001b[0m \u001b[0;34m(\u001b[0m\u001b[0mtime\u001b[0m\u001b[0;34m.\u001b[0m\u001b[0mtime\u001b[0m\u001b[0;34m(\u001b[0m\u001b[0;34m)\u001b[0m \u001b[0;34m-\u001b[0m \u001b[0mblaid_ch\u001b[0m\u001b[0;34m.\u001b[0m\u001b[0mlastAction\u001b[0m\u001b[0;34m)\u001b[0m\u001b[0;34m\u001b[0m\u001b[0;34m\u001b[0m\u001b[0m\n\u001b[0;32m---> 24\u001b[0;31m   \u001b[0mreadMessage\u001b[0m \u001b[0;34m=\u001b[0m \u001b[0mblaid_chat\u001b[0m\u001b[0;34m.\u001b[0m\u001b[0mreadChat\u001b[0m\u001b[0;34m(\u001b[0m\u001b[0mtimeout\u001b[0m\u001b[0;34m=\u001b[0m\u001b[0;36m48.5\u001b[0m\u001b[0;34m-\u001b[0m\u001b[0mnowTime\u001b[0m\u001b[0;34m)\u001b[0m\u001b[0;34m\u001b[0m\u001b[0;34m\u001b[0m\u001b[0m\n\u001b[0m\u001b[1;32m     25\u001b[0m   \u001b[0;32mif\u001b[0m \u001b[0;34m(\u001b[0m\u001b[0mnowTime\u001b[0m \u001b[0;34m>\u001b[0m \u001b[0;36m48\u001b[0m\u001b[0;34m)\u001b[0m\u001b[0;34m:\u001b[0m\u001b[0;34m\u001b[0m\u001b[0;34m\u001b[0m\u001b[0m\n\u001b[1;32m     26\u001b[0m     \u001b[0mprint\u001b[0m\u001b[0;34m(\u001b[0m\u001b[0;34m'Time > 48'\u001b[0m\u001b[0;34m)\u001b[0m\u001b[0;34m\u001b[0m\u001b[0;34m\u001b[0m\u001b[0m\n",
            "\u001b[0;32m<ipython-input-6-efa0035b5177>\u001b[0m in \u001b[0;36mreadChat\u001b[0;34m(self, timeout)\u001b[0m\n\u001b[1;32m     58\u001b[0m     \u001b[0;31m# matchName @GameServer message\u001b[0m\u001b[0;34m\u001b[0m\u001b[0;34m\u001b[0m\u001b[0;34m\u001b[0m\u001b[0m\n\u001b[1;32m     59\u001b[0m \u001b[0;34m\u001b[0m\u001b[0m\n\u001b[0;32m---> 60\u001b[0;31m     \u001b[0mres\u001b[0m \u001b[0;34m=\u001b[0m \u001b[0mself\u001b[0m\u001b[0;34m.\u001b[0m\u001b[0mtn\u001b[0m\u001b[0;34m.\u001b[0m\u001b[0mread_until\u001b[0m\u001b[0;34m(\u001b[0m\u001b[0;34m'\\n'\u001b[0m\u001b[0;34m.\u001b[0m\u001b[0mencode\u001b[0m\u001b[0;34m(\u001b[0m\u001b[0;34m'utf8'\u001b[0m\u001b[0;34m)\u001b[0m\u001b[0;34m,\u001b[0m \u001b[0mtimeout\u001b[0m\u001b[0;34m=\u001b[0m\u001b[0mtimeout\u001b[0m\u001b[0;34m)\u001b[0m\u001b[0;34m.\u001b[0m\u001b[0mdecode\u001b[0m\u001b[0;34m(\u001b[0m\u001b[0;34m'utf8'\u001b[0m\u001b[0;34m)\u001b[0m\u001b[0;34m\u001b[0m\u001b[0;34m\u001b[0m\u001b[0m\n\u001b[0m\u001b[1;32m     61\u001b[0m \u001b[0;34m\u001b[0m\u001b[0m\n\u001b[1;32m     62\u001b[0m     \u001b[0;32mreturn\u001b[0m \u001b[0mres\u001b[0m\u001b[0;34m\u001b[0m\u001b[0;34m\u001b[0m\u001b[0m\n",
            "\u001b[0;32m/usr/lib/python3.6/telnetlib.py\u001b[0m in \u001b[0;36mread_until\u001b[0;34m(self, match, timeout)\u001b[0m\n\u001b[1;32m    311\u001b[0m             \u001b[0mselector\u001b[0m\u001b[0;34m.\u001b[0m\u001b[0mregister\u001b[0m\u001b[0;34m(\u001b[0m\u001b[0mself\u001b[0m\u001b[0;34m,\u001b[0m \u001b[0mselectors\u001b[0m\u001b[0;34m.\u001b[0m\u001b[0mEVENT_READ\u001b[0m\u001b[0;34m)\u001b[0m\u001b[0;34m\u001b[0m\u001b[0;34m\u001b[0m\u001b[0m\n\u001b[1;32m    312\u001b[0m             \u001b[0;32mwhile\u001b[0m \u001b[0;32mnot\u001b[0m \u001b[0mself\u001b[0m\u001b[0;34m.\u001b[0m\u001b[0meof\u001b[0m\u001b[0;34m:\u001b[0m\u001b[0;34m\u001b[0m\u001b[0;34m\u001b[0m\u001b[0m\n\u001b[0;32m--> 313\u001b[0;31m                 \u001b[0;32mif\u001b[0m \u001b[0mselector\u001b[0m\u001b[0;34m.\u001b[0m\u001b[0mselect\u001b[0m\u001b[0;34m(\u001b[0m\u001b[0mtimeout\u001b[0m\u001b[0;34m)\u001b[0m\u001b[0;34m:\u001b[0m\u001b[0;34m\u001b[0m\u001b[0;34m\u001b[0m\u001b[0m\n\u001b[0m\u001b[1;32m    314\u001b[0m                     \u001b[0mi\u001b[0m \u001b[0;34m=\u001b[0m \u001b[0mmax\u001b[0m\u001b[0;34m(\u001b[0m\u001b[0;36m0\u001b[0m\u001b[0;34m,\u001b[0m \u001b[0mlen\u001b[0m\u001b[0;34m(\u001b[0m\u001b[0mself\u001b[0m\u001b[0;34m.\u001b[0m\u001b[0mcookedq\u001b[0m\u001b[0;34m)\u001b[0m\u001b[0;34m-\u001b[0m\u001b[0mn\u001b[0m\u001b[0;34m)\u001b[0m\u001b[0;34m\u001b[0m\u001b[0;34m\u001b[0m\u001b[0m\n\u001b[1;32m    315\u001b[0m                     \u001b[0mself\u001b[0m\u001b[0;34m.\u001b[0m\u001b[0mfill_rawq\u001b[0m\u001b[0;34m(\u001b[0m\u001b[0;34m)\u001b[0m\u001b[0;34m\u001b[0m\u001b[0;34m\u001b[0m\u001b[0m\n",
            "\u001b[0;32m/usr/lib/python3.6/selectors.py\u001b[0m in \u001b[0;36mselect\u001b[0;34m(self, timeout)\u001b[0m\n\u001b[1;32m    374\u001b[0m             \u001b[0mready\u001b[0m \u001b[0;34m=\u001b[0m \u001b[0;34m[\u001b[0m\u001b[0;34m]\u001b[0m\u001b[0;34m\u001b[0m\u001b[0;34m\u001b[0m\u001b[0m\n\u001b[1;32m    375\u001b[0m             \u001b[0;32mtry\u001b[0m\u001b[0;34m:\u001b[0m\u001b[0;34m\u001b[0m\u001b[0;34m\u001b[0m\u001b[0m\n\u001b[0;32m--> 376\u001b[0;31m                 \u001b[0mfd_event_list\u001b[0m \u001b[0;34m=\u001b[0m \u001b[0mself\u001b[0m\u001b[0;34m.\u001b[0m\u001b[0m_poll\u001b[0m\u001b[0;34m.\u001b[0m\u001b[0mpoll\u001b[0m\u001b[0;34m(\u001b[0m\u001b[0mtimeout\u001b[0m\u001b[0;34m)\u001b[0m\u001b[0;34m\u001b[0m\u001b[0;34m\u001b[0m\u001b[0m\n\u001b[0m\u001b[1;32m    377\u001b[0m             \u001b[0;32mexcept\u001b[0m \u001b[0mInterruptedError\u001b[0m\u001b[0;34m:\u001b[0m\u001b[0;34m\u001b[0m\u001b[0;34m\u001b[0m\u001b[0m\n\u001b[1;32m    378\u001b[0m                 \u001b[0;32mreturn\u001b[0m \u001b[0mready\u001b[0m\u001b[0;34m\u001b[0m\u001b[0;34m\u001b[0m\u001b[0m\n",
            "\u001b[0;31mKeyboardInterrupt\u001b[0m: "
          ]
        }
      ]
    },
    {
      "cell_type": "markdown",
      "metadata": {
        "id": "tXY6fFV5fSG1"
      },
      "source": [
        "## Q-test"
      ]
    },
    {
      "cell_type": "code",
      "metadata": {
        "id": "c1C4omGukhLE"
      },
      "source": [
        "actions = {0: 'move_up', 1: 'move_down', 2: 'move_left', 3: 'move_right', \n",
        "           4: 'shoot_up', 5: 'shoot_down', 6: 'shoot_left', 7: 'shoot_right', \n",
        "           8: 'nop'}"
      ],
      "execution_count": null,
      "outputs": []
    },
    {
      "cell_type": "code",
      "metadata": {
        "colab": {
          "base_uri": "https://localhost:8080/",
          "height": 1000
        },
        "id": "-gwlM1e1d4ct",
        "outputId": "d000d674-aee2-4001-eb32-2e14c54fd099"
      },
      "source": [
        "gameName = 'ai0-5' # INSERT GAME NAME HERE\n",
        "playerName = 'AI0-JDeep'\n",
        "# reloading the model\n",
        "model = PPO2.load(\"Test1\")\n",
        "\n",
        "# Establish Connection\n",
        "blaid_ch = CommunicationHandler(host, serverPort)\n",
        "print(blaid_ch.host)\n",
        "\n",
        "# Join the Game\n",
        "join = blaid_ch.joinGame(gameName, playerName)\n",
        "print(join)\n",
        "\n",
        "map = blaid_ch.getMap()\n",
        "status = blaid_ch.getStatus()\n",
        "myPlayer = extractMyInfo(status)\n",
        "blaid_chat = Chat(host, chatPort, myPlayer)\n",
        "blaid_chat.join(gameName, myPlayer.team)\n",
        "\n",
        "# read the chat until the start of the game\n",
        "readMessage = blaid_chat.readChat(timeout=20)\n",
        "print(readMessage)\n",
        "while ('Now starting!' not in readMessage):\n",
        "  nowTime = (time.time() - blaid_ch.lastAction)\n",
        "  readMessage = blaid_chat.readChat(timeout=48.5-nowTime)\n",
        "  if (nowTime > 48):\n",
        "    print('Time > 48')\n",
        "    status = blaid_ch.getStatus()\n",
        "    myPlayer = extractMyInfo(status)\n",
        "  print(readMessage)\n",
        "\n",
        "print('Game has started!')\n",
        "start_time = int(time.time()*1000)\n",
        "myPreparedMap = prepareMap(copy.deepcopy(map), myPlayer)\n",
        "\n",
        "# Using the trained agent\n",
        "obs = np.array(prepareMap2(copy.deepcopy(map)))\n",
        "\n",
        "# calculating time status (0 = first 8 seconds, 1 = 8-45 seconds, 2 = 45 or more seconds)\n",
        "current_time = int(time.time()*1000)\n",
        "time_difference = current_time - start_time # differenza in millesimi di secondo\n",
        "if (time_difference < 1000 * 5): # primi 5 secondi\n",
        "  current_phase = 0\n",
        "elif (time_difference < 1000 * 30): # 5-30 secondi\n",
        "  current_phase = 1\n",
        "else:\n",
        "  current_phase = 2\n",
        "\n",
        "# line: who we are on the map, energy, x, y, loyalty, score, alive, last_update\n",
        "if (myPlayer.symbol.isupper()): #team maiuscolo\n",
        "  player_number = ord(myPlayer.symbol)-56\n",
        "else:\n",
        "  player_number = ord(myPlayer.symbol)-68\n",
        "line = [[]]\n",
        "line[0].append(player_number)\n",
        "line[0].append(myPlayer.team)\n",
        "line[0].append(myPlayer.energy)\n",
        "line[0].append(myPlayer.posX)\n",
        "line[0].append(myPlayer.posY)\n",
        "line[0].append(myPlayer.loyalty)\n",
        "line[0].append(myPlayer.score)\n",
        "if (myPlayer.alive): \n",
        "  line[0].append(1)\n",
        "else:\n",
        "  line[0].append(0)\n",
        "line[0].append(0)\n",
        "line[0].append(0)\n",
        "line[0].append(current_phase)\n",
        "\n",
        "for i in range(len(line[0]),256): #servono (256 - parametri) zeri dopo self.current_player\n",
        "  line[0].append(0)\n",
        "obs = np.append(obs, line, axis=0) \n",
        "\n",
        "\n",
        "while(gameState(status) != 'FINISHED'):\n",
        "  print('ACTIVE')\n",
        "  \n",
        "  action, _states = model.predict(obs)\n",
        "  action = actions[action]\n",
        "  print(action)\n",
        "  printMap(map)\n",
        "\n",
        "  if action == 'move_up':\n",
        "    res = blaid_ch.move(\"N\")\n",
        "\n",
        "  elif action == 'move_down':\n",
        "    res = blaid_ch.move(\"S\")\n",
        "\n",
        "  elif action == 'move_left':\n",
        "    res = blaid_ch.move(\"W\")\n",
        "    \n",
        "  elif action == 'move_right':\n",
        "    res = blaid_ch.move(\"E\")\n",
        "\n",
        "  elif action == 'shoot_up':\n",
        "    res = blaid_ch.shoot(\"N\")\n",
        "\n",
        "  elif action == 'shoot_down':\n",
        "    res = blaid_ch.shoot(\"S\")\n",
        "\n",
        "  elif action == 'shoot_left':\n",
        "    res = blaid_ch.shoot(\"W\")\n",
        "\n",
        "  elif action == 'shoot_right':\n",
        "    res = blaid_ch.shoot(\"E\")\n",
        "\n",
        "  map = blaid_ch.getMap()\n",
        "  myPreparedMap = prepareMap(copy.deepcopy(map), myPlayer)\n",
        "  status = blaid_ch.getStatus()\n",
        "  myPlayer = extractMyInfo(status)\n",
        "\n",
        "# Game is over\n",
        "print(extractMyInfo(status).score)\n",
        "\n",
        "# Posting on chat\n",
        "blaid_chat.post(gameName, 'gg ez')\n"
      ],
      "execution_count": null,
      "outputs": [
        {
          "output_type": "stream",
          "text": [
            "Connected!\n",
            "margot.di.unipi.it\n",
            "[JOIN] OK\n",
            "['OK', 'team=1', 'loyalty=1\\n']\n",
            "Connected!\n",
            "ai0-5 @GameServer Now starting!\n",
            "\n",
            "Game has started!\n",
            "ACTIVE\n",
            "move_down\n"
          ],
          "name": "stdout"
        },
        {
          "output_type": "display_data",
          "data": {
            "image/png": "[encoded data removed]",
            "text/plain": [
              "<Figure size 720x720 with 1 Axes>"
            ]
          },
          "metadata": {
            "tags": []
          }
        },
        {
          "output_type": "stream",
          "text": [
            "[MOVE-S] OK\n",
            "ACTIVE\n",
            "move_left\n"
          ],
          "name": "stdout"
        },
        {
          "output_type": "display_data",
          "data": {
            "image/png": "[encoded data removed]",
            "text/plain": [
              "<Figure size 720x720 with 1 Axes>"
            ]
          },
          "metadata": {
            "tags": []
          }
        },
        {
          "output_type": "stream",
          "text": [
            "[MOVE-W] OK\n",
            "ACTIVE\n",
            "move_up\n"
          ],
          "name": "stdout"
        },
        {
          "output_type": "display_data",
          "data": {
            "image/png": "[encoded data removed]",
            "text/plain": [
              "<Figure size 720x720 with 1 Axes>"
            ]
          },
          "metadata": {
            "tags": []
          }
        },
        {
          "output_type": "stream",
          "text": [
            "[MOVE-N] OK\n",
            "ACTIVE\n",
            "move_right\n"
          ],
          "name": "stdout"
        },
        {
          "output_type": "display_data",
          "data": {
            "image/png": "[encoded data removed]",
            "text/plain": [
              "<Figure size 720x720 with 1 Axes>"
            ]
          },
          "metadata": {
            "tags": []
          }
        },
        {
          "output_type": "stream",
          "text": [
            "[MOVE-E] OK\n",
            "ACTIVE\n",
            "move_right\n"
          ],
          "name": "stdout"
        },
        {
          "output_type": "display_data",
          "data": {
            "image/png": "[encoded data removed]",
            "text/plain": [
              "<Figure size 720x720 with 1 Axes>"
            ]
          },
          "metadata": {
            "tags": []
          }
        },
        {
          "output_type": "stream",
          "text": [
            "[MOVE-E] OK\n",
            "ACTIVE\n",
            "move_down\n"
          ],
          "name": "stdout"
        },
        {
          "output_type": "display_data",
          "data": {
            "image/png": "[encoded data removed]",
            "text/plain": [
              "<Figure size 720x720 with 1 Axes>"
            ]
          },
          "metadata": {
            "tags": []
          }
        },
        {
          "output_type": "stream",
          "text": [
            "[MOVE-S] OK\n",
            "ACTIVE\n",
            "move_up\n"
          ],
          "name": "stdout"
        },
        {
          "output_type": "display_data",
          "data": {
            "image/png": "[encoded data removed]",
            "text/plain": [
              "<Figure size 720x720 with 1 Axes>"
            ]
          },
          "metadata": {
            "tags": []
          }
        },
        {
          "output_type": "stream",
          "text": [
            "[MOVE-N] OK\n",
            "ACTIVE\n",
            "move_right\n"
          ],
          "name": "stdout"
        },
        {
          "output_type": "display_data",
          "data": {
            "image/png": "[encoded data removed]",
            "text/plain": [
              "<Figure size 720x720 with 1 Axes>"
            ]
          },
          "metadata": {
            "tags": []
          }
        },
        {
          "output_type": "stream",
          "text": [
            "[MOVE-E] OK\n",
            "ACTIVE\n",
            "move_left\n"
          ],
          "name": "stdout"
        },
        {
          "output_type": "display_data",
          "data": {
            "image/png": "[encoded data removed]",
            "text/plain": [
              "<Figure size 720x720 with 1 Axes>"
            ]
          },
          "metadata": {
            "tags": []
          }
        },
        {
          "output_type": "stream",
          "text": [
            "[MOVE-W] OK\n",
            "ACTIVE\n",
            "move_left\n"
          ],
          "name": "stdout"
        },
        {
          "output_type": "display_data",
          "data": {
            "image/png": "[encoded data removed]",
            "text/plain": [
              "<Figure size 720x720 with 1 Axes>"
            ]
          },
          "metadata": {
            "tags": []
          }
        },
        {
          "output_type": "stream",
          "text": [
            "[MOVE-W] OK\n",
            "ACTIVE\n",
            "move_left\n"
          ],
          "name": "stdout"
        },
        {
          "output_type": "display_data",
          "data": {
            "image/png": "[encoded data removed]",
            "text/plain": [
              "<Figure size 720x720 with 1 Axes>"
            ]
          },
          "metadata": {
            "tags": []
          }
        },
        {
          "output_type": "stream",
          "text": [
            "[MOVE-W] OK\n",
            "ACTIVE\n",
            "move_up\n"
          ],
          "name": "stdout"
        },
        {
          "output_type": "display_data",
          "data": {
            "image/png": "[encoded data removed]",
            "text/plain": [
              "<Figure size 720x720 with 1 Axes>"
            ]
          },
          "metadata": {
            "tags": []
          }
        },
        {
          "output_type": "stream",
          "text": [
            "[MOVE-N] OK\n",
            "ACTIVE\n",
            "move_right\n"
          ],
          "name": "stdout"
        },
        {
          "output_type": "display_data",
          "data": {
            "image/png": "[encoded data removed]",
            "text/plain": [
              "<Figure size 720x720 with 1 Axes>"
            ]
          },
          "metadata": {
            "tags": []
          }
        },
        {
          "output_type": "stream",
          "text": [
            "[MOVE-E] OK\n",
            "ACTIVE\n",
            "move_left\n"
          ],
          "name": "stdout"
        },
        {
          "output_type": "display_data",
          "data": {
            "image/png": "[encoded data removed]",
            "text/plain": [
              "<Figure size 720x720 with 1 Axes>"
            ]
          },
          "metadata": {
            "tags": []
          }
        },
        {
          "output_type": "stream",
          "text": [
            "[MOVE-W] OK\n",
            "ACTIVE\n",
            "move_down\n"
          ],
          "name": "stdout"
        },
        {
          "output_type": "display_data",
          "data": {
            "image/png": "[encoded data removed]",
            "text/plain": [
              "<Figure size 720x720 with 1 Axes>"
            ]
          },
          "metadata": {
            "tags": []
          }
        },
        {
          "output_type": "stream",
          "text": [
            "[MOVE-S] OK\n",
            "ACTIVE\n",
            "move_left\n"
          ],
          "name": "stdout"
        },
        {
          "output_type": "display_data",
          "data": {
            "image/png": "[encoded data removed]",
            "text/plain": [
              "<Figure size 720x720 with 1 Axes>"
            ]
          },
          "metadata": {
            "tags": []
          }
        },
        {
          "output_type": "stream",
          "text": [
            "[MOVE-W] OK\n",
            "ACTIVE\n",
            "move_left\n"
          ],
          "name": "stdout"
        },
        {
          "output_type": "display_data",
          "data": {
            "image/png": "[encoded data removed]",
            "text/plain": [
              "<Figure size 720x720 with 1 Axes>"
            ]
          },
          "metadata": {
            "tags": []
          }
        },
        {
          "output_type": "stream",
          "text": [
            "[MOVE-W] OK\n",
            "ACTIVE\n",
            "move_left\n"
          ],
          "name": "stdout"
        },
        {
          "output_type": "display_data",
          "data": {
            "image/png": "[encoded data removed]",
            "text/plain": [
              "<Figure size 720x720 with 1 Axes>"
            ]
          },
          "metadata": {
            "tags": []
          }
        },
        {
          "output_type": "stream",
          "text": [
            "[MOVE-W] OK\n",
            "ACTIVE\n",
            "move_left\n"
          ],
          "name": "stdout"
        },
        {
          "output_type": "display_data",
          "data": {
            "image/png": "[encoded data removed]",
            "text/plain": [
              "<Figure size 720x720 with 1 Axes>"
            ]
          },
          "metadata": {
            "tags": []
          }
        },
        {
          "output_type": "stream",
          "text": [
            "[MOVE-W] OK\n",
            "ACTIVE\n",
            "move_down\n"
          ],
          "name": "stdout"
        },
        {
          "output_type": "display_data",
          "data": {
            "image/png": "[encoded data removed]",
            "text/plain": [
              "<Figure size 720x720 with 1 Axes>"
            ]
          },
          "metadata": {
            "tags": []
          }
        },
        {
          "output_type": "stream",
          "text": [
            "[MOVE-S] OK\n",
            "ACTIVE\n",
            "move_left\n"
          ],
          "name": "stdout"
        },
        {
          "output_type": "display_data",
          "data": {
            "image/png": "[encoded data removed]",
            "text/plain": [
              "<Figure size 720x720 with 1 Axes>"
            ]
          },
          "metadata": {
            "tags": []
          }
        },
        {
          "output_type": "stream",
          "text": [
            "[MOVE-W] OK\n",
            "ACTIVE\n",
            "move_left\n"
          ],
          "name": "stdout"
        },
        {
          "output_type": "display_data",
          "data": {
            "image/png": "[encoded data removed]",
            "text/plain": [
              "<Figure size 720x720 with 1 Axes>"
            ]
          },
          "metadata": {
            "tags": []
          }
        },
        {
          "output_type": "stream",
          "text": [
            "[MOVE-W] OK\n",
            "ACTIVE\n",
            "move_right\n"
          ],
          "name": "stdout"
        },
        {
          "output_type": "display_data",
          "data": {
            "image/png": "[encoded data removed]",
            "text/plain": [
              "<Figure size 720x720 with 1 Axes>"
            ]
          },
          "metadata": {
            "tags": []
          }
        },
        {
          "output_type": "stream",
          "text": [
            "[MOVE-E] OK\n",
            "ACTIVE\n",
            "move_right\n"
          ],
          "name": "stdout"
        },
        {
          "output_type": "display_data",
          "data": {
            "image/png": "[encoded data removed]",
            "text/plain": [
              "<Figure size 720x720 with 1 Axes>"
            ]
          },
          "metadata": {
            "tags": []
          }
        },
        {
          "output_type": "stream",
          "text": [
            "[MOVE-E] OK\n",
            "ACTIVE\n",
            "move_left\n"
          ],
          "name": "stdout"
        },
        {
          "output_type": "display_data",
          "data": {
            "image/png": "[encoded data removed]",
            "text/plain": [
              "<Figure size 720x720 with 1 Axes>"
            ]
          },
          "metadata": {
            "tags": []
          }
        },
        {
          "output_type": "stream",
          "text": [
            "[MOVE-W] OK\n",
            "ACTIVE\n",
            "move_right\n"
          ],
          "name": "stdout"
        },
        {
          "output_type": "display_data",
          "data": {
            "image/png": "[encoded data removed]",
            "text/plain": [
              "<Figure size 720x720 with 1 Axes>"
            ]
          },
          "metadata": {
            "tags": []
          }
        },
        {
          "output_type": "stream",
          "text": [
            "[MOVE-E] OK\n",
            "ACTIVE\n",
            "move_left\n"
          ],
          "name": "stdout"
        },
        {
          "output_type": "display_data",
          "data": {
            "image/png": "[encoded data removed]",
            "text/plain": [
              "<Figure size 720x720 with 1 Axes>"
            ]
          },
          "metadata": {
            "tags": []
          }
        },
        {
          "output_type": "stream",
          "text": [
            "[MOVE-W] OK\n",
            "ACTIVE\n",
            "move_right\n"
          ],
          "name": "stdout"
        },
        {
          "output_type": "display_data",
          "data": {
            "image/png": "[encoded data removed]",
            "text/plain": [
              "<Figure size 720x720 with 1 Axes>"
            ]
          },
          "metadata": {
            "tags": []
          }
        },
        {
          "output_type": "stream",
          "text": [
            "[MOVE-E] OK\n",
            "ACTIVE\n",
            "move_up\n"
          ],
          "name": "stdout"
        },
        {
          "output_type": "display_data",
          "data": {
            "image/png": "[encoded data removed]",
            "text/plain": [
              "<Figure size 720x720 with 1 Axes>"
            ]
          },
          "metadata": {
            "tags": []
          }
        },
        {
          "output_type": "stream",
          "text": [
            "[MOVE-N] OK\n",
            "ACTIVE\n",
            "move_up\n"
          ],
          "name": "stdout"
        },
        {
          "output_type": "display_data",
          "data": {
            "image/png": "[encoded data removed]",
            "text/plain": [
              "<Figure size 720x720 with 1 Axes>"
            ]
          },
          "metadata": {
            "tags": []
          }
        },
        {
          "output_type": "stream",
          "text": [
            "[MOVE-N] OK\n",
            "ACTIVE\n",
            "move_right\n"
          ],
          "name": "stdout"
        },
        {
          "output_type": "display_data",
          "data": {
            "image/png": "[encoded data removed]",
            "text/plain": [
              "<Figure size 720x720 with 1 Axes>"
            ]
          },
          "metadata": {
            "tags": []
          }
        },
        {
          "output_type": "stream",
          "text": [
            "[MOVE-E] OK\n",
            "ACTIVE\n",
            "move_left\n"
          ],
          "name": "stdout"
        },
        {
          "output_type": "display_data",
          "data": {
            "image/png": "[encoded data removed]",
            "text/plain": [
              "<Figure size 720x720 with 1 Axes>"
            ]
          },
          "metadata": {
            "tags": []
          }
        },
        {
          "output_type": "stream",
          "text": [
            "[MOVE-W] OK\n",
            "ACTIVE\n",
            "move_right\n"
          ],
          "name": "stdout"
        },
        {
          "output_type": "display_data",
          "data": {
            "image/png": "[encoded data removed]",
            "text/plain": [
              "<Figure size 720x720 with 1 Axes>"
            ]
          },
          "metadata": {
            "tags": []
          }
        },
        {
          "output_type": "stream",
          "text": [
            "[MOVE-E] OK\n",
            "ACTIVE\n",
            "move_right\n"
          ],
          "name": "stdout"
        },
        {
          "output_type": "display_data",
          "data": {
            "image/png": "[encoded data removed]",
            "text/plain": [
              "<Figure size 720x720 with 1 Axes>"
            ]
          },
          "metadata": {
            "tags": []
          }
        },
        {
          "output_type": "stream",
          "text": [
            "[MOVE-E] OK\n",
            "ACTIVE\n",
            "move_left\n"
          ],
          "name": "stdout"
        },
        {
          "output_type": "display_data",
          "data": {
            "image/png": "[encoded data removed]",
            "text/plain": [
              "<Figure size 720x720 with 1 Axes>"
            ]
          },
          "metadata": {
            "tags": []
          }
        },
        {
          "output_type": "stream",
          "text": [
            "[MOVE-W] OK\n",
            "ACTIVE\n",
            "move_left\n"
          ],
          "name": "stdout"
        },
        {
          "output_type": "display_data",
          "data": {
            "image/png": "[encoded data removed]",
            "text/plain": [
              "<Figure size 720x720 with 1 Axes>"
            ]
          },
          "metadata": {
            "tags": []
          }
        },
        {
          "output_type": "stream",
          "text": [
            "[MOVE-W] OK\n",
            "ACTIVE\n",
            "move_right\n"
          ],
          "name": "stdout"
        },
        {
          "output_type": "display_data",
          "data": {
            "image/png": "[encoded data removed]",
            "text/plain": [
              "<Figure size 720x720 with 1 Axes>"
            ]
          },
          "metadata": {
            "tags": []
          }
        },
        {
          "output_type": "stream",
          "text": [
            "[MOVE-E] OK\n",
            "ACTIVE\n",
            "move_right\n"
          ],
          "name": "stdout"
        },
        {
          "output_type": "display_data",
          "data": {
            "image/png": "[encoded data removed]",
            "text/plain": [
              "<Figure size 720x720 with 1 Axes>"
            ]
          },
          "metadata": {
            "tags": []
          }
        },
        {
          "output_type": "stream",
          "text": [
            "[MOVE-E] OK\n",
            "ACTIVE\n",
            "move_left\n"
          ],
          "name": "stdout"
        },
        {
          "output_type": "display_data",
          "data": {
            "image/png": "[encoded data removed]",
            "text/plain": [
              "<Figure size 720x720 with 1 Axes>"
            ]
          },
          "metadata": {
            "tags": []
          }
        },
        {
          "output_type": "stream",
          "text": [
            "[MOVE-W] OK\n",
            "ACTIVE\n",
            "move_right\n"
          ],
          "name": "stdout"
        },
        {
          "output_type": "display_data",
          "data": {
            "image/png": "[encoded data removed]",
            "text/plain": [
              "<Figure size 720x720 with 1 Axes>"
            ]
          },
          "metadata": {
            "tags": []
          }
        },
        {
          "output_type": "stream",
          "text": [
            "[MOVE-E] OK\n",
            "ACTIVE\n",
            "move_right\n"
          ],
          "name": "stdout"
        },
        {
          "output_type": "display_data",
          "data": {
            "image/png": "[encoded data removed]",
            "text/plain": [
              "<Figure size 720x720 with 1 Axes>"
            ]
          },
          "metadata": {
            "tags": []
          }
        },
        {
          "output_type": "stream",
          "text": [
            "[MOVE-E] OK\n",
            "ACTIVE\n",
            "move_left\n"
          ],
          "name": "stdout"
        },
        {
          "output_type": "display_data",
          "data": {
            "image/png": "[encoded data removed]",
            "text/plain": [
              "<Figure size 720x720 with 1 Axes>"
            ]
          },
          "metadata": {
            "tags": []
          }
        },
        {
          "output_type": "stream",
          "text": [
            "[MOVE-W] OK\n",
            "ACTIVE\n",
            "move_right\n"
          ],
          "name": "stdout"
        },
        {
          "output_type": "display_data",
          "data": {
            "image/png": "[encoded data removed]",
            "text/plain": [
              "<Figure size 720x720 with 1 Axes>"
            ]
          },
          "metadata": {
            "tags": []
          }
        },
        {
          "output_type": "stream",
          "text": [
            "[MOVE-E] OK\n",
            "ACTIVE\n",
            "move_left\n"
          ],
          "name": "stdout"
        },
        {
          "output_type": "display_data",
          "data": {
            "image/png": "[encoded data removed]",
            "text/plain": [
              "<Figure size 720x720 with 1 Axes>"
            ]
          },
          "metadata": {
            "tags": []
          }
        },
        {
          "output_type": "stream",
          "text": [
            "[MOVE-W] OK\n",
            "ACTIVE\n",
            "move_down\n"
          ],
          "name": "stdout"
        },
        {
          "output_type": "display_data",
          "data": {
            "image/png": "[encoded data removed]",
            "text/plain": [
              "<Figure size 720x720 with 1 Axes>"
            ]
          },
          "metadata": {
            "tags": []
          }
        },
        {
          "output_type": "stream",
          "text": [
            "[MOVE-S] OK\n",
            "ACTIVE\n",
            "move_left\n"
          ],
          "name": "stdout"
        },
        {
          "output_type": "display_data",
          "data": {
            "image/png": "[encoded data removed]",
            "text/plain": [
              "<Figure size 720x720 with 1 Axes>"
            ]
          },
          "metadata": {
            "tags": []
          }
        },
        {
          "output_type": "stream",
          "text": [
            "[MOVE-W] OK\n",
            "ACTIVE\n",
            "move_right\n"
          ],
          "name": "stdout"
        },
        {
          "output_type": "display_data",
          "data": {
            "image/png": "[encoded data removed]",
            "text/plain": [
              "<Figure size 720x720 with 1 Axes>"
            ]
          },
          "metadata": {
            "tags": []
          }
        },
        {
          "output_type": "stream",
          "text": [
            "[MOVE-E] OK\n",
            "ACTIVE\n",
            "move_left\n"
          ],
          "name": "stdout"
        },
        {
          "output_type": "display_data",
          "data": {
            "image/png": "[encoded data removed]",
            "text/plain": [
              "<Figure size 720x720 with 1 Axes>"
            ]
          },
          "metadata": {
            "tags": []
          }
        },
        {
          "output_type": "stream",
          "text": [
            "[MOVE-W] OK\n",
            "ACTIVE\n",
            "move_right\n"
          ],
          "name": "stdout"
        },
        {
          "output_type": "display_data",
          "data": {
            "image/png": "[encoded data removed]",
            "text/plain": [
              "<Figure size 720x720 with 1 Axes>"
            ]
          },
          "metadata": {
            "tags": []
          }
        },
        {
          "output_type": "stream",
          "text": [
            "[MOVE-E] OK\n",
            "ACTIVE\n",
            "move_right\n"
          ],
          "name": "stdout"
        },
        {
          "output_type": "display_data",
          "data": {
            "image/png": "[encoded data removed]",
            "text/plain": [
              "<Figure size 720x720 with 1 Axes>"
            ]
          },
          "metadata": {
            "tags": []
          }
        },
        {
          "output_type": "stream",
          "text": [
            "[MOVE-E] OK\n",
            "ACTIVE\n",
            "move_right\n"
          ],
          "name": "stdout"
        },
        {
          "output_type": "display_data",
          "data": {
            "image/png": "[encoded data removed]",
            "text/plain": [
              "<Figure size 720x720 with 1 Axes>"
            ]
          },
          "metadata": {
            "tags": []
          }
        },
        {
          "output_type": "stream",
          "text": [
            "[MOVE-E] OK\n",
            "ACTIVE\n",
            "move_right\n"
          ],
          "name": "stdout"
        },
        {
          "output_type": "display_data",
          "data": {
            "image/png": "[encoded data removed]",
            "text/plain": [
              "<Figure size 720x720 with 1 Axes>"
            ]
          },
          "metadata": {
            "tags": []
          }
        },
        {
          "output_type": "stream",
          "text": [
            "[MOVE-E] OK\n",
            "ACTIVE\n",
            "move_down\n"
          ],
          "name": "stdout"
        },
        {
          "output_type": "display_data",
          "data": {
            "image/png": "[encoded data removed]",
            "text/plain": [
              "<Figure size 720x720 with 1 Axes>"
            ]
          },
          "metadata": {
            "tags": []
          }
        },
        {
          "output_type": "stream",
          "text": [
            "[MOVE-S] OK\n",
            "ACTIVE\n",
            "move_right\n"
          ],
          "name": "stdout"
        },
        {
          "output_type": "display_data",
          "data": {
            "image/png": "[encoded data removed]",
            "text/plain": [
              "<Figure size 720x720 with 1 Axes>"
            ]
          },
          "metadata": {
            "tags": []
          }
        },
        {
          "output_type": "stream",
          "text": [
            "[MOVE-E] OK\n",
            "ACTIVE\n",
            "move_right\n"
          ],
          "name": "stdout"
        },
        {
          "output_type": "display_data",
          "data": {
            "image/png": "[encoded data removed]",
            "text/plain": [
              "<Figure size 720x720 with 1 Axes>"
            ]
          },
          "metadata": {
            "tags": []
          }
        },
        {
          "output_type": "stream",
          "text": [
            "[MOVE-E] OK\n",
            "ACTIVE\n",
            "move_down\n"
          ],
          "name": "stdout"
        },
        {
          "output_type": "display_data",
          "data": {
            "image/png": "[encoded data removed]",
            "text/plain": [
              "<Figure size 720x720 with 1 Axes>"
            ]
          },
          "metadata": {
            "tags": []
          }
        },
        {
          "output_type": "stream",
          "text": [
            "[MOVE-S] OK\n",
            "ACTIVE\n",
            "move_left\n"
          ],
          "name": "stdout"
        },
        {
          "output_type": "display_data",
          "data": {
            "image/png": "[encoded data removed]",
            "text/plain": [
              "<Figure size 720x720 with 1 Axes>"
            ]
          },
          "metadata": {
            "tags": []
          }
        },
        {
          "output_type": "stream",
          "text": [
            "[MOVE-W] OK\n",
            "ACTIVE\n",
            "move_up\n"
          ],
          "name": "stdout"
        },
        {
          "output_type": "display_data",
          "data": {
            "image/png": "[encoded data removed]",
            "text/plain": [
              "<Figure size 720x720 with 1 Axes>"
            ]
          },
          "metadata": {
            "tags": []
          }
        },
        {
          "output_type": "stream",
          "text": [
            "[MOVE-N] OK\n",
            "ACTIVE\n",
            "move_down\n"
          ],
          "name": "stdout"
        },
        {
          "output_type": "display_data",
          "data": {
            "image/png": "[encoded data removed]",
            "text/plain": [
              "<Figure size 720x720 with 1 Axes>"
            ]
          },
          "metadata": {
            "tags": []
          }
        },
        {
          "output_type": "stream",
          "text": [
            "[MOVE-S] OK\n",
            "ACTIVE\n",
            "move_right\n"
          ],
          "name": "stdout"
        },
        {
          "output_type": "display_data",
          "data": {
            "image/png": "[encoded data removed]",
            "text/plain": [
              "<Figure size 720x720 with 1 Axes>"
            ]
          },
          "metadata": {
            "tags": []
          }
        },
        {
          "output_type": "stream",
          "text": [
            "[MOVE-E] OK\n",
            "ACTIVE\n",
            "move_right\n"
          ],
          "name": "stdout"
        },
        {
          "output_type": "display_data",
          "data": {
            "image/png": "[encoded data removed]",
            "text/plain": [
              "<Figure size 720x720 with 1 Axes>"
            ]
          },
          "metadata": {
            "tags": []
          }
        },
        {
          "output_type": "stream",
          "text": [
            "[MOVE-E] OK\n",
            "ACTIVE\n",
            "move_right\n"
          ],
          "name": "stdout"
        },
        {
          "output_type": "display_data",
          "data": {
            "image/png": "[encoded data removed]",
            "text/plain": [
              "<Figure size 720x720 with 1 Axes>"
            ]
          },
          "metadata": {
            "tags": []
          }
        },
        {
          "output_type": "stream",
          "text": [
            "[MOVE-E] OK\n",
            "ACTIVE\n",
            "move_right\n"
          ],
          "name": "stdout"
        },
        {
          "output_type": "display_data",
          "data": {
            "image/png": "[encoded data removed]",
            "text/plain": [
              "<Figure size 720x720 with 1 Axes>"
            ]
          },
          "metadata": {
            "tags": []
          }
        },
        {
          "output_type": "stream",
          "text": [
            "[MOVE-E] OK\n",
            "ACTIVE\n",
            "move_left\n"
          ],
          "name": "stdout"
        },
        {
          "output_type": "display_data",
          "data": {
            "image/png": "[encoded data removed]",
            "text/plain": [
              "<Figure size 720x720 with 1 Axes>"
            ]
          },
          "metadata": {
            "tags": []
          }
        },
        {
          "output_type": "stream",
          "text": [
            "[MOVE-W] OK\n",
            "ACTIVE\n",
            "move_right\n"
          ],
          "name": "stdout"
        },
        {
          "output_type": "display_data",
          "data": {
            "image/png": "[encoded data removed]",
            "text/plain": [
              "<Figure size 720x720 with 1 Axes>"
            ]
          },
          "metadata": {
            "tags": []
          }
        },
        {
          "output_type": "stream",
          "text": [
            "[MOVE-E] OK\n",
            "ACTIVE\n",
            "move_left\n"
          ],
          "name": "stdout"
        },
        {
          "output_type": "display_data",
          "data": {
            "image/png": "[encoded data removed]",
            "text/plain": [
              "<Figure size 720x720 with 1 Axes>"
            ]
          },
          "metadata": {
            "tags": []
          }
        },
        {
          "output_type": "stream",
          "text": [
            "[MOVE-W] OK\n",
            "ACTIVE\n",
            "move_right\n"
          ],
          "name": "stdout"
        },
        {
          "output_type": "display_data",
          "data": {
            "image/png": "[encoded data removed]",
            "text/plain": [
              "<Figure size 720x720 with 1 Axes>"
            ]
          },
          "metadata": {
            "tags": []
          }
        },
        {
          "output_type": "stream",
          "text": [
            "[MOVE-E] OK\n",
            "ACTIVE\n",
            "move_right\n"
          ],
          "name": "stdout"
        },
        {
          "output_type": "display_data",
          "data": {
            "image/png": "[encoded data removed]",
            "text/plain": [
              "<Figure size 720x720 with 1 Axes>"
            ]
          },
          "metadata": {
            "tags": []
          }
        },
        {
          "output_type": "stream",
          "text": [
            "[MOVE-E] OK\n",
            "ACTIVE\n",
            "move_right\n"
          ],
          "name": "stdout"
        },
        {
          "output_type": "display_data",
          "data": {
            "image/png": "[encoded data removed]",
            "text/plain": [
              "<Figure size 720x720 with 1 Axes>"
            ]
          },
          "metadata": {
            "tags": []
          }
        },
        {
          "output_type": "stream",
          "text": [
            "[MOVE-E] OK\n",
            "ACTIVE\n",
            "move_left\n"
          ],
          "name": "stdout"
        },
        {
          "output_type": "display_data",
          "data": {
            "image/png": "[encoded data removed]",
            "text/plain": [
              "<Figure size 720x720 with 1 Axes>"
            ]
          },
          "metadata": {
            "tags": []
          }
        },
        {
          "output_type": "stream",
          "text": [
            "[MOVE-W] OK\n",
            "ACTIVE\n",
            "move_right\n"
          ],
          "name": "stdout"
        },
        {
          "output_type": "display_data",
          "data": {
            "image/png": "[encoded data removed]",
            "text/plain": [
              "<Figure size 720x720 with 1 Axes>"
            ]
          },
          "metadata": {
            "tags": []
          }
        },
        {
          "output_type": "stream",
          "text": [
            "[MOVE-E] OK\n",
            "ACTIVE\n",
            "move_left\n"
          ],
          "name": "stdout"
        },
        {
          "output_type": "display_data",
          "data": {
            "image/png": "[encoded data removed]",
            "text/plain": [
              "<Figure size 720x720 with 1 Axes>"
            ]
          },
          "metadata": {
            "tags": []
          }
        },
        {
          "output_type": "stream",
          "text": [
            "[MOVE-W] OK\n",
            "ACTIVE\n",
            "move_right\n"
          ],
          "name": "stdout"
        },
        {
          "output_type": "display_data",
          "data": {
            "image/png": "[encoded data removed]",
            "text/plain": [
              "<Figure size 720x720 with 1 Axes>"
            ]
          },
          "metadata": {
            "tags": []
          }
        },
        {
          "output_type": "stream",
          "text": [
            "[MOVE-E] OK\n",
            "ACTIVE\n",
            "move_right\n"
          ],
          "name": "stdout"
        },
        {
          "output_type": "display_data",
          "data": {
            "image/png": "[encoded data removed]",
            "text/plain": [
              "<Figure size 720x720 with 1 Axes>"
            ]
          },
          "metadata": {
            "tags": []
          }
        },
        {
          "output_type": "stream",
          "text": [
            "[MOVE-E] OK\n",
            "ACTIVE\n",
            "move_right\n"
          ],
          "name": "stdout"
        },
        {
          "output_type": "display_data",
          "data": {
            "image/png": "[encoded data removed]",
            "text/plain": [
              "<Figure size 720x720 with 1 Axes>"
            ]
          },
          "metadata": {
            "tags": []
          }
        },
        {
          "output_type": "stream",
          "text": [
            "[MOVE-E] OK\n",
            "ACTIVE\n",
            "move_left\n"
          ],
          "name": "stdout"
        },
        {
          "output_type": "display_data",
          "data": {
            "image/png": "[encoded data removed]",
            "text/plain": [
              "<Figure size 720x720 with 1 Axes>"
            ]
          },
          "metadata": {
            "tags": []
          }
        },
        {
          "output_type": "stream",
          "text": [
            "[MOVE-W] OK\n",
            "ACTIVE\n",
            "move_up\n"
          ],
          "name": "stdout"
        },
        {
          "output_type": "display_data",
          "data": {
            "image/png": "[encoded data removed]",
            "text/plain": [
              "<Figure size 720x720 with 1 Axes>"
            ]
          },
          "metadata": {
            "tags": []
          }
        },
        {
          "output_type": "stream",
          "text": [
            "[MOVE-N] OK\n",
            "ACTIVE\n",
            "move_right\n"
          ],
          "name": "stdout"
        },
        {
          "output_type": "display_data",
          "data": {
            "image/png": "[encoded data removed]",
            "text/plain": [
              "<Figure size 720x720 with 1 Axes>"
            ]
          },
          "metadata": {
            "tags": []
          }
        },
        {
          "output_type": "stream",
          "text": [
            "[MOVE-E] OK\n",
            "ACTIVE\n",
            "move_right\n"
          ],
          "name": "stdout"
        },
        {
          "output_type": "display_data",
          "data": {
            "image/png": "[encoded data removed]",
            "text/plain": [
              "<Figure size 720x720 with 1 Axes>"
            ]
          },
          "metadata": {
            "tags": []
          }
        },
        {
          "output_type": "stream",
          "text": [
            "[MOVE-E] OK\n",
            "ACTIVE\n",
            "move_left\n"
          ],
          "name": "stdout"
        },
        {
          "output_type": "display_data",
          "data": {
            "image/png": "[encoded data removed]",
            "text/plain": [
              "<Figure size 720x720 with 1 Axes>"
            ]
          },
          "metadata": {
            "tags": []
          }
        },
        {
          "output_type": "stream",
          "text": [
            "[MOVE-W] OK\n",
            "ACTIVE\n",
            "move_right\n"
          ],
          "name": "stdout"
        },
        {
          "output_type": "display_data",
          "data": {
            "image/png": "[encoded data removed]",
            "text/plain": [
              "<Figure size 720x720 with 1 Axes>"
            ]
          },
          "metadata": {
            "tags": []
          }
        },
        {
          "output_type": "stream",
          "text": [
            "[MOVE-E] OK\n",
            "ACTIVE\n",
            "move_down\n"
          ],
          "name": "stdout"
        },
        {
          "output_type": "display_data",
          "data": {
            "image/png": "[encoded data removed]",
            "text/plain": [
              "<Figure size 720x720 with 1 Axes>"
            ]
          },
          "metadata": {
            "tags": []
          }
        },
        {
          "output_type": "stream",
          "text": [
            "[MOVE-S] OK\n",
            "ACTIVE\n",
            "move_right\n"
          ],
          "name": "stdout"
        },
        {
          "output_type": "display_data",
          "data": {
            "image/png": "[encoded data removed]",
            "text/plain": [
              "<Figure size 720x720 with 1 Axes>"
            ]
          },
          "metadata": {
            "tags": []
          }
        },
        {
          "output_type": "stream",
          "text": [
            "[MOVE-E] OK\n",
            "ACTIVE\n",
            "move_right\n"
          ],
          "name": "stdout"
        },
        {
          "output_type": "display_data",
          "data": {
            "image/png": "[encoded data removed]",
            "text/plain": [
              "<Figure size 720x720 with 1 Axes>"
            ]
          },
          "metadata": {
            "tags": []
          }
        },
        {
          "output_type": "stream",
          "text": [
            "[MOVE-E] OK\n",
            "ACTIVE\n",
            "move_right\n"
          ],
          "name": "stdout"
        },
        {
          "output_type": "display_data",
          "data": {
            "image/png": "[encoded data removed]",
            "text/plain": [
              "<Figure size 720x720 with 1 Axes>"
            ]
          },
          "metadata": {
            "tags": []
          }
        },
        {
          "output_type": "stream",
          "text": [
            "[MOVE-E] OK\n",
            "ACTIVE\n",
            "move_right\n"
          ],
          "name": "stdout"
        },
        {
          "output_type": "display_data",
          "data": {
            "image/png": "[encoded data removed]",
            "text/plain": [
              "<Figure size 720x720 with 1 Axes>"
            ]
          },
          "metadata": {
            "tags": []
          }
        },
        {
          "output_type": "stream",
          "text": [
            "[MOVE-E] OK\n",
            "ACTIVE\n",
            "move_right\n"
          ],
          "name": "stdout"
        },
        {
          "output_type": "display_data",
          "data": {
            "image/png": "[encoded data removed]",
            "text/plain": [
              "<Figure size 720x720 with 1 Axes>"
            ]
          },
          "metadata": {
            "tags": []
          }
        },
        {
          "output_type": "stream",
          "text": [
            "[MOVE-E] OK\n",
            "ACTIVE\n",
            "move_down\n"
          ],
          "name": "stdout"
        },
        {
          "output_type": "display_data",
          "data": {
            "image/png": "[encoded data removed]",
            "text/plain": [
              "<Figure size 720x720 with 1 Axes>"
            ]
          },
          "metadata": {
            "tags": []
          }
        },
        {
          "output_type": "stream",
          "text": [
            "[MOVE-S] OK\n",
            "ACTIVE\n",
            "move_right\n"
          ],
          "name": "stdout"
        },
        {
          "output_type": "display_data",
          "data": {
            "image/png": "[encoded data removed]",
            "text/plain": [
              "<Figure size 720x720 with 1 Axes>"
            ]
          },
          "metadata": {
            "tags": []
          }
        },
        {
          "output_type": "stream",
          "text": [
            "[MOVE-E] OK\n",
            "ACTIVE\n",
            "move_left\n"
          ],
          "name": "stdout"
        },
        {
          "output_type": "display_data",
          "data": {
            "image/png": "[encoded data removed]",
            "text/plain": [
              "<Figure size 720x720 with 1 Axes>"
            ]
          },
          "metadata": {
            "tags": []
          }
        },
        {
          "output_type": "stream",
          "text": [
            "[MOVE-W] OK\n",
            "ACTIVE\n",
            "move_right\n"
          ],
          "name": "stdout"
        },
        {
          "output_type": "display_data",
          "data": {
            "image/png": "[encoded data removed]",
            "text/plain": [
              "<Figure size 720x720 with 1 Axes>"
            ]
          },
          "metadata": {
            "tags": []
          }
        },
        {
          "output_type": "stream",
          "text": [
            "[MOVE-E] OK\n",
            "ACTIVE\n",
            "move_up\n"
          ],
          "name": "stdout"
        },
        {
          "output_type": "display_data",
          "data": {
            "image/png": "[encoded data removed]",
            "text/plain": [
              "<Figure size 720x720 with 1 Axes>"
            ]
          },
          "metadata": {
            "tags": []
          }
        },
        {
          "output_type": "stream",
          "text": [
            "[MOVE-N] OK\n",
            "ACTIVE\n",
            "move_right\n"
          ],
          "name": "stdout"
        },
        {
          "output_type": "display_data",
          "data": {
            "image/png": "[encoded data removed]",
            "text/plain": [
              "<Figure size 720x720 with 1 Axes>"
            ]
          },
          "metadata": {
            "tags": []
          }
        },
        {
          "output_type": "stream",
          "text": [
            "[MOVE-E] OK\n",
            "ACTIVE\n",
            "move_right\n"
          ],
          "name": "stdout"
        },
        {
          "output_type": "display_data",
          "data": {
            "image/png": "[encoded data removed]",
            "text/plain": [
              "<Figure size 720x720 with 1 Axes>"
            ]
          },
          "metadata": {
            "tags": []
          }
        },
        {
          "output_type": "stream",
          "text": [
            "[MOVE-E] OK\n",
            "ACTIVE\n",
            "move_right\n"
          ],
          "name": "stdout"
        },
        {
          "output_type": "display_data",
          "data": {
            "image/png": "[encoded data removed]",
            "text/plain": [
              "<Figure size 720x720 with 1 Axes>"
            ]
          },
          "metadata": {
            "tags": []
          }
        },
        {
          "output_type": "stream",
          "text": [
            "[MOVE-E] OK\n",
            "ACTIVE\n",
            "move_right\n"
          ],
          "name": "stdout"
        },
        {
          "output_type": "display_data",
          "data": {
            "image/png": "[encoded data removed]",
            "text/plain": [
              "<Figure size 720x720 with 1 Axes>"
            ]
          },
          "metadata": {
            "tags": []
          }
        },
        {
          "output_type": "stream",
          "text": [
            "[MOVE-E] OK\n",
            "ACTIVE\n",
            "move_down\n"
          ],
          "name": "stdout"
        },
        {
          "output_type": "display_data",
          "data": {
            "image/png": "[encoded data removed]",
            "text/plain": [
              "<Figure size 720x720 with 1 Axes>"
            ]
          },
          "metadata": {
            "tags": []
          }
        },
        {
          "output_type": "stream",
          "text": [
            "[MOVE-S] OK\n",
            "ACTIVE\n",
            "move_up\n"
          ],
          "name": "stdout"
        },
        {
          "output_type": "display_data",
          "data": {
            "image/png": "[encoded data removed]",
            "text/plain": [
              "<Figure size 720x720 with 1 Axes>"
            ]
          },
          "metadata": {
            "tags": []
          }
        },
        {
          "output_type": "stream",
          "text": [
            "[MOVE-N] OK\n",
            "ACTIVE\n",
            "move_right\n"
          ],
          "name": "stdout"
        },
        {
          "output_type": "display_data",
          "data": {
            "image/png": "[encoded data removed]",
            "text/plain": [
              "<Figure size 720x720 with 1 Axes>"
            ]
          },
          "metadata": {
            "tags": []
          }
        },
        {
          "output_type": "stream",
          "text": [
            "[MOVE-E] OK\n",
            "ACTIVE\n",
            "move_left\n"
          ],
          "name": "stdout"
        },
        {
          "output_type": "display_data",
          "data": {
            "image/png": "[encoded data removed]",
            "text/plain": [
              "<Figure size 720x720 with 1 Axes>"
            ]
          },
          "metadata": {
            "tags": []
          }
        },
        {
          "output_type": "stream",
          "text": [
            "[MOVE-W] OK\n",
            "ACTIVE\n",
            "move_left\n"
          ],
          "name": "stdout"
        },
        {
          "output_type": "display_data",
          "data": {
            "image/png": "[encoded data removed]",
            "text/plain": [
              "<Figure size 720x720 with 1 Axes>"
            ]
          },
          "metadata": {
            "tags": []
          }
        },
        {
          "output_type": "stream",
          "text": [
            "[MOVE-W] OK\n",
            "ACTIVE\n",
            "move_right\n"
          ],
          "name": "stdout"
        },
        {
          "output_type": "display_data",
          "data": {
            "image/png": "[encoded data removed]",
            "text/plain": [
              "<Figure size 720x720 with 1 Axes>"
            ]
          },
          "metadata": {
            "tags": []
          }
        },
        {
          "output_type": "stream",
          "text": [
            "[MOVE-E] OK\n",
            "ACTIVE\n",
            "move_left\n"
          ],
          "name": "stdout"
        },
        {
          "output_type": "display_data",
          "data": {
            "image/png": "[encoded data removed]",
            "text/plain": [
              "<Figure size 720x720 with 1 Axes>"
            ]
          },
          "metadata": {
            "tags": []
          }
        },
        {
          "output_type": "stream",
          "text": [
            "[MOVE-W] OK\n",
            "ACTIVE\n",
            "move_right\n"
          ],
          "name": "stdout"
        },
        {
          "output_type": "display_data",
          "data": {
            "image/png": "[encoded data removed]",
            "text/plain": [
              "<Figure size 720x720 with 1 Axes>"
            ]
          },
          "metadata": {
            "tags": []
          }
        },
        {
          "output_type": "stream",
          "text": [
            "[MOVE-E] OK\n",
            "ACTIVE\n",
            "move_left\n"
          ],
          "name": "stdout"
        },
        {
          "output_type": "display_data",
          "data": {
            "image/png": "[encoded data removed]",
            "text/plain": [
              "<Figure size 720x720 with 1 Axes>"
            ]
          },
          "metadata": {
            "tags": []
          }
        },
        {
          "output_type": "stream",
          "text": [
            "[MOVE-W] OK\n",
            "ACTIVE\n",
            "move_up\n"
          ],
          "name": "stdout"
        },
        {
          "output_type": "display_data",
          "data": {
            "image/png": "[encoded data removed]",
            "text/plain": [
              "<Figure size 720x720 with 1 Axes>"
            ]
          },
          "metadata": {
            "tags": []
          }
        },
        {
          "output_type": "stream",
          "text": [
            "[MOVE-N] OK\n",
            "ACTIVE\n",
            "move_left\n"
          ],
          "name": "stdout"
        },
        {
          "output_type": "display_data",
          "data": {
            "image/png": "[encoded data removed]",
            "text/plain": [
              "<Figure size 720x720 with 1 Axes>"
            ]
          },
          "metadata": {
            "tags": []
          }
        },
        {
          "output_type": "stream",
          "text": [
            "[MOVE-W] OK\n",
            "ACTIVE\n",
            "move_right\n"
          ],
          "name": "stdout"
        },
        {
          "output_type": "display_data",
          "data": {
            "image/png": "[encoded data removed]",
            "text/plain": [
              "<Figure size 720x720 with 1 Axes>"
            ]
          },
          "metadata": {
            "tags": []
          }
        },
        {
          "output_type": "stream",
          "text": [
            "[MOVE-E] OK\n",
            "ACTIVE\n",
            "move_left\n"
          ],
          "name": "stdout"
        },
        {
          "output_type": "display_data",
          "data": {
            "image/png": "[encoded data removed]",
            "text/plain": [
              "<Figure size 720x720 with 1 Axes>"
            ]
          },
          "metadata": {
            "tags": []
          }
        },
        {
          "output_type": "stream",
          "text": [
            "[MOVE-W] OK\n",
            "ACTIVE\n",
            "move_left\n"
          ],
          "name": "stdout"
        },
        {
          "output_type": "display_data",
          "data": {
            "image/png": "[encoded data removed]",
            "text/plain": [
              "<Figure size 720x720 with 1 Axes>"
            ]
          },
          "metadata": {
            "tags": []
          }
        },
        {
          "output_type": "stream",
          "text": [
            "[MOVE-W] OK\n",
            "ACTIVE\n",
            "move_up\n"
          ],
          "name": "stdout"
        },
        {
          "output_type": "display_data",
          "data": {
            "image/png": "[encoded data removed]",
            "text/plain": [
              "<Figure size 720x720 with 1 Axes>"
            ]
          },
          "metadata": {
            "tags": []
          }
        },
        {
          "output_type": "stream",
          "text": [
            "[MOVE-N] OK\n",
            "ACTIVE\n",
            "move_left\n"
          ],
          "name": "stdout"
        },
        {
          "output_type": "display_data",
          "data": {
            "image/png": "[encoded data removed]",
            "text/plain": [
              "<Figure size 720x720 with 1 Axes>"
            ]
          },
          "metadata": {
            "tags": []
          }
        },
        {
          "output_type": "stream",
          "text": [
            "[MOVE-W] OK\n",
            "ACTIVE\n",
            "move_left\n"
          ],
          "name": "stdout"
        },
        {
          "output_type": "display_data",
          "data": {
            "image/png": "[encoded data removed]",
            "text/plain": [
              "<Figure size 720x720 with 1 Axes>"
            ]
          },
          "metadata": {
            "tags": []
          }
        },
        {
          "output_type": "stream",
          "text": [
            "[MOVE-W] OK\n",
            "ACTIVE\n",
            "move_right\n"
          ],
          "name": "stdout"
        },
        {
          "output_type": "display_data",
          "data": {
            "image/png": "[encoded data removed]",
            "text/plain": [
              "<Figure size 720x720 with 1 Axes>"
            ]
          },
          "metadata": {
            "tags": []
          }
        },
        {
          "output_type": "stream",
          "text": [
            "[MOVE-E] OK\n",
            "ACTIVE\n",
            "move_right\n"
          ],
          "name": "stdout"
        },
        {
          "output_type": "display_data",
          "data": {
            "image/png": "[encoded data removed]",
            "text/plain": [
              "<Figure size 720x720 with 1 Axes>"
            ]
          },
          "metadata": {
            "tags": []
          }
        },
        {
          "output_type": "stream",
          "text": [
            "[MOVE-E] OK\n",
            "ACTIVE\n",
            "move_down\n"
          ],
          "name": "stdout"
        },
        {
          "output_type": "display_data",
          "data": {
            "image/png": "[encoded data removed]",
            "text/plain": [
              "<Figure size 720x720 with 1 Axes>"
            ]
          },
          "metadata": {
            "tags": []
          }
        },
        {
          "output_type": "stream",
          "text": [
            "[MOVE-S] OK\n",
            "ACTIVE\n",
            "move_right\n"
          ],
          "name": "stdout"
        },
        {
          "output_type": "display_data",
          "data": {
            "image/png": "[encoded data removed]",
            "text/plain": [
              "<Figure size 720x720 with 1 Axes>"
            ]
          },
          "metadata": {
            "tags": []
          }
        },
        {
          "output_type": "stream",
          "text": [
            "[MOVE-E] OK\n",
            "ACTIVE\n",
            "move_right\n"
          ],
          "name": "stdout"
        },
        {
          "output_type": "display_data",
          "data": {
            "image/png": "[encoded data removed]",
            "text/plain": [
              "<Figure size 720x720 with 1 Axes>"
            ]
          },
          "metadata": {
            "tags": []
          }
        },
        {
          "output_type": "error",
          "ename": "KeyboardInterrupt",
          "evalue": "ignored",
          "traceback": [
            "\u001b[0;31m---------------------------------------------------------------------------\u001b[0m",
            "\u001b[0;31mKeyboardInterrupt\u001b[0m                         Traceback (most recent call last)",
            "\u001b[0;32m<ipython-input-31-bbf1bb24cad2>\u001b[0m in \u001b[0;36m<module>\u001b[0;34m()\u001b[0m\n\u001b[1;32m     91\u001b[0m \u001b[0;34m\u001b[0m\u001b[0m\n\u001b[1;32m     92\u001b[0m   \u001b[0;32melif\u001b[0m \u001b[0maction\u001b[0m \u001b[0;34m==\u001b[0m \u001b[0;34m'move_right'\u001b[0m\u001b[0;34m:\u001b[0m\u001b[0;34m\u001b[0m\u001b[0;34m\u001b[0m\u001b[0m\n\u001b[0;32m---> 93\u001b[0;31m     \u001b[0mres\u001b[0m \u001b[0;34m=\u001b[0m \u001b[0mblaid_ch\u001b[0m\u001b[0;34m.\u001b[0m\u001b[0mmove\u001b[0m\u001b[0;34m(\u001b[0m\u001b[0;34m\"E\"\u001b[0m\u001b[0;34m)\u001b[0m\u001b[0;34m\u001b[0m\u001b[0;34m\u001b[0m\u001b[0m\n\u001b[0m\u001b[1;32m     94\u001b[0m \u001b[0;34m\u001b[0m\u001b[0m\n\u001b[1;32m     95\u001b[0m   \u001b[0;32melif\u001b[0m \u001b[0maction\u001b[0m \u001b[0;34m==\u001b[0m \u001b[0;34m'shoot_up'\u001b[0m\u001b[0;34m:\u001b[0m\u001b[0;34m\u001b[0m\u001b[0;34m\u001b[0m\u001b[0m\n",
            "\u001b[0;32m<ipython-input-9-d3c271a7a41e>\u001b[0m in \u001b[0;36mmove\u001b[0;34m(self, direction)\u001b[0m\n\u001b[1;32m    144\u001b[0m     \u001b[0;32mif\u001b[0m \u001b[0;34m(\u001b[0m\u001b[0msleepingTime\u001b[0m\u001b[0;34m<\u001b[0m\u001b[0;36m0\u001b[0m\u001b[0;34m)\u001b[0m\u001b[0;34m:\u001b[0m\u001b[0;34m\u001b[0m\u001b[0;34m\u001b[0m\u001b[0m\n\u001b[1;32m    145\u001b[0m       \u001b[0msleepingTime\u001b[0m\u001b[0;34m=\u001b[0m\u001b[0;36m0\u001b[0m\u001b[0;34m\u001b[0m\u001b[0;34m\u001b[0m\u001b[0m\n\u001b[0;32m--> 146\u001b[0;31m     \u001b[0mtime\u001b[0m\u001b[0;34m.\u001b[0m\u001b[0msleep\u001b[0m\u001b[0;34m(\u001b[0m\u001b[0msleepingTime\u001b[0m\u001b[0;34m)\u001b[0m\u001b[0;34m\u001b[0m\u001b[0;34m\u001b[0m\u001b[0m\n\u001b[0m\u001b[1;32m    147\u001b[0m \u001b[0;34m\u001b[0m\u001b[0m\n\u001b[1;32m    148\u001b[0m     \u001b[0;31m# Moving\u001b[0m\u001b[0;34m\u001b[0m\u001b[0;34m\u001b[0m\u001b[0;34m\u001b[0m\u001b[0m\n",
            "\u001b[0;31mKeyboardInterrupt\u001b[0m: "
          ]
        }
      ]
    },
    {
      "cell_type": "code",
      "metadata": {
        "id": "a3khPXhDd0Wy"
      },
      "source": [
        "# Using the trained agent\n",
        "obs = env.reset()\n",
        "while True:\n",
        "  action, _states = model.predict(obs)\n",
        "  obs, rewards, dones, info = env.step(action)\n",
        "  env.render()"
      ],
      "execution_count": null,
      "outputs": []
    },
    {
      "cell_type": "code",
      "metadata": {
        "id": "X07FAcyR8Ir1"
      },
      "source": [
        "def judgePlayers(judged_players, players, ch):\n",
        "  for player in players.values():\n",
        "    if(player not in judged_players):\n",
        "      ch.judge(player.name, 'AI')\n",
        "      judged_players.append(player)"
      ],
      "execution_count": null,
      "outputs": []
    },
    {
      "cell_type": "markdown",
      "metadata": {
        "id": "mj1FUjwpYnOO"
      },
      "source": [
        "## Testing "
      ]
    },
    {
      "cell_type": "code",
      "metadata": {
        "colab": {
          "base_uri": "https://localhost:8080/"
        },
        "id": "wp3C4foeBN5e",
        "outputId": "e416503d-5250-43ff-c6c9-554eba33fd12"
      },
      "source": [
        "# Establish Connection\n",
        "ch = CommunicationHandler('margot.di.unipi.it', 8421)\n",
        "print(ch.host)\n",
        "\n",
        "# Create and Join the Game\n",
        "gameName = 'test-' + ''.join(random.choices(string.ascii_uppercase + string.digits, k=10))\n",
        "playerName = 'cisternino'\n",
        "print('GameName:' + gameName)\n",
        "crea = ch.createGame(gameName, params=\"Q1\")\n",
        "print(crea)\n",
        "\n",
        "join = ch.joinGame(gameName, playerName)\n",
        "print(join)"
      ],
      "execution_count": null,
      "outputs": [
        {
          "output_type": "stream",
          "text": [
            "Connected!\n",
            "margot.di.unipi.it\n",
            "GameName:test-9RT7YYICW3\n",
            "[CREATE] OK\n",
            "['OK', 'Created\\n']\n",
            "[JOIN] OK\n",
            "['OK', 'team=0', 'loyalty=0\\n']\n"
          ],
          "name": "stdout"
        }
      ]
    },
    {
      "cell_type": "code",
      "metadata": {
        "colab": {
          "base_uri": "https://localhost:8080/"
        },
        "id": "nUA0btDQaxaz",
        "outputId": "d3813a48-d989-4567-dbfa-41657b8d7aa2"
      },
      "source": [
        "# creo altri 4 giocatori\n",
        "for i in range(15):\n",
        "  chn = CommunicationHandler('margot.di.unipi.it', 8421)\n",
        "  randomName = ''.join(random.choices(string.ascii_uppercase + string.digits, k=4))\n",
        "  joinn = chn.joinGame(gameName, randomName)\n",
        "print(\"Players created\")"
      ],
      "execution_count": null,
      "outputs": [
        {
          "output_type": "stream",
          "text": [
            "Connected!\n",
            "[JOIN] OK\n",
            "Connected!\n",
            "[JOIN] OK\n",
            "Connected!\n",
            "[JOIN] OK\n",
            "Connected!\n",
            "[JOIN] OK\n",
            "Connected!\n",
            "[JOIN] OK\n",
            "Connected!\n",
            "[JOIN] OK\n",
            "Connected!\n",
            "[JOIN] OK\n",
            "Connected!\n",
            "[JOIN] OK\n",
            "Connected!\n",
            "[JOIN] OK\n",
            "Connected!\n",
            "[JOIN] OK\n",
            "Connected!\n",
            "[JOIN] OK\n",
            "Connected!\n",
            "[JOIN] OK\n",
            "Connected!\n",
            "[JOIN] OK\n",
            "Connected!\n",
            "[JOIN] OK\n",
            "Connected!\n",
            "[JOIN] OK\n",
            "Players created\n"
          ],
          "name": "stdout"
        }
      ]
    },
    {
      "cell_type": "code",
      "metadata": {
        "colab": {
          "base_uri": "https://localhost:8080/"
        },
        "id": "ovAuWa1JZfF2",
        "outputId": "a0b26a82-45de-439d-9ad2-4871a19caf98"
      },
      "source": [
        "# Get Status and Map\n",
        "status = ch.getStatus()\n",
        "print(status)\n",
        "print(gameState(status))\n",
        "myPlayer = extractMyInfo(status)\n",
        "players = extractPlayerInfo(status)"
      ],
      "execution_count": null,
      "outputs": [
        {
          "output_type": "stream",
          "text": [
            "GA: name=test-9RT7YYICW3 state=LOBBY size=32 ratio=Q\n",
            "ME: symbol=A name=cisternino team=0 loyalty=0 energy=256 score=0\n",
            "PL: symbol=A name=cisternino team=0 x=2 y=3 state=LOBBYOWNER\n",
            "PL: symbol=B name=ZO1N team=0 x=5 y=26 state=LOBBYGUEST\n",
            "PL: symbol=C name=EKQ0 team=0 x=6 y=25 state=LOBBYGUEST\n",
            "PL: symbol=D name=EUIR team=0 x=7 y=23 state=LOBBYGUEST\n",
            "PL: symbol=E name=7J5W team=0 x=1 y=5 state=LOBBYGUEST\n",
            "PL: symbol=F name=HD0T team=0 x=4 y=22 state=LOBBYGUEST\n",
            "PL: symbol=G name=2PBA team=0 x=7 y=29 state=LOBBYGUEST\n",
            "PL: symbol=H name=KGEQ team=0 x=4 y=26 state=LOBBYGUEST\n",
            "PL: symbol=a name=1AUU team=1 x=29 y=18 state=LOBBYGUEST\n",
            "PL: symbol=b name=ARJK team=1 x=30 y=5 state=LOBBYGUEST\n",
            "PL: symbol=c name=VQUI team=1 x=29 y=13 state=LOBBYGUEST\n",
            "PL: symbol=d name=D0KG team=1 x=30 y=12 state=LOBBYGUEST\n",
            "PL: symbol=e name=LO8K team=1 x=25 y=24 state=LOBBYGUEST\n",
            "PL: symbol=f name=Y0HW team=1 x=27 y=16 state=LOBBYGUEST\n",
            "PL: symbol=g name=HD0M team=1 x=27 y=6 state=LOBBYGUEST\n",
            "PL: symbol=h name=4ZDQ team=1 x=28 y=28 state=LOBBYGUEST\n",
            "\n",
            "LOBBY\n"
          ],
          "name": "stdout"
        }
      ]
    },
    {
      "cell_type": "code",
      "metadata": {
        "colab": {
          "base_uri": "https://localhost:8080/"
        },
        "id": "Qe1WdKhAhZCA",
        "outputId": "c120de35-cc45-4596-897f-93babd5b5a8e"
      },
      "source": [
        "map = ch.getMap()\n",
        "printMatrix(map)"
      ],
      "execution_count": null,
      "outputs": [
        {
          "output_type": "stream",
          "text": [
            "['.', '.', '.', '.', '.', '#', '#', '#', '#', '#', '.', '.', '#', '.', '.', '.', '.', '.', '.', '.', '.', '.', '.', '.', '.', '.', '.', '.', '.', '.', '.', '.']\n",
            "['.', '.', '.', '.', '.', '.', '#', '#', '#', '#', '.', '.', '.', '.', '.', '.', '.', '.', '.', '.', '.', '.', '.', '.', '.', '.', '.', '.', '.', '.', '.', '.']\n",
            "['.', '.', '.', '.', '.', '#', '#', '#', '#', '.', '#', '#', '.', '.', '.', '.', '.', '.', '.', '.', '.', '.', '.', '.', '.', '.', '.', '.', '&', '&', '.', '.']\n",
            "['.', '.', 'A', '.', '#', '.', '.', '#', '.', '.', '.', '.', '.', '.', '.', '.', '.', '.', '.', '.', '.', '.', '.', '.', '.', '.', '.', '.', '.', '.', '.', '.']\n",
            "['.', '.', '.', '.', '#', '#', '.', '.', '.', '.', '.', '.', '.', '.', '.', '.', '&', '&', '.', '.', '.', '.', '.', '.', '.', '.', '.', '.', '.', '.', '.', '.']\n",
            "['.', 'E', '.', '.', '#', '.', '.', '.', '.', '.', '.', '.', '.', '.', '.', '.', '&', '&', '.', '.', '.', '$', '.', '.', '.', '.', '.', '.', '.', '.', 'b', '.']\n",
            "['#', '.', '.', '.', '.', '#', '.', '.', '.', '.', '.', '.', '.', '.', '.', '.', '.', '.', '.', '.', '.', '$', '.', '.', '.', '.', '.', 'g', '.', '.', '.', '.']\n",
            "['.', '.', '.', '.', '.', '.', '.', '.', '.', '.', '.', '.', '.', '.', '.', '.', '.', '.', '.', '.', '.', '.', '.', '.', '.', '.', '.', '.', '.', '.', '.', '.']\n",
            "['.', '.', '.', '.', '#', '#', '.', '.', 'X', '.', '.', '.', '&', '.', '.', '.', '.', '.', '.', '.', '.', '.', '.', '.', '.', '.', '.', '.', '.', '.', '.', '.']\n",
            "['#', '.', '#', '#', '.', '.', '.', '.', '.', '.', '.', '&', '&', '.', '.', '.', '.', '.', '.', '.', '.', '.', '.', '.', '.', '.', '.', '.', '.', '.', '.', '.']\n",
            "['#', '#', '.', '.', '.', '.', '.', '.', '.', '.', '.', '.', '.', '.', '.', '.', '.', '.', '.', '.', '.', '.', '.', '.', '.', '.', '.', '.', '.', '.', '.', '.']\n",
            "['#', '.', '.', '.', '.', '.', '.', '.', '.', '.', '.', '.', '.', '.', '.', '.', '.', '.', '.', '&', '.', '.', '.', '.', '.', '.', '.', '.', '.', '.', '.', '.']\n",
            "['.', '#', '.', '.', '.', '.', '.', '.', '.', '.', '.', '.', '.', '.', '.', '.', '.', '.', '.', '.', '.', '.', '.', '.', '.', '.', '.', '.', '.', '.', 'd', '.']\n",
            "['#', '.', '#', '#', '#', '.', '.', '.', '.', '.', '.', '.', '#', '#', '.', '.', '.', '.', '.', '.', '.', '.', '.', '.', '.', '.', '.', '.', '.', 'c', '.', '.']\n",
            "['.', '.', '.', '.', '.', '.', '&', '&', '.', '.', '.', '.', '#', '#', '.', '.', '.', '.', '.', '.', '.', '.', '.', '.', '.', '.', '.', '.', '.', '.', '.', '.']\n",
            "['.', '.', '.', '#', '#', '#', '.', '.', '.', '.', '.', '.', '.', '.', '.', '&', '.', '.', '.', '.', '.', '.', '.', '.', '.', '.', '.', '.', '.', '.', '.', '.']\n",
            "['.', '.', '.', '.', '.', '.', '.', '.', '#', '#', '.', '.', '.', '.', '.', '.', '.', '.', '.', '.', '.', '.', '.', '.', '.', '.', '.', 'f', '.', '.', '.', '.']\n",
            "['.', '.', '.', '.', '#', '#', '.', '.', '#', '.', '.', '.', '.', '.', '.', '.', '.', '.', '.', '.', '.', '.', '.', '.', '.', '.', '.', '.', '.', '.', '.', '.']\n",
            "['.', '.', '.', '.', '.', '#', '.', '#', '#', '#', '.', '.', '.', '.', '.', '.', '.', '.', '.', '.', '.', '.', '.', '.', '.', '.', '.', '.', '.', 'a', '.', '.']\n",
            "['.', '.', '.', '.', '.', '.', '.', '.', '#', '.', '.', '.', '.', '.', '.', '.', '.', '.', '.', '.', '.', '.', '.', '.', '.', '.', '.', '.', '.', '.', '.', '.']\n",
            "['.', '.', '.', '.', '.', '.', '#', '#', '.', '#', '.', '.', '.', '.', '.', '.', '.', '.', '.', '.', '.', '.', '.', '.', '.', '.', '.', '.', '.', '.', '.', '.']\n",
            "['.', '.', '.', '.', '.', '.', '.', '.', '.', '.', '.', '.', '.', '.', '!', '.', '.', '.', '.', '.', '.', '.', '.', '.', '.', '.', '.', '.', '.', '.', '.', '.']\n",
            "['.', '.', '.', '.', 'F', '.', '.', '.', '.', '#', '.', '.', '.', '.', '.', '.', '.', '.', '.', '.', '.', '.', 'x', '.', '.', '.', '.', '.', '.', '.', '.', '.']\n",
            "['.', '.', '.', '.', '.', '.', '.', 'D', '#', '.', '.', '.', '.', '.', '.', '.', '.', '.', '.', '.', '.', '.', '.', '.', '.', '.', '.', '$', '$', '.', '.', '!']\n",
            "['.', '.', '$', '$', '.', '.', '.', '.', '#', '#', '.', '.', '.', '.', '.', '.', '.', '.', '.', '.', '.', '.', '.', '.', '.', 'e', '.', '.', '$', '.', '.', '.']\n",
            "['.', '.', '.', '.', '.', '.', 'C', '#', '#', '.', '.', '.', '.', '.', '.', '.', '#', '.', '.', '.', '.', '.', '.', '.', '.', '.', '.', '.', '$', '.', '.', '.']\n",
            "['.', '.', '.', '.', 'H', 'B', '.', '#', '#', '.', '.', '.', '.', '.', '.', '.', '#', '#', '.', '.', '$', '.', '.', '.', '.', '.', '.', '.', '.', '.', '.', '.']\n",
            "['.', '.', '.', '.', '.', '.', '.', '.', '.', '.', '.', '.', '.', '!', '.', '#', '#', '.', '.', '.', '.', '.', '.', '.', '.', '.', '.', '.', '.', '.', '.', '.']\n",
            "['.', '.', '.', '.', '.', '.', '.', '#', '#', '.', '.', '.', '.', '.', '!', '#', '#', '#', '.', '.', '.', '.', '.', '.', '.', '.', '.', '.', 'h', '.', '.', '.']\n",
            "['.', '.', '.', '$', '.', '.', '.', 'G', '.', '.', '.', '.', '.', '.', '#', '#', '#', '#', '.', '.', '.', '.', '.', '.', '.', '.', '.', '.', '.', '.', '.', '.']\n",
            "['.', '.', '.', '$', '.', '.', '.', '.', '.', '.', '.', '.', '.', '#', '.', '.', '#', '.', '#', '.', '.', '.', '.', '.', '.', '.', '.', '.', '.', '.', '.', '.']\n",
            "['.', '.', '.', '.', '.', '.', '.', '.', '.', '.', '.', '.', '.', '.', '#', '.', '.', '.', '.', '.', '.', '.', '.', '.', '.', '.', '.', '.', '.', '.', '.', '.']\n"
          ],
          "name": "stdout"
        }
      ]
    },
    {
      "cell_type": "code",
      "metadata": {
        "id": "O16yOYQZbORm"
      },
      "source": [
        "prepMap = prepareMap(copy.deepcopy(map), myPlayer)\r\n",
        "prepMap3 = prepareMap3(copy.deepcopy(map), myPlayer, players, size=(32,32))"
      ],
      "execution_count": null,
      "outputs": []
    },
    {
      "cell_type": "code",
      "metadata": {
        "colab": {
          "base_uri": "https://localhost:8080/"
        },
        "id": "arGE-AltbTms",
        "outputId": "175ef22f-5350-4488-bd40-491126b97472"
      },
      "source": [
        "printMatrix(prepMap3)"
      ],
      "execution_count": null,
      "outputs": [
        {
          "output_type": "stream",
          "text": [
            "[1, 1, 1, 1, 1, -1, -1, -1, -1, -1, 1, 1, -1, 1, 1, 1, 1, 1, 1, 1, 1, 1, 1, 1, 1, 11, 1, 21, 1, 1, 21, 1]\n",
            "[1, 1, 1, 1, 1, 1, -1, -1, -1, -1, 1, 1, 1, 1, 1, 1, 1, 1, 1, 1, 1, 1, 1, 1, 1, 11, 1, 21, 1, 1, 21, 1]\n",
            "[1, 1, 1, 1, 1, -1, -1, -1, -1, 1, -1, -1, 1, 1, 1, 1, 1, 1, 1, 1, 1, 1, 1, 1, 1, 11, 1, 21, -2, -2, 21, 1]\n",
            "[1, 1, 1, 1, -1, 1, 1, -1, 1, 1, 1, 1, 1, 1, 1, 1, 1, 1, 1, 1, 1, 1, 1, 1, 1, 11, 1, 21, 11, 21, 21, 1]\n",
            "[1, 1, 1, 1, -1, -1, 1, 1, 1, 1, 1, 1, 1, 1, 1, 1, -2, -2, 1, 1, 1, 1, 1, 1, 1, 11, 1, 21, 11, 21, 21, 1]\n",
            "[1, 1, 1, 1, -1, 1, 1, 1, 1, 1, 1, 1, 1, 1, 1, 1, -2, -2, 13.0, 14.5, 16.0, 17.5, 19.0, 20.5, 22.0, 33.5, 25.0, 46.5, 38.0, 49.5, 41, 29.5]\n",
            "[-1, 1, 1, 1, 1, -1, 11, 11, 11, 11, 11, 11, 11, 11, 11.5, 13.0, 14.5, 16.0, 17.5, 19.0, 20.5, 22.0, 23.5, 25.0, 26.5, 38.0, 29.5, 31, 39.5, 48.0, 46.5, 25.0]\n",
            "[1, 1, 1, 1, 1, 1, 1, 1, 1, 1, 1, 1, 1, 1, 1, 1, 1, 1, 1, 1, 1, 1, 1, 1, 1, 11, 1, 21, 11, 21, 21, 1]\n",
            "[1, 1, 1, 1, -1, -1, 1, 1, -5, 1, 1, 1, -2, 1, 1, 1, 1, 1, 1, 1, 1, 1, 1, 1, 1, 11, 1, 21, 11, 21, 21, 1]\n",
            "[-1, 1, -1, -1, 1, 1, 1, 1, 1, 1, 1, -2, -2, 1, 1, 1, 1, 1, 1, 1, 1, 1, 1, 1, 1, 11, 1, 21, 11, 21, 21, 1]\n",
            "[-1, -1, 1, 1, 1, 1, 1, 1, 1, 1, 1, 1, 1, 1, 1, 1, 1, 1, 1, 1, 1, 1, 1, 1, 1, 11, 1, 21, 11, 21, 21, 1]\n",
            "[-1, 1, 1, 1, 1, 1, 1, 1, 1, 1, 1, 1, 1, 1, 1, 1, 1, 1, 1, -2, 1, 1, 1, 1, 1, 11, 1, 21, 11, 21, 21, 1]\n",
            "[1, -1, 11, 11, 11, 11, 11, 11, 11, 11, 11, 11, 11, 11, 11, 11, 11, 11.5, 13.0, 14.5, 16.0, 17.5, 19.0, 20.5, 22.0, 33.5, 25.0, 46.5, 38.0, 49.5, 31, 29.5]\n",
            "[-1, 1, -1, -1, -1, 1, 1, 1, 1, 1, 1, 1, -1, -1, 11, 11, 11.5, 13.0, 14.5, 16.0, 17.5, 19.0, 20.5, 22.0, 23.5, 35.0, 26.5, 48.0, 39.5, 31, 49.5, 28.0]\n",
            "[1, 1, 1, 1, 1, 1, -2, -2, 1, 1, 1, 1, -1, -1, 1, 1, 1, 1, 1, 1, 1, 1, 1, 1, 1, 11, 1, 21, 11, 21, 21, 1]\n",
            "[1, 1, 1, -1, -1, -1, 1, 1, 1, 1, 1, 1, 1, 1, 1, -2, 1, 1, 1, 1, 1, 1, 1, 1, 1, 11, 1, 21, 11, 21, 21, 1]\n",
            "[1, 1, 1, 1, 1, 1, 1, 1, -1, -1, 11, 11, 11, 11, 11.5, 13.0, 14.5, 16.0, 17.5, 19.0, 20.5, 22.0, 23.5, 25.0, 26.5, 38.0, 29.5, 41, 39.5, 48.0, 46.5, 25.0]\n",
            "[1, 1, 1, 1, -1, -1, 1, 1, -1, 1, 1, 1, 1, 1, 1, 1, 1, 1, 1, 1, 1, 1, 1, 1, 1, 11, 1, 21, 11, 21, 21, 1]\n",
            "[1, 1, 1, 1, 1, -1, 1, -1, -1, -1, 11, 11, 11, 11, 11, 11, 11.5, 13.0, 14.5, 16.0, 17.5, 19.0, 20.5, 22.0, 23.5, 35.0, 26.5, 48.0, 39.5, 41, 49.5, 28.0]\n",
            "[1, 1, 1, 1, 1, 1, 1, 1, -1, 1, 1, 1, 1, 1, 1, 1, 1, 1, 1, 1, 1, 1, 1, 1, 1, 11, 1, 21, 11, 21, 21, 1]\n",
            "[1, 1, 1, 1, 1, 1, -1, -1, 1, -1, 1, 1, 1, 1, 1, 1, 1, 1, 1, 1, 1, 1, 1, 1, 1, 11, 1, 21, 11, 21, 21, 1]\n",
            "[1, 1, 1, 1, 1, 1, 1, 1, 1, 1, 1, 1, 1, 1, 5, 1, 1, 1, 1, 1, 1, 1, 1, 1, 1, 11, 1, 21, 11, 21, 21, 1]\n",
            "[1, 1, 1, 1, 1, 1, 1, 1, 1, -1, 1, 1, 1, 1, 1, 1, 1, 1, 1, 1, 1, 1, 1, 1, 1, 11, 1, 21, 11, 21, 21, 1]\n",
            "[1, 1, 1, 1, 1, 1, 1, 1, -1, 1, 1, 1, 1, 1, 1, 1, 1, 1, 1, 1, 1, 1, 1, 1, 1, 11, 1, 21, 11, 21, 21, 5]\n",
            "[1, 1, 1, 1, 1, 1, 1, 1, -1, -1, 11, 11, 11.5, 13.0, 14.5, 16.0, 17.5, 19.0, 20.5, 22.0, 23.5, 25.0, 26.5, 28.0, 29.5, 31, 29.5, 48.0, 36.5, 45.0, 43.5, 22.0]\n",
            "[1, 1, 1, 1, 1, 1, 1, -1, -1, 1, 1, 1, 1, 1, 1, 1, -1, 1, 1, 1, 1, 1, 1, 1, 1, 11, 1, 21, 11, 21, 21, 1]\n",
            "[1, 1, 1, 1, 1, 1, 1, -1, -1, 1, 1, 1, 1, 1, 1, 1, -1, -1, 1, 1, 1, 1, 1, 1, 1, 11, 1, 21, 11.5, 21, 21, 1]\n",
            "[1, 1, 1, 1, 1, 1, 1, 1, 1, 1, 1, 1, 1, 5, 1, -1, -1, 1, 1, 1, 1, 1, 1, 1, 1, 11, 1, 21, 13.0, 21, 21, 1]\n",
            "[1, 1, 1, 1, 1, 1, 1, -1, -1, 1, 1, 1, 1, 1, 5, -1, -1, -1, 16.0, 17.5, 19.0, 20.5, 22.0, 23.5, 25.0, 36.5, 28.0, 49.5, 31, 49.5, 48.0, 26.5]\n",
            "[1, 1, 1, 1, 1, 1, 1, 1, 1, 1, 1, 1, 1, 1, -1, -1, -1, -1, 1, 1, 1, 1, 1, 1, 1, 11, 1, 21, 11, 21, 21, 1]\n",
            "[1, 1, 1, 1, 1, 1, 1, 1, 1, 1, 1, 1, 1, -1, 1, 1, -1, 1, -1, 1, 1, 1, 1, 1, 1, 11, 1, 21, 11, 21, 21, 1]\n",
            "[1, 1, 1, 1, 1, 1, 1, 1, 1, 1, 1, 1, 1, 1, -1, 1, 1, 1, 1, 1, 1, 1, 1, 1, 1, 11, 1, 21, 11, 21, 21, 1]\n"
          ],
          "name": "stdout"
        }
      ]
    },
    {
      "cell_type": "code",
      "metadata": {
        "id": "ntVhlDB1bhzH"
      },
      "source": [
        "posY, posX = findOnMap(map, 'A')\r\n",
        "flagY, flagX = findOnMap(map, myPlayer.enemyFlag)"
      ],
      "execution_count": null,
      "outputs": []
    },
    {
      "cell_type": "code",
      "metadata": {
        "colab": {
          "base_uri": "https://localhost:8080/"
        },
        "id": "FgEsDYj0bakb",
        "outputId": "34317454-71f4-4da6-d88e-715958f40025"
      },
      "source": [
        "print(tempMap[0])\r\n",
        "path1 = findPath(prepMap, posX, posY, flagX, flagY)\r\n",
        "print(path)"
      ],
      "execution_count": null,
      "outputs": [
        {
          "output_type": "stream",
          "text": [
            ".....#####..#...................\n",
            "......####......................\n",
            ".....####.##................&&..\n",
            "..A.#..#........................\n",
            "....##..........&&..............\n",
            ".E..#...........&&...$........b.\n",
            "#....#...............$.....g....\n",
            "................................\n",
            "....##..X...&...................\n",
            "#.##.......&&...................\n",
            "##..............................\n",
            "#..................&............\n",
            ".#............................d.\n",
            "#.###.......##...............c..\n",
            "......&&....##..................\n",
            "...###.........&................\n",
            "........##.................f....\n",
            "....##..#.......................\n",
            ".....#.###...................a..\n",
            "........#.......................\n",
            "......##.#......................\n",
            "..............!.................\n",
            "....F....#............x.........\n",
            ".......D#..................$$..!\n",
            "..$$....##...............e..$...\n",
            "......C##.......#...........$...\n",
            "....HB.##.......##..$...........\n",
            ".............!.##...............\n",
            ".......##.....!###..........h...\n",
            "...$...G......####..............\n",
            "...$.........#..#.#.............\n",
            "..............#.................\n",
            "«ENDOFMAP»\n",
            "\n",
            "+--------------------------------+\n",
            "|     #####  #                   |\n",
            "|      ####                      |\n",
            "|     #### ##                ##  |\n",
            "|  s #  #                        |\n",
            "|  x ##          ##              |\n",
            "|  xx#           ##              |\n",
            "|#  xx#                          |\n",
            "|    xxxxxx                      |\n",
            "|    ##  #xx #                   |\n",
            "|# ##      x##                   |\n",
            "|##        xx                    |\n",
            "|#          xxx     #            |\n",
            "| #           xxx                |\n",
            "|# ###       ## x                |\n",
            "|      ##    ## xxx              |\n",
            "|   ###         # x              |\n",
            "|        ##       xxxxx          |\n",
            "|    ##  #            x          |\n",
            "|     # ###           x          |\n",
            "|        #            x          |\n",
            "|      ## #           x          |\n",
            "|                     xx         |\n",
            "|         #            e         |\n",
            "|        #                       |\n",
            "|        ##                      |\n",
            "|       ##       #               |\n",
            "|       ##       ##              |\n",
            "|               ##               |\n",
            "|       ##      ###              |\n",
            "|              ####              |\n",
            "|             #  # #             |\n",
            "|              #                 |\n",
            "+--------------------------------+\n",
            "[(2, 3), (2, 4), (2, 5), (3, 5), (3, 6), (4, 6), (4, 7), (5, 7), (6, 7), (6, 8), (7, 8), (7, 9), (7, 10), (7, 11), (8, 11), (8, 12), (8, 13), (8, 14), (8, 15), (7, 15), (7, 16), (7, 17), (6, 17), (6, 18), (6, 19), (5, 19), (5, 20), (5, 21), (6, 21), (7, 21), (8, 21), (9, 21), (10, 21), (11, 21), (12, 21), (13, 21), (13, 22), (14, 22), (15, 22), (16, 22), (17, 22), (18, 22), (19, 22), (20, 22), (21, 22), (22, 22)]\n"
          ],
          "name": "stdout"
        }
      ]
    },
    {
      "cell_type": "code",
      "metadata": {
        "colab": {
          "base_uri": "https://localhost:8080/"
        },
        "id": "eIIlchMmdp-l",
        "outputId": "1698eb7c-5cf4-484b-a641-21858d0016e6"
      },
      "source": [
        "print(tempMap[0])\r\n",
        "path3 = findPath(prepMap3, posX, posY, flagX, flagY)\r\n",
        "print(path3)"
      ],
      "execution_count": null,
      "outputs": [
        {
          "output_type": "stream",
          "text": [
            ".....#####..#...................\n",
            "......####......................\n",
            ".....####.##................&&..\n",
            "..A.#..#........................\n",
            "....##..........&&..............\n",
            ".E..#...........&&...$........b.\n",
            "#....#...............$.....g....\n",
            "................................\n",
            "....##..X...&...................\n",
            "#.##.......&&...................\n",
            "##..............................\n",
            "#..................&............\n",
            ".#............................d.\n",
            "#.###.......##...............c..\n",
            "......&&....##..................\n",
            "...###.........&................\n",
            "........##.................f....\n",
            "....##..#.......................\n",
            ".....#.###...................a..\n",
            "........#.......................\n",
            "......##.#......................\n",
            "..............!.................\n",
            "....F....#............x.........\n",
            ".......D#..................$$..!\n",
            "..$$....##...............e..$...\n",
            "......C##.......#...........$...\n",
            "....HB.##.......##..$...........\n",
            ".............!.##...............\n",
            ".......##.....!###..........h...\n",
            "...$...G......####..............\n",
            "...$.........#..#.#.............\n",
            "..............#.................\n",
            "«ENDOFMAP»\n",
            "\n",
            "+--------------------------------+\n",
            "|     #####  #                   |\n",
            "|      ####                      |\n",
            "|     #### ##                ##  |\n",
            "|  s #  #                        |\n",
            "|  x ##          ##              |\n",
            "|  xx#           ##              |\n",
            "|#  xx#                          |\n",
            "|    xxx                         |\n",
            "|    ##xx#   #                   |\n",
            "|# ##   x   ##                   |\n",
            "|##     x                        |\n",
            "|#      xx          #            |\n",
            "| #      x                       |\n",
            "|# ###   x   ##                  |\n",
            "|      ##x   ##                  |\n",
            "|   ### xx      #                |\n",
            "|       x##                      |\n",
            "|    ##xx#                       |\n",
            "|     #x###                      |\n",
            "|     xx #                       |\n",
            "|     x## #                      |\n",
            "|     xxxxxxxxx                  |\n",
            "|         #   xxxxxxxxxe         |\n",
            "|        #                       |\n",
            "|        ##                      |\n",
            "|       ##       #               |\n",
            "|       ##       ##              |\n",
            "|               ##               |\n",
            "|       ##      ###              |\n",
            "|              ####              |\n",
            "|             #  # #             |\n",
            "|              #                 |\n",
            "+--------------------------------+\n",
            "[(2, 3), (2, 4), (2, 5), (3, 5), (3, 6), (4, 6), (4, 7), (5, 7), (6, 7), (6, 8), (7, 8), (7, 9), (7, 10), (7, 11), (8, 11), (8, 12), (8, 13), (8, 14), (8, 15), (7, 15), (7, 16), (7, 17), (6, 17), (6, 18), (6, 19), (5, 19), (5, 20), (5, 21), (6, 21), (7, 21), (8, 21), (9, 21), (10, 21), (11, 21), (12, 21), (13, 21), (13, 22), (14, 22), (15, 22), (16, 22), (17, 22), (18, 22), (19, 22), (20, 22), (21, 22), (22, 22)]\n"
          ],
          "name": "stdout"
        }
      ]
    },
    {
      "cell_type": "code",
      "metadata": {
        "id": "OXjkdcFEeAjz"
      },
      "source": [
        "coloredMap = buildMap(map)"
      ],
      "execution_count": null,
      "outputs": []
    },
    {
      "cell_type": "code",
      "metadata": {
        "id": "6NjffQZYfZGo"
      },
      "source": [
        "def printMapPath(map, size=(10,10)):\r\n",
        "  #beautiful_map = buildMap(map)\r\n",
        "  plt.figure(figsize=size)\r\n",
        "  plt.imshow(map, interpolation='nearest')\r\n",
        "  plt.xticks([])\r\n",
        "  plt.yticks([])\r\n",
        "  plt.show()"
      ],
      "execution_count": null,
      "outputs": []
    },
    {
      "cell_type": "code",
      "metadata": {
        "id": "zQDYGFXPez6B"
      },
      "source": [
        "for coord in path3[1:-1]:\r\n",
        "  coloredMap[coord[1],coord[0]] = colors[\"path\"]"
      ],
      "execution_count": null,
      "outputs": []
    },
    {
      "cell_type": "code",
      "metadata": {
        "colab": {
          "base_uri": "https://localhost:8080/",
          "height": 578
        },
        "id": "OHoxYIJ9ftPE",
        "outputId": "61554c5c-fa23-44e5-dcaa-6a6a6f6ff36b"
      },
      "source": [
        "printMapPath(coloredMap) # dumb path"
      ],
      "execution_count": null,
      "outputs": [
        {
          "output_type": "display_data",
          "data": {
            "image/png": "[encoded data removed]",
            "text/plain": [
              "<Figure size 720x720 with 1 Axes>"
            ]
          },
          "metadata": {
            "tags": []
          }
        }
      ]
    },
    {
      "cell_type": "code",
      "metadata": {
        "colab": {
          "base_uri": "https://localhost:8080/"
        },
        "id": "XOFawCc18mZD",
        "outputId": "6def233d-ab15-48f8-ce04-7cb7170a52fd"
      },
      "source": [
        "ch.startGame()"
      ],
      "execution_count": null,
      "outputs": [
        {
          "output_type": "stream",
          "text": [
            "[START] OK\n"
          ],
          "name": "stdout"
        },
        {
          "output_type": "execute_result",
          "data": {
            "text/plain": [
              "['OK', 'Game', 'started\\n']"
            ]
          },
          "metadata": {
            "tags": []
          },
          "execution_count": 213
        }
      ]
    },
    {
      "cell_type": "code",
      "metadata": {
        "colab": {
          "base_uri": "https://localhost:8080/"
        },
        "id": "MF_MiudF8SXF",
        "outputId": "43d9fcc6-081b-4d39-ea75-94491768307f"
      },
      "source": [
        "ch.move('S')\n",
        "ch.move('S')\n",
        "ch.move('S')"
      ],
      "execution_count": null,
      "outputs": [
        {
          "output_type": "stream",
          "text": [
            "[MOVE-S] OK\n",
            "[MOVE-S] OK\n",
            "[MOVE-S] OK\n"
          ],
          "name": "stdout"
        },
        {
          "output_type": "execute_result",
          "data": {
            "text/plain": [
              "['OK', 'moved\\n']"
            ]
          },
          "metadata": {
            "tags": []
          },
          "execution_count": 214
        }
      ]
    },
    {
      "cell_type": "code",
      "metadata": {
        "colab": {
          "base_uri": "https://localhost:8080/"
        },
        "id": "VjSByyqcbUdq",
        "outputId": "2f7e6977-450e-4c66-b16f-98882f97421b"
      },
      "source": [
        "# Get Status and Map\n",
        "status = ch.getStatus()\n",
        "print(status)\n",
        "myPlayer = extractMyInfo(status)\n",
        "players = extractPlayerInfo(status)\n",
        "map = updateMapFromStatus(map, myPlayer, players)"
      ],
      "execution_count": null,
      "outputs": [
        {
          "output_type": "stream",
          "text": [
            "GA: name=test-RRXY2PI1DV state=ACTIVE size=32 ratio=Q\n",
            "ME: symbol=a name=cisternino team=1 loyalty=1 energy=256 score=0\n",
            "PL: symbol=A name=6P64 team=0 x=2 y=30 state=ACTIVE\n",
            "PL: symbol=B name=K3RP team=0 x=1 y=14 state=ACTIVE\n",
            "PL: symbol=a name=cisternino team=1 x=26 y=6 state=ACTIVE\n",
            "PL: symbol=b name=MGJR team=1 x=28 y=30 state=ACTIVE\n",
            "PL: symbol=c name=M0F1 team=1 x=26 y=11 state=ACTIVE\n",
            "PL: symbol=d name=K3AH team=1 x=27 y=23 state=ACTIVE\n",
            "PL: symbol=e name=K6WV team=1 x=27 y=18 state=ACTIVE\n",
            "\n",
            "pos:(26,6)\n"
          ],
          "name": "stdout"
        }
      ]
    },
    {
      "cell_type": "code",
      "metadata": {
        "colab": {
          "base_uri": "https://localhost:8080/"
        },
        "id": "X5wnreeWijjx",
        "outputId": "72570223-484e-433f-c62b-99ede91022a7"
      },
      "source": [
        "printMatrix(map)"
      ],
      "execution_count": null,
      "outputs": [
        {
          "output_type": "stream",
          "text": [
            "['#', '.', '.', '.', '.', '.', '.', '.', '.', '.', '.', '.', '.', '.', '.', '.', '.', '.', '.', '.', '.', '.', '.', '.', '.', '.', '.', '.', '.', '.', '.', '.']\n",
            "['$', '$', '.', '.', '.', '.', '.', '.', '.', '.', '.', '.', '.', '.', '.', '.', '.', '.', '.', '.', '.', '.', '.', '.', '.', '.', '.', '.', 'l', '.', '.', '.']\n",
            "['.', '$', '.', '.', '.', '.', '.', '.', '.', '.', '.', '.', '.', '.', '.', '.', '.', '.', '.', '.', '.', '.', '.', '.', '.', '.', '.', 'g', '.', '.', '.', '.']\n",
            "['.', '.', '.', '.', '.', '.', '.', '.', '.', '.', '.', '.', '.', '$', '.', '.', '.', '.', '.', '.', '.', '.', '.', 'x', '.', '.', '.', '.', '.', '.', '.', '.']\n",
            "['.', '&', '.', '.', '.', '.', '.', '.', 'X', '.', '.', '.', '.', '.', '.', '.', '.', '.', '.', '.', '.', '.', '.', '.', '.', '.', '.', '.', '&', '.', 'c', '.']\n",
            "['.', '.', '.', '.', '.', '.', '.', '.', '.', '.', '.', '.', '.', '.', '.', '.', '.', '.', '.', '.', '.', '.', '.', '.', '.', '.', '.', '&', '&', '.', '.', '.']\n",
            "['#', '.', '.', '.', '.', '.', '.', 'D', '#', '.', '.', '.', '.', '.', '.', '.', '.', '.', '.', '.', '.', '.', '.', '.', '.', 'b', '.', '.', '.', '.', '.', '.']\n",
            "['.', '.', '$', '$', '.', '.', '.', '.', '.', '#', '.', '.', '.', '.', '.', '.', '.', '.', '.', '.', '.', '.', '.', '.', '.', '.', '.', '.', '.', '.', '.', '.']\n",
            "['.', '.', '$', '$', '.', '.', '.', '.', '.', '.', '#', '#', '#', '.', '.', '.', '.', '.', '.', '.', '.', '.', '.', '.', '.', '.', '.', '.', '.', '.', '.', '.']\n",
            "['.', '$', '$', '$', '.', '.', '.', '.', '#', '#', '.', '.', '.', '.', '.', '.', '.', '.', '.', '.', '.', '.', '.', '!', '.', '.', '.', '.', '.', '.', '.', '.']\n",
            "['.', '.', '.', '.', 'A', '.', '.', '.', '.', '#', '#', '#', '#', '.', '.', '.', '&', '&', '.', '.', '.', '.', '.', '.', '.', '.', '.', 'j', '.', 'f', '.', '.']\n",
            "['.', '.', '.', '.', '.', '.', '.', '.', '.', '.', '.', '.', '.', '.', '.', '.', '.', '.', '.', '.', '.', '.', '.', '.', '.', '.', '.', '.', '.', '.', '.', '.']\n",
            "['.', '.', '.', 'C', '.', '.', '.', '.', '.', '.', '#', '#', '.', '.', '.', '.', '.', '.', '.', '!', '.', '.', '.', '.', '.', '.', '.', 'a', '.', '.', '.', '.']\n",
            "['.', '#', '.', '.', '.', '#', '.', '.', '.', '.', '.', '.', '.', '.', '.', '.', '.', '.', '.', '.', '.', '.', '.', '.', '.', '.', '.', '.', '.', '@', '@', '@']\n",
            "['#', '.', '.', '.', '#', '.', '.', '#', '#', '#', '#', '.', '.', '.', '.', '.', '.', '.', '.', '.', '.', '.', '.', '.', '.', '.', '.', '.', '.', '.', '.', '@']\n",
            "['.', '#', '#', '.', '.', '#', '.', '.', '#', '#', '.', '.', '.', '.', '.', '.', '.', '.', '.', '.', '.', '.', '.', '.', '.', '@', '@', '@', '@', '.', '@', '@']\n",
            "['.', '.', '.', '#', '#', '.', '#', '#', '#', '.', '.', '.', '.', '.', '.', '.', '.', '.', '.', '.', '.', '.', '.', '.', '.', '@', '.', '@', '@', '.', '@', '.']\n",
            "['.', '#', '.', '.', '.', 'B', '.', '&', '&', '.', '.', '.', '.', '.', '.', '.', '.', '.', '.', '.', '.', '.', '.', '.', '@', '@', '@', '@', '@', '@', '@', '.']\n",
            "['#', '#', '.', '.', '.', '.', '.', '.', '.', '.', '.', '.', '.', '.', '.', '.', '.', '.', '.', '.', '.', '.', '.', '.', '.', '.', '.', '@', '@', '.', '.', '.']\n",
            "['.', '.', '.', '.', '.', '.', '.', '.', '.', '.', '.', '.', '.', '.', '.', '.', '.', '.', '.', '.', '.', '.', '.', '.', '.', '.', '.', '@', '.', '.', '.', '.']\n",
            "['.', '.', '.', '.', '.', '.', '.', '.', '.', '.', '.', '.', '.', '.', '.', '&', '&', '.', '.', '.', '.', '.', '.', '.', '.', '.', '@', '@', '.', '.', '.', '.']\n",
            "['.', '.', '.', '.', '.', '.', '.', '.', '.', '.', '.', '.', '.', '.', '.', '.', '.', '.', '.', '.', '.', '.', '.', '.', '.', '@', '@', '@', '.', '.', 'k', '.']\n",
            "['.', '.', '.', '.', '.', '.', '.', '.', '.', '.', '.', '.', '.', '.', '.', '.', '.', '.', '.', '.', '.', '.', '.', '.', '.', '.', '$', '$', '.', '.', '$', '.']\n",
            "['.', '.', '.', '.', '.', '.', '.', '.', '.', '.', '.', '.', '.', '.', '.', '.', '.', '.', '.', '.', '#', '.', '.', '.', '.', '.', '.', '$', '$', '.', '$', '.']\n",
            "['.', '.', '.', '.', '.', '.', '.', '.', '.', '.', '.', '.', '.', '.', '.', '.', '.', '.', '.', '.', '.', '.', '#', '#', '.', '!', '.', '.', '.', '.', '.', '.']\n",
            "['.', '.', '.', '.', '.', '.', '.', '.', '.', '.', '.', '&', '.', '.', '.', '.', '.', '.', '.', '#', '#', '#', '#', '.', '.', '.', '.', '.', '.', '.', '.', '.']\n",
            "['.', '.', '.', '.', '@', '.', '.', '.', '.', '.', '.', '&', '.', '.', '.', '.', '.', '.', '.', '.', '#', '#', '#', '.', '.', '.', '.', '.', '.', 'd', '.', '.']\n",
            "['.', '.', '.', '.', '@', '.', '.', '.', '.', '.', '.', '.', '.', '.', '.', '.', '.', '.', '.', '.', '#', '#', '#', '.', '.', '.', '.', '.', '.', '.', '.', '.']\n",
            "['.', '.', '@', '@', '@', '@', '.', '.', '.', '.', '.', '.', '.', '.', '.', '.', '.', '.', '.', '.', '.', '.', '#', '.', '.', '.', '.', 'h', '.', '.', '.', '.']\n",
            "['.', '@', '@', '@', '@', '.', '.', '.', '.', '.', '.', '.', '.', '.', '.', '.', '.', '.', '.', '.', '.', '#', '#', '.', '.', '.', '.', '.', '.', 'i', 'e', '.']\n",
            "['.', '.', '@', '@', '@', '@', '.', '.', '.', '.', '.', '.', '.', '.', '.', '.', '.', '.', '.', '.', '#', '#', '.', '.', '.', '.', '.', '.', '.', '.', '.', '.']\n",
            "['.', '.', '@', '@', '@', '@', '.', '.', '.', '.', '.', '.', '.', '.', '.', '.', '.', '.', '.', '.', '.', '.', '.', '.', '.', '.', '.', '.', '.', '.', '.', '.']\n"
          ],
          "name": "stdout"
        }
      ]
    },
    {
      "cell_type": "code",
      "metadata": {
        "colab": {
          "base_uri": "https://localhost:8080/"
        },
        "id": "jrW-vn-uhuba",
        "outputId": "36ae3e10-479d-408e-fa19-84b408dd6f73"
      },
      "source": [
        "posY, posX = findOnMap(map, 'a')\n",
        "posY, posX"
      ],
      "execution_count": null,
      "outputs": [
        {
          "output_type": "execute_result",
          "data": {
            "text/plain": [
              "(6, 26)"
            ]
          },
          "metadata": {
            "tags": []
          },
          "execution_count": 218
        }
      ]
    },
    {
      "cell_type": "code",
      "metadata": {
        "colab": {
          "base_uri": "https://localhost:8080/"
        },
        "id": "ZVNdy1L4h0bs",
        "outputId": "f25aeba2-f34a-4983-9a9d-f2a09ab7be32"
      },
      "source": [
        "printMatrix(map)"
      ],
      "execution_count": null,
      "outputs": [
        {
          "output_type": "stream",
          "text": [
            "['@', '@', '.', '.', '.', '.', '.', '.', '.', '.', '.', '.', '.', '.', '.', '.', '.', '.', '.', '.', '.', '.', '.', '.', '.', '.', '.', '.', '.', '.', '.', '.']\n",
            "['.', '.', '.', '.', '.', '.', '.', '.', '.', '.', '.', '.', '.', '.', '.', '.', '.', '.', '.', '.', '.', '.', '.', '.', '.', '.', '.', '.', '.', '.', '.', '.']\n",
            "['.', '.', '.', '.', '.', '.', '.', '.', '.', '.', '.', '.', '.', '.', '.', '.', '.', '.', '.', '.', '.', '.', '.', '.', '.', '.', '.', '.', '.', '.', '.', '.']\n",
            "['.', '.', '.', '.', '.', '.', '.', '.', '.', '.', '.', '.', '.', '.', '.', '.', '.', '.', '.', '.', '.', '.', '.', '.', '.', '.', '.', '.', '.', '.', '.', '.']\n",
            "['.', '.', '.', '.', '.', '.', '.', '.', '.', '.', '.', '.', '.', '.', '.', '$', '$', '#', '#', '.', '.', '.', '.', '.', '.', '.', '.', '.', '.', '.', '.', '.']\n",
            "['.', '.', '.', '$', '.', '.', '.', '.', '.', '.', '.', '.', '.', '.', '$', '$', '.', '.', '#', '.', '.', '.', '&', '.', '.', '.', '.', '.', '.', '.', '.', '.']\n",
            "['.', '.', '.', '$', '$', '.', '.', '.', '.', '.', '.', '.', '.', '$', '$', '.', '#', '.', '#', '.', '.', '.', '.', '.', '.', '.', 'a', '.', '.', '.', '.', '.']\n",
            "['.', '.', '.', '.', '.', '.', '.', '.', '.', '.', '.', '.', '$', '$', '$', '#', '.', '#', '#', '.', '.', '.', '.', '.', '.', '.', '.', '.', '.', '.', '.', '.']\n",
            "['.', '.', '.', '.', '.', '.', '.', '.', '.', '.', '.', '.', '.', '.', '.', '#', '#', '#', '#', '.', '.', '.', '.', '.', '.', '.', '.', '.', '.', '$', '.', '.']\n",
            "['.', '.', '.', '.', '.', '.', '.', '.', '.', '.', '.', '.', '.', '.', '.', '.', '.', '#', '#', '.', '.', '.', '.', '.', '.', '.', '.', '!', '$', '$', '.', '.']\n",
            "['.', '.', '.', '.', '.', '.', '.', '.', '.', '.', '.', '.', '.', '.', '#', '.', '#', '#', '#', '.', '.', '.', '.', '.', '.', '.', '.', '.', '.', '.', '.', '.']\n",
            "['.', '.', '.', '.', '.', '.', '.', '~', '.', '.', '.', '#', '.', '#', '#', '#', '.', '#', '#', '.', '.', '.', '.', '.', '.', '.', 'c', '.', '.', 'x', '.', '.']\n",
            "['.', '.', 'X', '.', '.', '.', '~', '.', '.', '.', '.', '.', '#', '#', '#', '#', '#', '.', '#', '#', '.', '.', '.', '.', '.', '.', '.', '.', '.', '.', '.', '.']\n",
            "['.', '.', '.', '.', '.', '.', '.', '~', '~', '.', '.', '#', '#', '.', '#', '#', '#', '#', '#', '.', '.', '.', '.', '.', '.', '.', '.', '.', '.', '.', '.', '.']\n",
            "['.', 'B', '.', '.', '.', '.', '.', '.', '~', '~', '.', '.', '#', '#', '#', '#', '#', '#', '#', '.', '.', '.', '.', '.', '.', '.', '.', '.', '.', '.', '.', '.']\n",
            "['.', '.', '.', '.', '.', '.', '#', '.', '.', '.', '~', '.', '.', '#', '#', '#', '#', '#', '#', '.', '.', '.', '.', '$', '.', '.', '.', '.', '.', '.', '.', '.']\n",
            "['.', '.', '.', '$', '$', '.', '.', '#', '.', '.', '.', '~', '.', '.', '#', '.', '#', '#', '.', '.', '.', '.', '.', '$', '.', '.', '.', '.', '.', '.', '.', '.']\n",
            "['.', '.', '.', '.', '.', '.', '.', '#', '#', '.', '.', '~', '.', '.', '#', '#', '#', '#', '#', '.', '.', '.', '.', '.', '.', '.', '.', '.', '.', '.', '.', '.']\n",
            "['.', '.', '.', '.', '.', '.', '&', '.', '#', '.', '.', '~', '.', '#', '#', '.', '#', '.', '#', '#', '.', '.', '.', '.', '.', '.', '.', 'e', '.', '.', '.', '.']\n",
            "['.', '.', '.', '#', '.', '.', '.', '.', '#', '.', '~', '.', '.', '#', '#', '#', '#', '#', '#', '.', '$', '$', '&', '.', '.', '.', '.', '.', '.', '.', '.', '.']\n",
            "['.', '#', '.', '.', '.', '#', '.', '.', '.', '#', '.', '~', '.', '#', '#', '#', '#', '#', '.', '.', '.', '&', '&', '.', '.', '.', '.', '&', '&', '.', '.', '.']\n",
            "['.', '.', '#', '#', '#', '.', '#', '#', '#', '~', '~', '~', '~', '#', '#', '#', '#', '#', '.', '.', '.', '.', '.', '.', '.', '.', '.', '&', '.', '.', '.', '.']\n",
            "['.', '#', '#', '#', '#', '#', '#', '#', '#', '.', '~', '.', '.', '#', '#', '#', '#', '#', '.', '.', '&', '.', '#', '.', '.', '.', '.', '.', '.', '.', '.', '.']\n",
            "['.', '.', '#', '.', '#', '#', '#', '.', '.', '~', '.', '.', '.', '.', '#', '#', '#', '#', '.', '.', '.', '.', '#', '.', '.', '.', '.', 'd', '.', '.', '.', '.']\n",
            "['.', '.', '.', '#', '#', '#', '#', '.', '~', '~', '~', '.', '.', '#', '#', '#', '#', '#', '.', '.', '.', '.', '#', '.', '.', '.', '.', '.', '.', '.', '.', '.']\n",
            "['.', '.', '#', '#', '.', '#', '.', '.', '.', '~', '.', '.', '.', '.', '.', '#', '.', '.', '.', '.', '.', '.', '.', '.', '.', '.', '.', '.', '.', '.', '.', '.']\n",
            "['.', '.', '.', '#', '#', '#', '.', '~', '~', '~', '.', '.', '#', '.', '#', '#', '.', '#', '#', '.', '!', '.', '.', '.', '.', '.', '.', '.', '.', '.', '.', '.']\n",
            "['.', '.', '#', '.', '.', '#', '.', '~', '~', '.', '~', '.', '.', '.', '.', '#', '.', '.', '.', '.', '.', '.', '.', '.', '.', '.', '.', '.', '.', '.', '.', '.']\n",
            "['.', '.', '.', '.', '#', '.', '.', '.', '.', '~', '~', '.', '#', '&', '.', '.', '#', '#', '#', '.', '.', '.', '.', '.', '.', '.', '.', '.', '.', '.', '.', '.']\n",
            "['.', '.', '.', '.', '.', '.', '.', '~', '~', '~', '.', '.', '.', '.', '.', '.', '.', '#', '.', '.', '.', '.', '.', '.', '.', '.', '.', '.', '.', '.', '.', '.']\n",
            "['.', '.', 'A', '.', '.', '.', '.', '~', '.', '~', '.', '#', '.', '.', '.', '.', '.', '.', '.', '.', '.', '.', '.', '.', '.', '.', '.', '.', 'b', '.', '.', '.']\n",
            "['.', '.', '.', '.', '.', '.', '.', '.', '~', '.', '~', '.', '.', '.', '.', '.', '.', '.', '.', '.', '.', '.', '.', '.', '.', '.', '.', '.', '.', '.', '.', '.']\n"
          ],
          "name": "stdout"
        }
      ]
    },
    {
      "cell_type": "code",
      "metadata": {
        "colab": {
          "base_uri": "https://localhost:8080/"
        },
        "id": "P0I6MfE3YMK6",
        "outputId": "d33d6b6e-180c-4634-f8c7-ad382caf732d"
      },
      "source": [
        "for player in players.values():\n",
        "  res = ch.judge(player.name, 'AI')\n",
        "  print(res)"
      ],
      "execution_count": null,
      "outputs": [
        {
          "output_type": "stream",
          "text": [
            "[JUDGE-JNRP] OK\n",
            "['OK', 'Noted.\\n']\n",
            "[JUDGE-E0L8] OK\n",
            "['OK', 'Noted.\\n']\n",
            "[JUDGE-QD6D] OK\n",
            "['OK', 'Noted.\\n']\n",
            "[JUDGE-VTTT] OK\n",
            "['OK', 'Noted.\\n']\n"
          ],
          "name": "stdout"
        }
      ]
    },
    {
      "cell_type": "code",
      "metadata": {
        "colab": {
          "base_uri": "https://localhost:8080/"
        },
        "id": "NbANcL9ClBri",
        "outputId": "d1574fdd-e568-46d3-af09-3fd298939d34"
      },
      "source": [
        "# PER ORA VA CAMBIATO A MANO OGNI VOLTA!!!\n",
        "flagY, flagX = findOnMap(map,myPlayer.enemyFlag)\n",
        "posY, posX = findOnMap(map,myPlayer.symbol)\n",
        "print(posY)\n",
        "print(posX)"
      ],
      "execution_count": null,
      "outputs": [
        {
          "output_type": "stream",
          "text": [
            "12\n",
            "8\n"
          ],
          "name": "stdout"
        }
      ]
    },
    {
      "cell_type": "code",
      "metadata": {
        "colab": {
          "base_uri": "https://localhost:8080/",
          "height": 36
        },
        "id": "oYf_fIaKisPX",
        "outputId": "c9d5abce-5cd3-4995-ad9d-a6953b63aac0"
      },
      "source": [
        "myPlayer.symbol"
      ],
      "execution_count": null,
      "outputs": [
        {
          "output_type": "execute_result",
          "data": {
            "application/vnd.google.colaboratory.intrinsic+json": {
              "type": "string"
            },
            "text/plain": [
              "'A'"
            ]
          },
          "metadata": {
            "tags": []
          },
          "execution_count": 119
        }
      ]
    },
    {
      "cell_type": "code",
      "metadata": {
        "colab": {
          "base_uri": "https://localhost:8080/"
        },
        "id": "w7QC5yk0bsH5",
        "outputId": "fae51804-3566-4918-8dab-89976589e1b4"
      },
      "source": [
        "print(tempMap[0])\n",
        "path = findPath(prepMap, posX, posY, flagX, flagY)\n",
        "print(path)"
      ],
      "execution_count": null,
      "outputs": [
        {
          "output_type": "stream",
          "text": [
            "~...............................\n",
            ".................###............\n",
            "................................\n",
            ".................#...##.........\n",
            ".....................##.........\n",
            ".......$........##...#....#.....\n",
            "~...............##...#.#...#....\n",
            "................###...###.#.#...\n",
            "...................##.###.....#.\n",
            ".....&............#...##...#.##.\n",
            "...B.&.........$.......#..#....#\n",
            "...............$.......#.....#..\n",
            ".....X&A.......$............#...\n",
            "................................\n",
            "...........................#....\n",
            ".............#..............###.\n",
            "............#.........x...#..##.\n",
            "...........................####.\n",
            "..................b....#&..####.\n",
            ".............&.........#&...##.#\n",
            "......................##......#.\n",
            "......................#.........\n",
            ".............$$$$$...#.a........\n",
            "....$$.........&$...............\n",
            "...............&..c##...........\n",
            "@@..............................\n",
            "@@.................#............\n",
            "@..................#............\n",
            "....................&...........\n",
            "@@..............................\n",
            "@...............................\n",
            "@@..............................\n",
            "«ENDOFMAP»\n",
            "\n",
            "[(8, 12), (9, 12), (9, 13), (10, 13), (11, 13), (12, 13), (13, 13), (14, 13), (15, 13), (16, 13), (17, 13), (18, 13), (18, 14), (19, 14), (19, 15), (20, 15), (20, 16), (21, 16), (22, 16)]\n"
          ],
          "name": "stdout"
        }
      ]
    },
    {
      "cell_type": "code",
      "metadata": {
        "colab": {
          "base_uri": "https://localhost:8080/"
        },
        "id": "HF-Y5YblrPRX",
        "outputId": "cdfaf0e6-0ca2-4bc2-9148-f699d9cc6021"
      },
      "source": [
        "ch.move(\"N\")"
      ],
      "execution_count": null,
      "outputs": [
        {
          "output_type": "stream",
          "text": [
            "[MOVE-N] OK\n"
          ],
          "name": "stdout"
        },
        {
          "output_type": "execute_result",
          "data": {
            "text/plain": [
              "['OK', 'moved\\n']"
            ]
          },
          "metadata": {
            "tags": []
          },
          "execution_count": 28
        }
      ]
    },
    {
      "cell_type": "code",
      "metadata": {
        "colab": {
          "base_uri": "https://localhost:8080/"
        },
        "id": "AZYCPTN9rR5U",
        "outputId": "e742de69-c3d6-40ba-fcf8-d5f68bd52436"
      },
      "source": [
        "ch.move(\"S\")"
      ],
      "execution_count": null,
      "outputs": [
        {
          "output_type": "stream",
          "text": [
            "[MOVE-S] OK\n"
          ],
          "name": "stdout"
        },
        {
          "output_type": "execute_result",
          "data": {
            "text/plain": [
              "['OK', 'moved\\n']"
            ]
          },
          "metadata": {
            "tags": []
          },
          "execution_count": 29
        }
      ]
    },
    {
      "cell_type": "code",
      "metadata": {
        "colab": {
          "base_uri": "https://localhost:8080/"
        },
        "id": "wDcUUSlGrRfQ",
        "outputId": "6cc703a8-c208-48e7-e999-7acad89eb023"
      },
      "source": [
        "ch.move(\"W\")"
      ],
      "execution_count": null,
      "outputs": [
        {
          "output_type": "stream",
          "text": [
            "[MOVE-W] OK\n"
          ],
          "name": "stdout"
        },
        {
          "output_type": "execute_result",
          "data": {
            "text/plain": [
              "['OK', 'moved\\n']"
            ]
          },
          "metadata": {
            "tags": []
          },
          "execution_count": 30
        }
      ]
    },
    {
      "cell_type": "code",
      "metadata": {
        "colab": {
          "base_uri": "https://localhost:8080/"
        },
        "id": "DhtsPOrQqEk5",
        "outputId": "67f03891-51f1-4d0b-9f0d-1b3d97b3db01"
      },
      "source": [
        "ch.move(\"E\")"
      ],
      "execution_count": null,
      "outputs": [
        {
          "output_type": "stream",
          "text": [
            "[MOVE-E] OK\n"
          ],
          "name": "stdout"
        },
        {
          "output_type": "execute_result",
          "data": {
            "text/plain": [
              "['OK', 'moved\\n']"
            ]
          },
          "metadata": {
            "tags": []
          },
          "execution_count": 111
        }
      ]
    },
    {
      "cell_type": "code",
      "metadata": {
        "colab": {
          "base_uri": "https://localhost:8080/"
        },
        "id": "zJUBbCAYkEJ2",
        "outputId": "b7ecdfec-b351-4c9c-f41d-eff5f56e924e"
      },
      "source": [
        "p = pathToCommand(ch, path)"
      ],
      "execution_count": null,
      "outputs": [
        {
          "output_type": "stream",
          "text": [
            "[MOVE-S] OK\n",
            "[MOVE-W] OK\n",
            "[MOVE-W] OK\n",
            "[MOVE-W] OK\n",
            "[MOVE-W] OK\n",
            "[MOVE-W] OK\n",
            "[MOVE-W] OK\n",
            "[MOVE-S] OK\n",
            "[MOVE-W] OK\n",
            "[MOVE-S] OK\n",
            "[MOVE-W] OK\n",
            "[MOVE-S] OK\n",
            "[MOVE-S] OK\n",
            "[MOVE-S] OK\n",
            "[MOVE-S] OK\n",
            "[MOVE-W] OK\n",
            "[MOVE-W] OK\n",
            "[MOVE-W] OK\n",
            "[MOVE-W] OK\n",
            "[MOVE-S] OK\n",
            "[MOVE-S] OK\n",
            "[MOVE-S] OK\n",
            "[MOVE-S] OK\n",
            "[MOVE-W] OK\n",
            "[MOVE-S] OK\n",
            "[MOVE-S] OK\n",
            "[MOVE-S] OK\n",
            "[MOVE-S] OK\n",
            "[MOVE-W] OK\n",
            "[MOVE-S] OK\n",
            "[MOVE-S] OK\n",
            "[MOVE-S] OK\n",
            "[MOVE-S] OK\n",
            "[MOVE-S] OK\n",
            "[MOVE-S] OK\n",
            "[MOVE-S] OK\n",
            "[MOVE-W] OK\n",
            "[MOVE-W] OK\n",
            "[MOVE-S] OK\n",
            "[MOVE-S] OK\n",
            "[MOVE-S] OK\n",
            "[MOVE-W] OK\n",
            "[MOVE] Done!\n"
          ],
          "name": "stdout"
        }
      ]
    },
    {
      "cell_type": "code",
      "metadata": {
        "colab": {
          "base_uri": "https://localhost:8080/"
        },
        "id": "DSY64n97lp5O",
        "outputId": "1a46c9a0-9382-4b0b-dac1-4211711ec42c"
      },
      "source": [
        "# Get Status and Map\n",
        "status = ch.getStatus()\n",
        "print(status)\n",
        "print(gameState(status))"
      ],
      "execution_count": null,
      "outputs": [
        {
          "output_type": "stream",
          "text": [
            "GA: name=ai0-2KS7X0YS80 state=FINISHED size=32\n",
            "ME: symbol=A name=cisternino team=0 loyalty=0 energy=256 score=130\n",
            "PL: symbol=A name=cisternino team=0 x=22 y=18 state=ACTIVE\n",
            "PL: symbol=B name=RZU9 team=0 x=7 y=21 state=ACTIVE\n",
            "PL: symbol=a name=3PCH team=1 x=20 y=10 state=ACTIVE\n",
            "PL: symbol=b name=BN1J team=1 x=23 y=21 state=ACTIVE\n",
            "PL: symbol=c name=Y1KW team=1 x=22 y=28 state=ACTIVE\n",
            "\n",
            "FINISHED\n"
          ],
          "name": "stdout"
        }
      ]
    },
    {
      "cell_type": "code",
      "metadata": {
        "id": "JVYOOIHb3BGo"
      },
      "source": [
        "chat = Chat(host, chatPort, myPlayer)\n",
        "chat.join('4chan', 'ai0', myPlayer.team)\n",
        "chat.post('ai0:0', 'testo2')"
      ],
      "execution_count": null,
      "outputs": []
    },
    {
      "cell_type": "code",
      "metadata": {
        "id": "KG1TEIt8Sg1F"
      },
      "source": [
        "string1 = '#prova @GameServer'"
      ],
      "execution_count": null,
      "outputs": []
    }
  ]
}